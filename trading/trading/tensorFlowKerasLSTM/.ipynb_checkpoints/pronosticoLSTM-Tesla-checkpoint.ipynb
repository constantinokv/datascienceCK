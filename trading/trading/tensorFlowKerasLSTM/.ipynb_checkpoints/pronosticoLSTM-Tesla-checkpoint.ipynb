{
 "cells": [
  {
   "cell_type": "code",
   "execution_count": 1,
   "metadata": {},
   "outputs": [],
   "source": [
    "import pandas as pd\n",
    "import numpy as np\n",
    "import os\n",
    "import matplotlib.pyplot as plt\n",
    "import time\n",
    "\n",
    "plt.style.use(style=\"seaborn\")\n",
    "%matplotlib inline"
   ]
  },
  {
   "cell_type": "code",
   "execution_count": 2,
   "metadata": {},
   "outputs": [],
   "source": [
    "#print(data[4])"
   ]
  },
  {
   "cell_type": "code",
   "execution_count": 3,
   "metadata": {},
   "outputs": [
    {
     "name": "stdout",
     "output_type": "stream",
     "text": [
      "{'Meta Data': {'1. Information': 'Intraday (5min) open, high, low, close prices and volume', '2. Symbol': 'IBM', '3. Last Refreshed': '2023-03-03 18:35:00', '4. Interval': '5min', '5. Output Size': 'Compact', '6. Time Zone': 'US/Eastern'}, 'Time Series (5min)': {'2023-03-03 18:35:00': {'1. open': '129.8000', '2. high': '129.8000', '3. low': '129.8000', '4. close': '129.8000', '5. volume': '377'}, '2023-03-03 18:30:00': {'1. open': '129.7600', '2. high': '129.7600', '3. low': '129.7600', '4. close': '129.7600', '5. volume': '179'}, '2023-03-03 18:20:00': {'1. open': '129.6500', '2. high': '129.6500', '3. low': '129.6500', '4. close': '129.6500', '5. volume': '237'}, '2023-03-03 17:15:00': {'1. open': '129.6500', '2. high': '129.6500', '3. low': '129.6500', '4. close': '129.6500', '5. volume': '300'}, '2023-03-03 17:05:00': {'1. open': '129.6500', '2. high': '129.6500', '3. low': '129.6500', '4. close': '129.6500', '5. volume': '500'}, '2023-03-03 16:15:00': {'1. open': '129.6400', '2. high': '129.6400', '3. low': '129.6400', '4. close': '129.6400', '5. volume': '12653'}, '2023-03-03 16:05:00': {'1. open': '129.6400', '2. high': '129.6400', '3. low': '129.6400', '4. close': '129.6400', '5. volume': '66535'}, '2023-03-03 16:00:00': {'1. open': '129.6050', '2. high': '129.7200', '3. low': '129.5700', '4. close': '129.6400', '5. volume': '205791'}, '2023-03-03 15:55:00': {'1. open': '129.6400', '2. high': '129.6800', '3. low': '129.5300', '4. close': '129.6000', '5. volume': '90630'}, '2023-03-03 15:50:00': {'1. open': '129.5500', '2. high': '129.6312', '3. low': '129.5300', '4. close': '129.6312', '5. volume': '45617'}, '2023-03-03 15:45:00': {'1. open': '129.6500', '2. high': '129.6500', '3. low': '129.5200', '4. close': '129.5500', '5. volume': '48434'}, '2023-03-03 15:40:00': {'1. open': '129.6650', '2. high': '129.7100', '3. low': '129.6500', '4. close': '129.6550', '5. volume': '37065'}, '2023-03-03 15:35:00': {'1. open': '129.7300', '2. high': '129.7400', '3. low': '129.6400', '4. close': '129.6700', '5. volume': '35735'}, '2023-03-03 15:30:00': {'1. open': '129.7550', '2. high': '129.7700', '3. low': '129.6900', '4. close': '129.7400', '5. volume': '20474'}, '2023-03-03 15:25:00': {'1. open': '129.7200', '2. high': '129.7986', '3. low': '129.7200', '4. close': '129.7400', '5. volume': '15406'}, '2023-03-03 15:20:00': {'1. open': '129.7700', '2. high': '129.7800', '3. low': '129.6900', '4. close': '129.7100', '5. volume': '24149'}, '2023-03-03 15:15:00': {'1. open': '129.8500', '2. high': '129.8500', '3. low': '129.7400', '4. close': '129.7700', '5. volume': '28158'}, '2023-03-03 15:10:00': {'1. open': '129.7300', '2. high': '129.9050', '3. low': '129.7200', '4. close': '129.8900', '5. volume': '30667'}, '2023-03-03 15:05:00': {'1. open': '129.7100', '2. high': '129.7300', '3. low': '129.6500', '4. close': '129.7205', '5. volume': '12783'}, '2023-03-03 15:00:00': {'1. open': '129.6050', '2. high': '129.7100', '3. low': '129.6000', '4. close': '129.7100', '5. volume': '20095'}, '2023-03-03 14:55:00': {'1. open': '129.6100', '2. high': '129.6500', '3. low': '129.6050', '4. close': '129.6200', '5. volume': '12822'}, '2023-03-03 14:50:00': {'1. open': '129.6300', '2. high': '129.6508', '3. low': '129.5900', '4. close': '129.6100', '5. volume': '13787'}, '2023-03-03 14:45:00': {'1. open': '129.5750', '2. high': '129.6600', '3. low': '129.5750', '4. close': '129.6300', '5. volume': '15325'}, '2023-03-03 14:40:00': {'1. open': '129.6150', '2. high': '129.6450', '3. low': '129.5600', '4. close': '129.6000', '5. volume': '17539'}, '2023-03-03 14:35:00': {'1. open': '129.6200', '2. high': '129.6600', '3. low': '129.5900', '4. close': '129.6300', '5. volume': '21755'}, '2023-03-03 14:30:00': {'1. open': '129.5500', '2. high': '129.6100', '3. low': '129.5000', '4. close': '129.6100', '5. volume': '34647'}, '2023-03-03 14:25:00': {'1. open': '129.4400', '2. high': '129.5550', '3. low': '129.4400', '4. close': '129.5414', '5. volume': '17426'}, '2023-03-03 14:20:00': {'1. open': '129.5200', '2. high': '129.5299', '3. low': '129.4150', '4. close': '129.4200', '5. volume': '15362'}, '2023-03-03 14:15:00': {'1. open': '129.3900', '2. high': '129.5300', '3. low': '129.3900', '4. close': '129.5300', '5. volume': '15754'}, '2023-03-03 14:10:00': {'1. open': '129.3500', '2. high': '129.4262', '3. low': '129.3500', '4. close': '129.3800', '5. volume': '12808'}, '2023-03-03 14:05:00': {'1. open': '129.4000', '2. high': '129.4100', '3. low': '129.3150', '4. close': '129.3782', '5. volume': '13911'}, '2023-03-03 14:00:00': {'1. open': '129.4200', '2. high': '129.4550', '3. low': '129.4000', '4. close': '129.4046', '5. volume': '12431'}, '2023-03-03 13:55:00': {'1. open': '129.4500', '2. high': '129.4750', '3. low': '129.3900', '4. close': '129.4150', '5. volume': '13491'}, '2023-03-03 13:50:00': {'1. open': '129.4200', '2. high': '129.4800', '3. low': '129.4100', '4. close': '129.4600', '5. volume': '12687'}, '2023-03-03 13:45:00': {'1. open': '129.3500', '2. high': '129.4583', '3. low': '129.3500', '4. close': '129.4400', '5. volume': '15688'}, '2023-03-03 13:40:00': {'1. open': '129.2600', '2. high': '129.3600', '3. low': '129.2440', '4. close': '129.3600', '5. volume': '12122'}, '2023-03-03 13:35:00': {'1. open': '129.2700', '2. high': '129.2800', '3. low': '129.1400', '4. close': '129.2400', '5. volume': '26665'}, '2023-03-03 13:30:00': {'1. open': '129.3500', '2. high': '129.3900', '3. low': '129.2495', '4. close': '129.2600', '5. volume': '32630'}, '2023-03-03 13:25:00': {'1. open': '129.4100', '2. high': '129.4400', '3. low': '129.3000', '4. close': '129.3300', '5. volume': '21422'}, '2023-03-03 13:20:00': {'1. open': '129.6000', '2. high': '129.6100', '3. low': '129.4000', '4. close': '129.4000', '5. volume': '34324'}, '2023-03-03 13:15:00': {'1. open': '129.6700', '2. high': '129.7050', '3. low': '129.6135', '4. close': '129.6200', '5. volume': '15810'}, '2023-03-03 13:10:00': {'1. open': '129.6600', '2. high': '129.7500', '3. low': '129.6400', '4. close': '129.6700', '5. volume': '14526'}, '2023-03-03 13:05:00': {'1. open': '129.6424', '2. high': '129.6709', '3. low': '129.6100', '4. close': '129.6700', '5. volume': '11472'}, '2023-03-03 13:00:00': {'1. open': '129.5700', '2. high': '129.6500', '3. low': '129.5700', '4. close': '129.6300', '5. volume': '16448'}, '2023-03-03 12:55:00': {'1. open': '129.5500', '2. high': '129.5600', '3. low': '129.4900', '4. close': '129.5325', '5. volume': '9631'}, '2023-03-03 12:50:00': {'1. open': '129.5150', '2. high': '129.5600', '3. low': '129.5000', '4. close': '129.5500', '5. volume': '12561'}, '2023-03-03 12:45:00': {'1. open': '129.5600', '2. high': '129.5700', '3. low': '129.5000', '4. close': '129.5150', '5. volume': '11353'}, '2023-03-03 12:40:00': {'1. open': '129.5000', '2. high': '129.5800', '3. low': '129.4700', '4. close': '129.5800', '5. volume': '13147'}, '2023-03-03 12:35:00': {'1. open': '129.5500', '2. high': '129.5900', '3. low': '129.5000', '4. close': '129.5000', '5. volume': '12542'}, '2023-03-03 12:30:00': {'1. open': '129.5200', '2. high': '129.6000', '3. low': '129.4901', '4. close': '129.5400', '5. volume': '12354'}, '2023-03-03 12:25:00': {'1. open': '129.4300', '2. high': '129.5000', '3. low': '129.4300', '4. close': '129.4900', '5. volume': '13935'}, '2023-03-03 12:20:00': {'1. open': '129.5000', '2. high': '129.5000', '3. low': '129.3962', '4. close': '129.4400', '5. volume': '25831'}, '2023-03-03 12:15:00': {'1. open': '129.5800', '2. high': '129.6500', '3. low': '129.4900', '4. close': '129.5100', '5. volume': '20541'}, '2023-03-03 12:10:00': {'1. open': '129.5500', '2. high': '129.6100', '3. low': '129.5050', '4. close': '129.5900', '5. volume': '15143'}, '2023-03-03 12:05:00': {'1. open': '129.5600', '2. high': '129.5600', '3. low': '129.4800', '4. close': '129.5300', '5. volume': '21005'}, '2023-03-03 12:00:00': {'1. open': '129.4200', '2. high': '129.6300', '3. low': '129.4100', '4. close': '129.5600', '5. volume': '23992'}, '2023-03-03 11:55:00': {'1. open': '129.2900', '2. high': '129.4200', '3. low': '129.2700', '4. close': '129.4200', '5. volume': '33997'}, '2023-03-03 11:50:00': {'1. open': '129.1600', '2. high': '129.3250', '3. low': '129.1600', '4. close': '129.2900', '5. volume': '19457'}, '2023-03-03 11:45:00': {'1. open': '129.1700', '2. high': '129.1800', '3. low': '129.1216', '4. close': '129.1400', '5. volume': '12612'}, '2023-03-03 11:40:00': {'1. open': '129.1900', '2. high': '129.3200', '3. low': '129.1500', '4. close': '129.1700', '5. volume': '19997'}, '2023-03-03 11:35:00': {'1. open': '129.2205', '2. high': '129.3100', '3. low': '129.1900', '4. close': '129.1942', '5. volume': '21449'}, '2023-03-03 11:30:00': {'1. open': '129.1700', '2. high': '129.2200', '3. low': '129.1500', '4. close': '129.2200', '5. volume': '14366'}, '2023-03-03 11:25:00': {'1. open': '129.2400', '2. high': '129.2400', '3. low': '129.1150', '4. close': '129.1500', '5. volume': '18051'}, '2023-03-03 11:20:00': {'1. open': '129.2400', '2. high': '129.3250', '3. low': '129.1900', '4. close': '129.2600', '5. volume': '15318'}, '2023-03-03 11:15:00': {'1. open': '129.2400', '2. high': '129.3000', '3. low': '129.1600', '4. close': '129.2300', '5. volume': '15870'}, '2023-03-03 11:10:00': {'1. open': '129.2500', '2. high': '129.3400', '3. low': '129.2200', '4. close': '129.2500', '5. volume': '13474'}, '2023-03-03 11:05:00': {'1. open': '129.2900', '2. high': '129.3600', '3. low': '129.2400', '4. close': '129.2400', '5. volume': '12696'}, '2023-03-03 11:00:00': {'1. open': '129.3000', '2. high': '129.3900', '3. low': '129.2700', '4. close': '129.3000', '5. volume': '17606'}, '2023-03-03 10:55:00': {'1. open': '129.3200', '2. high': '129.3400', '3. low': '129.2300', '4. close': '129.2800', '5. volume': '24326'}, '2023-03-03 10:50:00': {'1. open': '129.3000', '2. high': '129.4700', '3. low': '129.2800', '4. close': '129.3491', '5. volume': '20973'}, '2023-03-03 10:45:00': {'1. open': '129.1900', '2. high': '129.3063', '3. low': '129.1700', '4. close': '129.2869', '5. volume': '22126'}, '2023-03-03 10:40:00': {'1. open': '129.1700', '2. high': '129.2000', '3. low': '129.1100', '4. close': '129.2000', '5. volume': '25166'}, '2023-03-03 10:35:00': {'1. open': '129.3500', '2. high': '129.3500', '3. low': '129.1700', '4. close': '129.1900', '5. volume': '19731'}, '2023-03-03 10:30:00': {'1. open': '129.2400', '2. high': '129.3300', '3. low': '129.2200', '4. close': '129.3300', '5. volume': '21651'}, '2023-03-03 10:25:00': {'1. open': '129.0901', '2. high': '129.2300', '3. low': '129.0700', '4. close': '129.2300', '5. volume': '16574'}, '2023-03-03 10:20:00': {'1. open': '129.1300', '2. high': '129.2500', '3. low': '129.0800', '4. close': '129.0800', '5. volume': '17940'}, '2023-03-03 10:15:00': {'1. open': '128.7900', '2. high': '129.1194', '3. low': '128.7700', '4. close': '129.1194', '5. volume': '19463'}, '2023-03-03 10:10:00': {'1. open': '128.9300', '2. high': '128.9700', '3. low': '128.7900', '4. close': '128.7986', '5. volume': '27566'}, '2023-03-03 10:05:00': {'1. open': '129.2600', '2. high': '129.3200', '3. low': '128.8300', '4. close': '128.9400', '5. volume': '50238'}, '2023-03-03 10:00:00': {'1. open': '129.3200', '2. high': '129.4250', '3. low': '129.2100', '4. close': '129.2201', '5. volume': '22849'}, '2023-03-03 09:55:00': {'1. open': '129.3300', '2. high': '129.4300', '3. low': '129.1900', '4. close': '129.3100', '5. volume': '31995'}, '2023-03-03 09:50:00': {'1. open': '129.2500', '2. high': '129.4500', '3. low': '129.1800', '4. close': '129.3500', '5. volume': '31277'}, '2023-03-03 09:45:00': {'1. open': '129.2400', '2. high': '129.3450', '3. low': '129.1800', '4. close': '129.2800', '5. volume': '17326'}, '2023-03-03 09:40:00': {'1. open': '129.2150', '2. high': '129.3000', '3. low': '129.1400', '4. close': '129.2200', '5. volume': '24087'}, '2023-03-03 09:35:00': {'1. open': '129.3500', '2. high': '129.4600', '3. low': '129.1100', '4. close': '129.2200', '5. volume': '77804'}, '2023-03-03 09:10:00': {'1. open': '129.3000', '2. high': '129.3000', '3. low': '129.3000', '4. close': '129.3000', '5. volume': '226'}, '2023-03-03 08:50:00': {'1. open': '129.3000', '2. high': '129.3000', '3. low': '129.3000', '4. close': '129.3000', '5. volume': '265'}, '2023-03-03 08:25:00': {'1. open': '129.1500', '2. high': '129.1500', '3. low': '129.1500', '4. close': '129.1500', '5. volume': '100'}, '2023-03-03 08:05:00': {'1. open': '129.3500', '2. high': '129.3500', '3. low': '129.3500', '4. close': '129.3500', '5. volume': '653'}, '2023-03-03 07:30:00': {'1. open': '129.2800', '2. high': '129.2800', '3. low': '129.2800', '4. close': '129.2800', '5. volume': '132'}, '2023-03-03 05:25:00': {'1. open': '129.5000', '2. high': '129.5000', '3. low': '129.5000', '4. close': '129.5000', '5. volume': '310'}, '2023-03-02 18:20:00': {'1. open': '128.9400', '2. high': '128.9400', '3. low': '128.9400', '4. close': '128.9400', '5. volume': '100'}, '2023-03-02 17:50:00': {'1. open': '128.8280', '2. high': '128.8280', '3. low': '128.8280', '4. close': '128.8280', '5. volume': '101'}, '2023-03-02 16:05:00': {'1. open': '128.9300', '2. high': '128.9300', '3. low': '128.9300', '4. close': '128.9300', '5. volume': '104414'}, '2023-03-02 16:00:00': {'1. open': '128.8200', '2. high': '128.9700', '3. low': '128.8150', '4. close': '128.9400', '5. volume': '264723'}, '2023-03-02 15:55:00': {'1. open': '128.9800', '2. high': '129.0300', '3. low': '128.7400', '4. close': '128.8100', '5. volume': '152796'}, '2023-03-02 15:50:00': {'1. open': '129.0000', '2. high': '129.0600', '3. low': '128.9500', '4. close': '128.9850', '5. volume': '76923'}, '2023-03-02 15:45:00': {'1. open': '129.1600', '2. high': '129.1900', '3. low': '129.0100', '4. close': '129.0100', '5. volume': '44457'}, '2023-03-02 15:40:00': {'1. open': '128.9600', '2. high': '129.2200', '3. low': '128.8900', '4. close': '129.1600', '5. volume': '43673'}, '2023-03-02 15:35:00': {'1. open': '128.8700', '2. high': '128.9500', '3. low': '128.8300', '4. close': '128.9450', '5. volume': '44870'}}}\n"
     ]
    }
   ],
   "source": [
    "import requests\n",
    "from pandas.io.json import json_normalize\n",
    "import pandas as pd\n",
    "\n",
    "# replace the \"demo\" apikey below with your own key from https://www.alphavantage.co/support/#api-key\n",
    "url = 'https://www.alphavantage.co/query?function=TIME_SERIES_INTRADAY&symbol=IBM&interval=5min&apikey=XBWE6AW71G5WSGCC'\n",
    "r = requests.get(url)\n",
    "data = r.json()\n",
    "\n",
    "print(data)"
   ]
  },
  {
   "cell_type": "code",
   "execution_count": 20,
   "metadata": {},
   "outputs": [
    {
     "name": "stdout",
     "output_type": "stream",
     "text": [
      "                       Open    High     Low    Close  Volume\n",
      "2023-03-03 18:35:00  129.80  129.80  129.80  129.800     377\n",
      "2023-03-03 18:30:00  129.76  129.76  129.76  129.760     179\n",
      "2023-03-03 18:20:00  129.65  129.65  129.65  129.650     237\n",
      "2023-03-03 17:15:00  129.65  129.65  129.65  129.650     300\n",
      "2023-03-03 17:05:00  129.65  129.65  129.65  129.650     500\n",
      "...                     ...     ...     ...      ...     ...\n",
      "2023-03-02 15:55:00  128.98  129.03  128.74  128.810  152796\n",
      "2023-03-02 15:50:00  129.00  129.06  128.95  128.985   76923\n",
      "2023-03-02 15:45:00  129.16  129.19  129.01  129.010   44457\n",
      "2023-03-02 15:40:00  128.96  129.22  128.89  129.160   43673\n",
      "2023-03-02 15:35:00  128.87  128.95  128.83  128.945   44870\n",
      "\n",
      "[100 rows x 5 columns]\n"
     ]
    }
   ],
   "source": [
    "import requests\n",
    "import pandas as pd\n",
    "\n",
    "# Realizar solicitud HTTP a la API\n",
    "response = requests.get('https://www.alphavantage.co/query?function=TIME_SERIES_INTRADAY&symbol=IBM&interval=5min&apikey=XBWE6AW71G5WSGCC')\n",
    "\n",
    "# Convertir la respuesta JSON en un DataFrame de pandas\n",
    "data = pd.DataFrame(response.json()['Time Series (5min)']).transpose()\n",
    "\n",
    "# Convertir las columnas a números\n",
    "data = data.apply(pd.to_numeric)\n",
    "\n",
    "# Mostrar los datos sin los encabezados\n",
    "#print(data.to_string(header=False))\n",
    "#data.describe()\n",
    "\n",
    "data.columns = [\"Open\",\"High\",\"Low\",\"Close\",\"Volume\"]\n",
    "\n",
    "print(data)\n"
   ]
  },
  {
   "cell_type": "code",
   "execution_count": null,
   "metadata": {},
   "outputs": [],
   "source": [
    "#https://query1.finance.yahoo.com/v7/finance/chart/TSLA?range=1mo&interval=1d"
   ]
  },
  {
   "cell_type": "code",
   "execution_count": null,
   "metadata": {},
   "outputs": [],
   "source": [
    "#https://api.polygon.io/v2/aggs/ticker/TSLA/range/1/day/20220203/20220304?apiKey=YOUR_API_KEY"
   ]
  },
  {
   "cell_type": "code",
   "execution_count": null,
   "metadata": {},
   "outputs": [],
   "source": [
    "#https://polygon.io/stocks?auth=signup"
   ]
  },
  {
   "cell_type": "code",
   "execution_count": null,
   "metadata": {},
   "outputs": [],
   "source": []
  },
  {
   "cell_type": "code",
   "execution_count": null,
   "metadata": {},
   "outputs": [],
   "source": []
  },
  {
   "cell_type": "code",
   "execution_count": 4,
   "metadata": {},
   "outputs": [],
   "source": [
    "#df = pd.read_csv(\"convertcsvBT5min.csv\") #5minutes"
   ]
  },
  {
   "cell_type": "code",
   "execution_count": 6,
   "metadata": {},
   "outputs": [
    {
     "data": {
      "text/html": [
       "<div>\n",
       "<style scoped>\n",
       "    .dataframe tbody tr th:only-of-type {\n",
       "        vertical-align: middle;\n",
       "    }\n",
       "\n",
       "    .dataframe tbody tr th {\n",
       "        vertical-align: top;\n",
       "    }\n",
       "\n",
       "    .dataframe thead th {\n",
       "        text-align: right;\n",
       "    }\n",
       "</style>\n",
       "<table border=\"1\" class=\"dataframe\">\n",
       "  <thead>\n",
       "    <tr style=\"text-align: right;\">\n",
       "      <th></th>\n",
       "      <th>openTime</th>\n",
       "      <th>Open</th>\n",
       "      <th>High</th>\n",
       "      <th>Low</th>\n",
       "      <th>Close</th>\n",
       "      <th>Volume</th>\n",
       "      <th>CloseTime</th>\n",
       "      <th>QuoteAssetVolume</th>\n",
       "      <th>NumberofTrades</th>\n",
       "      <th>TakerbuyBaseAssetVolume</th>\n",
       "      <th>TakerbuyQuoteAssetVolume</th>\n",
       "      <th>Ignore</th>\n",
       "    </tr>\n",
       "  </thead>\n",
       "  <tbody>\n",
       "    <tr>\n",
       "      <th>count</th>\n",
       "      <td>5.000000e+02</td>\n",
       "      <td>500.000000</td>\n",
       "      <td>500.000000</td>\n",
       "      <td>500.000000</td>\n",
       "      <td>500.000000</td>\n",
       "      <td>5.000000e+02</td>\n",
       "      <td>5.000000e+02</td>\n",
       "      <td>5.000000e+02</td>\n",
       "      <td>5.000000e+02</td>\n",
       "      <td>500.000000</td>\n",
       "      <td>5.000000e+02</td>\n",
       "      <td>500.0</td>\n",
       "    </tr>\n",
       "    <tr>\n",
       "      <th>mean</th>\n",
       "      <td>1.610626e+12</td>\n",
       "      <td>23389.185040</td>\n",
       "      <td>24514.160180</td>\n",
       "      <td>22124.701000</td>\n",
       "      <td>23429.109360</td>\n",
       "      <td>2.586016e+05</td>\n",
       "      <td>1.610885e+12</td>\n",
       "      <td>5.906376e+09</td>\n",
       "      <td>5.083716e+06</td>\n",
       "      <td>128221.402005</td>\n",
       "      <td>2.921675e+09</td>\n",
       "      <td>0.0</td>\n",
       "    </tr>\n",
       "    <tr>\n",
       "      <th>std</th>\n",
       "      <td>3.744969e+10</td>\n",
       "      <td>17415.438895</td>\n",
       "      <td>18249.216466</td>\n",
       "      <td>16361.488949</td>\n",
       "      <td>17393.021361</td>\n",
       "      <td>2.332309e+05</td>\n",
       "      <td>3.744969e+10</td>\n",
       "      <td>5.605005e+09</td>\n",
       "      <td>5.437653e+06</td>\n",
       "      <td>115853.026062</td>\n",
       "      <td>2.774392e+09</td>\n",
       "      <td>0.0</td>\n",
       "    </tr>\n",
       "    <tr>\n",
       "      <th>min</th>\n",
       "      <td>1.545955e+12</td>\n",
       "      <td>3398.400000</td>\n",
       "      <td>3482.720000</td>\n",
       "      <td>3349.920000</td>\n",
       "      <td>3398.400000</td>\n",
       "      <td>4.971247e+04</td>\n",
       "      <td>1.546214e+12</td>\n",
       "      <td>2.065137e+08</td>\n",
       "      <td>4.279450e+05</td>\n",
       "      <td>25062.622918</td>\n",
       "      <td>1.100764e+08</td>\n",
       "      <td>0.0</td>\n",
       "    </tr>\n",
       "    <tr>\n",
       "      <th>25%</th>\n",
       "      <td>1.578290e+12</td>\n",
       "      <td>9201.495000</td>\n",
       "      <td>9452.212500</td>\n",
       "      <td>8855.050000</td>\n",
       "      <td>9214.397500</td>\n",
       "      <td>1.228460e+05</td>\n",
       "      <td>1.578550e+12</td>\n",
       "      <td>1.337356e+09</td>\n",
       "      <td>1.571868e+06</td>\n",
       "      <td>61122.073990</td>\n",
       "      <td>6.658334e+08</td>\n",
       "      <td>0.0</td>\n",
       "    </tr>\n",
       "    <tr>\n",
       "      <th>50%</th>\n",
       "      <td>1.610626e+12</td>\n",
       "      <td>17187.230000</td>\n",
       "      <td>18293.475000</td>\n",
       "      <td>16827.425000</td>\n",
       "      <td>17283.085000</td>\n",
       "      <td>1.770111e+05</td>\n",
       "      <td>1.610885e+12</td>\n",
       "      <td>4.297160e+09</td>\n",
       "      <td>3.245348e+06</td>\n",
       "      <td>87918.632856</td>\n",
       "      <td>2.099703e+09</td>\n",
       "      <td>0.0</td>\n",
       "    </tr>\n",
       "    <tr>\n",
       "      <th>75%</th>\n",
       "      <td>1.642961e+12</td>\n",
       "      <td>38363.235000</td>\n",
       "      <td>40372.417500</td>\n",
       "      <td>36320.750000</td>\n",
       "      <td>38362.132500</td>\n",
       "      <td>2.704405e+05</td>\n",
       "      <td>1.643220e+12</td>\n",
       "      <td>8.893570e+09</td>\n",
       "      <td>5.683452e+06</td>\n",
       "      <td>133584.264376</td>\n",
       "      <td>4.392714e+09</td>\n",
       "      <td>0.0</td>\n",
       "    </tr>\n",
       "    <tr>\n",
       "      <th>max</th>\n",
       "      <td>1.675296e+12</td>\n",
       "      <td>67525.820000</td>\n",
       "      <td>69000.000000</td>\n",
       "      <td>62822.900000</td>\n",
       "      <td>67525.830000</td>\n",
       "      <td>1.879610e+06</td>\n",
       "      <td>1.675555e+12</td>\n",
       "      <td>3.553116e+10</td>\n",
       "      <td>3.648032e+07</td>\n",
       "      <td>925081.683251</td>\n",
       "      <td>1.749552e+10</td>\n",
       "      <td>0.0</td>\n",
       "    </tr>\n",
       "  </tbody>\n",
       "</table>\n",
       "</div>"
      ],
      "text/plain": [
       "           openTime          Open          High           Low         Close  \\\n",
       "count  5.000000e+02    500.000000    500.000000    500.000000    500.000000   \n",
       "mean   1.610626e+12  23389.185040  24514.160180  22124.701000  23429.109360   \n",
       "std    3.744969e+10  17415.438895  18249.216466  16361.488949  17393.021361   \n",
       "min    1.545955e+12   3398.400000   3482.720000   3349.920000   3398.400000   \n",
       "25%    1.578290e+12   9201.495000   9452.212500   8855.050000   9214.397500   \n",
       "50%    1.610626e+12  17187.230000  18293.475000  16827.425000  17283.085000   \n",
       "75%    1.642961e+12  38363.235000  40372.417500  36320.750000  38362.132500   \n",
       "max    1.675296e+12  67525.820000  69000.000000  62822.900000  67525.830000   \n",
       "\n",
       "             Volume     CloseTime  QuoteAssetVolume  NumberofTrades  \\\n",
       "count  5.000000e+02  5.000000e+02      5.000000e+02    5.000000e+02   \n",
       "mean   2.586016e+05  1.610885e+12      5.906376e+09    5.083716e+06   \n",
       "std    2.332309e+05  3.744969e+10      5.605005e+09    5.437653e+06   \n",
       "min    4.971247e+04  1.546214e+12      2.065137e+08    4.279450e+05   \n",
       "25%    1.228460e+05  1.578550e+12      1.337356e+09    1.571868e+06   \n",
       "50%    1.770111e+05  1.610885e+12      4.297160e+09    3.245348e+06   \n",
       "75%    2.704405e+05  1.643220e+12      8.893570e+09    5.683452e+06   \n",
       "max    1.879610e+06  1.675555e+12      3.553116e+10    3.648032e+07   \n",
       "\n",
       "       TakerbuyBaseAssetVolume  TakerbuyQuoteAssetVolume  Ignore  \n",
       "count               500.000000              5.000000e+02   500.0  \n",
       "mean             128221.402005              2.921675e+09     0.0  \n",
       "std              115853.026062              2.774392e+09     0.0  \n",
       "min               25062.622918              1.100764e+08     0.0  \n",
       "25%               61122.073990              6.658334e+08     0.0  \n",
       "50%               87918.632856              2.099703e+09     0.0  \n",
       "75%              133584.264376              4.392714e+09     0.0  \n",
       "max              925081.683251              1.749552e+10     0.0  "
      ]
     },
     "execution_count": 6,
     "metadata": {},
     "output_type": "execute_result"
    }
   ],
   "source": [
    "df.describe()"
   ]
  },
  {
   "cell_type": "code",
   "execution_count": 22,
   "metadata": {},
   "outputs": [],
   "source": [
    "df = data"
   ]
  },
  {
   "cell_type": "code",
   "execution_count": 23,
   "metadata": {},
   "outputs": [
    {
     "data": {
      "text/plain": [
       "2023-03-03 18:35:00    129.800\n",
       "2023-03-03 18:30:00    129.760\n",
       "2023-03-03 18:20:00    129.650\n",
       "2023-03-03 17:15:00    129.650\n",
       "2023-03-03 17:05:00    129.650\n",
       "                        ...   \n",
       "2023-03-02 15:55:00    128.810\n",
       "2023-03-02 15:50:00    128.985\n",
       "2023-03-02 15:45:00    129.010\n",
       "2023-03-02 15:40:00    129.160\n",
       "2023-03-02 15:35:00    128.945\n",
       "Name: Close, Length: 100, dtype: float64"
      ]
     },
     "execution_count": 23,
     "metadata": {},
     "output_type": "execute_result"
    }
   ],
   "source": [
    "df.Close"
   ]
  },
  {
   "cell_type": "code",
   "execution_count": 24,
   "metadata": {},
   "outputs": [
    {
     "data": {
      "text/html": [
       "<div>\n",
       "<style scoped>\n",
       "    .dataframe tbody tr th:only-of-type {\n",
       "        vertical-align: middle;\n",
       "    }\n",
       "\n",
       "    .dataframe tbody tr th {\n",
       "        vertical-align: top;\n",
       "    }\n",
       "\n",
       "    .dataframe thead th {\n",
       "        text-align: right;\n",
       "    }\n",
       "</style>\n",
       "<table border=\"1\" class=\"dataframe\">\n",
       "  <thead>\n",
       "    <tr style=\"text-align: right;\">\n",
       "      <th></th>\n",
       "      <th>Open</th>\n",
       "      <th>High</th>\n",
       "      <th>Low</th>\n",
       "      <th>Close</th>\n",
       "      <th>Volume</th>\n",
       "    </tr>\n",
       "  </thead>\n",
       "  <tbody>\n",
       "    <tr>\n",
       "      <th>count</th>\n",
       "      <td>100.000000</td>\n",
       "      <td>100.000000</td>\n",
       "      <td>100.000000</td>\n",
       "      <td>100.000000</td>\n",
       "      <td>100.000000</td>\n",
       "    </tr>\n",
       "    <tr>\n",
       "      <th>mean</th>\n",
       "      <td>129.393810</td>\n",
       "      <td>129.454496</td>\n",
       "      <td>129.341279</td>\n",
       "      <td>129.396997</td>\n",
       "      <td>27384.000000</td>\n",
       "    </tr>\n",
       "    <tr>\n",
       "      <th>std</th>\n",
       "      <td>0.246385</td>\n",
       "      <td>0.231273</td>\n",
       "      <td>0.259641</td>\n",
       "      <td>0.247520</td>\n",
       "      <td>37625.395064</td>\n",
       "    </tr>\n",
       "    <tr>\n",
       "      <th>min</th>\n",
       "      <td>128.790000</td>\n",
       "      <td>128.828000</td>\n",
       "      <td>128.740000</td>\n",
       "      <td>128.798600</td>\n",
       "      <td>100.000000</td>\n",
       "    </tr>\n",
       "    <tr>\n",
       "      <th>25%</th>\n",
       "      <td>129.240000</td>\n",
       "      <td>129.309075</td>\n",
       "      <td>129.167500</td>\n",
       "      <td>129.230000</td>\n",
       "      <td>12761.250000</td>\n",
       "    </tr>\n",
       "    <tr>\n",
       "      <th>50%</th>\n",
       "      <td>129.405000</td>\n",
       "      <td>129.465000</td>\n",
       "      <td>129.370000</td>\n",
       "      <td>129.409800</td>\n",
       "      <td>17572.500000</td>\n",
       "    </tr>\n",
       "    <tr>\n",
       "      <th>75%</th>\n",
       "      <td>129.605000</td>\n",
       "      <td>129.650000</td>\n",
       "      <td>129.562500</td>\n",
       "      <td>129.612500</td>\n",
       "      <td>26890.250000</td>\n",
       "    </tr>\n",
       "    <tr>\n",
       "      <th>max</th>\n",
       "      <td>129.850000</td>\n",
       "      <td>129.905000</td>\n",
       "      <td>129.800000</td>\n",
       "      <td>129.890000</td>\n",
       "      <td>264723.000000</td>\n",
       "    </tr>\n",
       "  </tbody>\n",
       "</table>\n",
       "</div>"
      ],
      "text/plain": [
       "             Open        High         Low       Close         Volume\n",
       "count  100.000000  100.000000  100.000000  100.000000     100.000000\n",
       "mean   129.393810  129.454496  129.341279  129.396997   27384.000000\n",
       "std      0.246385    0.231273    0.259641    0.247520   37625.395064\n",
       "min    128.790000  128.828000  128.740000  128.798600     100.000000\n",
       "25%    129.240000  129.309075  129.167500  129.230000   12761.250000\n",
       "50%    129.405000  129.465000  129.370000  129.409800   17572.500000\n",
       "75%    129.605000  129.650000  129.562500  129.612500   26890.250000\n",
       "max    129.850000  129.905000  129.800000  129.890000  264723.000000"
      ]
     },
     "execution_count": 24,
     "metadata": {},
     "output_type": "execute_result"
    }
   ],
   "source": [
    "df.describe()"
   ]
  },
  {
   "cell_type": "code",
   "execution_count": 25,
   "metadata": {},
   "outputs": [
    {
     "data": {
      "image/png": "[encoded data removed]",
      "text/plain": [
       "<Figure size 1440x360 with 1 Axes>"
      ]
     },
     "metadata": {
      "needs_background": "light"
     },
     "output_type": "display_data"
    }
   ],
   "source": [
    "plt.figure(1, figsize=(20,5)) \n",
    "_ = plt.plot(df.Close)"
   ]
  },
  {
   "cell_type": "markdown",
   "metadata": {},
   "source": [
    "Calculate the percetange change\n",
    "\n",
    "https://en.wikipedia.org/wiki/Stationary_process\n",
    "\n",
    "\n"
   ]
  },
  {
   "cell_type": "code",
   "execution_count": 26,
   "metadata": {},
   "outputs": [],
   "source": [
    "df[\"returns\"] = df['Close'].pct_change()"
   ]
  },
  {
   "cell_type": "code",
   "execution_count": 27,
   "metadata": {},
   "outputs": [
    {
     "data": {
      "text/html": [
       "<div>\n",
       "<style scoped>\n",
       "    .dataframe tbody tr th:only-of-type {\n",
       "        vertical-align: middle;\n",
       "    }\n",
       "\n",
       "    .dataframe tbody tr th {\n",
       "        vertical-align: top;\n",
       "    }\n",
       "\n",
       "    .dataframe thead th {\n",
       "        text-align: right;\n",
       "    }\n",
       "</style>\n",
       "<table border=\"1\" class=\"dataframe\">\n",
       "  <thead>\n",
       "    <tr style=\"text-align: right;\">\n",
       "      <th></th>\n",
       "      <th>Open</th>\n",
       "      <th>High</th>\n",
       "      <th>Low</th>\n",
       "      <th>Close</th>\n",
       "      <th>Volume</th>\n",
       "      <th>returns</th>\n",
       "    </tr>\n",
       "  </thead>\n",
       "  <tbody>\n",
       "    <tr>\n",
       "      <th>2023-03-03 18:35:00</th>\n",
       "      <td>129.80</td>\n",
       "      <td>129.80</td>\n",
       "      <td>129.80</td>\n",
       "      <td>129.800</td>\n",
       "      <td>377</td>\n",
       "      <td>NaN</td>\n",
       "    </tr>\n",
       "    <tr>\n",
       "      <th>2023-03-03 18:30:00</th>\n",
       "      <td>129.76</td>\n",
       "      <td>129.76</td>\n",
       "      <td>129.76</td>\n",
       "      <td>129.760</td>\n",
       "      <td>179</td>\n",
       "      <td>-0.000308</td>\n",
       "    </tr>\n",
       "    <tr>\n",
       "      <th>2023-03-03 18:20:00</th>\n",
       "      <td>129.65</td>\n",
       "      <td>129.65</td>\n",
       "      <td>129.65</td>\n",
       "      <td>129.650</td>\n",
       "      <td>237</td>\n",
       "      <td>-0.000848</td>\n",
       "    </tr>\n",
       "    <tr>\n",
       "      <th>2023-03-03 17:15:00</th>\n",
       "      <td>129.65</td>\n",
       "      <td>129.65</td>\n",
       "      <td>129.65</td>\n",
       "      <td>129.650</td>\n",
       "      <td>300</td>\n",
       "      <td>0.000000</td>\n",
       "    </tr>\n",
       "    <tr>\n",
       "      <th>2023-03-03 17:05:00</th>\n",
       "      <td>129.65</td>\n",
       "      <td>129.65</td>\n",
       "      <td>129.65</td>\n",
       "      <td>129.650</td>\n",
       "      <td>500</td>\n",
       "      <td>0.000000</td>\n",
       "    </tr>\n",
       "    <tr>\n",
       "      <th>...</th>\n",
       "      <td>...</td>\n",
       "      <td>...</td>\n",
       "      <td>...</td>\n",
       "      <td>...</td>\n",
       "      <td>...</td>\n",
       "      <td>...</td>\n",
       "    </tr>\n",
       "    <tr>\n",
       "      <th>2023-03-02 15:55:00</th>\n",
       "      <td>128.98</td>\n",
       "      <td>129.03</td>\n",
       "      <td>128.74</td>\n",
       "      <td>128.810</td>\n",
       "      <td>152796</td>\n",
       "      <td>-0.001008</td>\n",
       "    </tr>\n",
       "    <tr>\n",
       "      <th>2023-03-02 15:50:00</th>\n",
       "      <td>129.00</td>\n",
       "      <td>129.06</td>\n",
       "      <td>128.95</td>\n",
       "      <td>128.985</td>\n",
       "      <td>76923</td>\n",
       "      <td>0.001359</td>\n",
       "    </tr>\n",
       "    <tr>\n",
       "      <th>2023-03-02 15:45:00</th>\n",
       "      <td>129.16</td>\n",
       "      <td>129.19</td>\n",
       "      <td>129.01</td>\n",
       "      <td>129.010</td>\n",
       "      <td>44457</td>\n",
       "      <td>0.000194</td>\n",
       "    </tr>\n",
       "    <tr>\n",
       "      <th>2023-03-02 15:40:00</th>\n",
       "      <td>128.96</td>\n",
       "      <td>129.22</td>\n",
       "      <td>128.89</td>\n",
       "      <td>129.160</td>\n",
       "      <td>43673</td>\n",
       "      <td>0.001163</td>\n",
       "    </tr>\n",
       "    <tr>\n",
       "      <th>2023-03-02 15:35:00</th>\n",
       "      <td>128.87</td>\n",
       "      <td>128.95</td>\n",
       "      <td>128.83</td>\n",
       "      <td>128.945</td>\n",
       "      <td>44870</td>\n",
       "      <td>-0.001665</td>\n",
       "    </tr>\n",
       "  </tbody>\n",
       "</table>\n",
       "<p>100 rows × 6 columns</p>\n",
       "</div>"
      ],
      "text/plain": [
       "                       Open    High     Low    Close  Volume   returns\n",
       "2023-03-03 18:35:00  129.80  129.80  129.80  129.800     377       NaN\n",
       "2023-03-03 18:30:00  129.76  129.76  129.76  129.760     179 -0.000308\n",
       "2023-03-03 18:20:00  129.65  129.65  129.65  129.650     237 -0.000848\n",
       "2023-03-03 17:15:00  129.65  129.65  129.65  129.650     300  0.000000\n",
       "2023-03-03 17:05:00  129.65  129.65  129.65  129.650     500  0.000000\n",
       "...                     ...     ...     ...      ...     ...       ...\n",
       "2023-03-02 15:55:00  128.98  129.03  128.74  128.810  152796 -0.001008\n",
       "2023-03-02 15:50:00  129.00  129.06  128.95  128.985   76923  0.001359\n",
       "2023-03-02 15:45:00  129.16  129.19  129.01  129.010   44457  0.000194\n",
       "2023-03-02 15:40:00  128.96  129.22  128.89  129.160   43673  0.001163\n",
       "2023-03-02 15:35:00  128.87  128.95  128.83  128.945   44870 -0.001665\n",
       "\n",
       "[100 rows x 6 columns]"
      ]
     },
     "execution_count": 27,
     "metadata": {},
     "output_type": "execute_result"
    }
   ],
   "source": [
    "df"
   ]
  },
  {
   "cell_type": "code",
   "execution_count": 28,
   "metadata": {},
   "outputs": [
    {
     "data": {
      "text/plain": [
       "0.0027200732140442163"
      ]
     },
     "execution_count": 28,
     "metadata": {},
     "output_type": "execute_result"
    }
   ],
   "source": [
    "52394.40/52252.27 - 1"
   ]
  },
  {
   "cell_type": "markdown",
   "metadata": {},
   "source": [
    "Calculate the log returns\n",
    "\n",
    "Why use log returns:\n",
    "https://quantivity.wordpress.com/2011/02/21/why-log-returns\n"
   ]
  },
  {
   "cell_type": "code",
   "execution_count": 29,
   "metadata": {},
   "outputs": [],
   "source": [
    "df[\"log_returns\"] = np.log(1+df[\"returns\"])"
   ]
  },
  {
   "cell_type": "code",
   "execution_count": 30,
   "metadata": {},
   "outputs": [
    {
     "data": {
      "text/html": [
       "<div>\n",
       "<style scoped>\n",
       "    .dataframe tbody tr th:only-of-type {\n",
       "        vertical-align: middle;\n",
       "    }\n",
       "\n",
       "    .dataframe tbody tr th {\n",
       "        vertical-align: top;\n",
       "    }\n",
       "\n",
       "    .dataframe thead th {\n",
       "        text-align: right;\n",
       "    }\n",
       "</style>\n",
       "<table border=\"1\" class=\"dataframe\">\n",
       "  <thead>\n",
       "    <tr style=\"text-align: right;\">\n",
       "      <th></th>\n",
       "      <th>Open</th>\n",
       "      <th>High</th>\n",
       "      <th>Low</th>\n",
       "      <th>Close</th>\n",
       "      <th>Volume</th>\n",
       "      <th>returns</th>\n",
       "      <th>log_returns</th>\n",
       "    </tr>\n",
       "  </thead>\n",
       "  <tbody>\n",
       "    <tr>\n",
       "      <th>2023-03-03 18:35:00</th>\n",
       "      <td>129.80</td>\n",
       "      <td>129.80</td>\n",
       "      <td>129.80</td>\n",
       "      <td>129.80</td>\n",
       "      <td>377</td>\n",
       "      <td>NaN</td>\n",
       "      <td>NaN</td>\n",
       "    </tr>\n",
       "    <tr>\n",
       "      <th>2023-03-03 18:30:00</th>\n",
       "      <td>129.76</td>\n",
       "      <td>129.76</td>\n",
       "      <td>129.76</td>\n",
       "      <td>129.76</td>\n",
       "      <td>179</td>\n",
       "      <td>-0.000308</td>\n",
       "      <td>-0.000308</td>\n",
       "    </tr>\n",
       "    <tr>\n",
       "      <th>2023-03-03 18:20:00</th>\n",
       "      <td>129.65</td>\n",
       "      <td>129.65</td>\n",
       "      <td>129.65</td>\n",
       "      <td>129.65</td>\n",
       "      <td>237</td>\n",
       "      <td>-0.000848</td>\n",
       "      <td>-0.000848</td>\n",
       "    </tr>\n",
       "    <tr>\n",
       "      <th>2023-03-03 17:15:00</th>\n",
       "      <td>129.65</td>\n",
       "      <td>129.65</td>\n",
       "      <td>129.65</td>\n",
       "      <td>129.65</td>\n",
       "      <td>300</td>\n",
       "      <td>0.000000</td>\n",
       "      <td>0.000000</td>\n",
       "    </tr>\n",
       "    <tr>\n",
       "      <th>2023-03-03 17:05:00</th>\n",
       "      <td>129.65</td>\n",
       "      <td>129.65</td>\n",
       "      <td>129.65</td>\n",
       "      <td>129.65</td>\n",
       "      <td>500</td>\n",
       "      <td>0.000000</td>\n",
       "      <td>0.000000</td>\n",
       "    </tr>\n",
       "  </tbody>\n",
       "</table>\n",
       "</div>"
      ],
      "text/plain": [
       "                       Open    High     Low   Close  Volume   returns  \\\n",
       "2023-03-03 18:35:00  129.80  129.80  129.80  129.80     377       NaN   \n",
       "2023-03-03 18:30:00  129.76  129.76  129.76  129.76     179 -0.000308   \n",
       "2023-03-03 18:20:00  129.65  129.65  129.65  129.65     237 -0.000848   \n",
       "2023-03-03 17:15:00  129.65  129.65  129.65  129.65     300  0.000000   \n",
       "2023-03-03 17:05:00  129.65  129.65  129.65  129.65     500  0.000000   \n",
       "\n",
       "                     log_returns  \n",
       "2023-03-03 18:35:00          NaN  \n",
       "2023-03-03 18:30:00    -0.000308  \n",
       "2023-03-03 18:20:00    -0.000848  \n",
       "2023-03-03 17:15:00     0.000000  \n",
       "2023-03-03 17:05:00     0.000000  "
      ]
     },
     "execution_count": 30,
     "metadata": {},
     "output_type": "execute_result"
    }
   ],
   "source": [
    "df.head(5)"
   ]
  },
  {
   "cell_type": "code",
   "execution_count": 31,
   "metadata": {},
   "outputs": [
    {
     "data": {
      "text/plain": [
       "[<matplotlib.lines.Line2D at 0x2866dbe7fd0>]"
      ]
     },
     "execution_count": 31,
     "metadata": {},
     "output_type": "execute_result"
    },
    {
     "data": {
      "image/png": "[encoded data removed]",
      "text/plain": [
       "<Figure size 1152x288 with 1 Axes>"
      ]
     },
     "metadata": {
      "needs_background": "light"
     },
     "output_type": "display_data"
    }
   ],
   "source": [
    "plt.figure(1, figsize=(16,4))\n",
    "plt.plot(df.log_returns)"
   ]
  },
  {
   "cell_type": "code",
   "execution_count": 32,
   "metadata": {},
   "outputs": [],
   "source": [
    "#quitamos los num's ceros y na p simplif\n",
    "df.dropna(inplace=True)\n",
    "X = df[[\"Close\",\"log_returns\"]].values"
   ]
  },
  {
   "cell_type": "code",
   "execution_count": 33,
   "metadata": {},
   "outputs": [
    {
     "data": {
      "text/plain": [
       "array([[ 1.29760000e+02, -3.08213903e-04],\n",
       "       [ 1.29650000e+02, -8.48078382e-04],\n",
       "       [ 1.29650000e+02,  0.00000000e+00],\n",
       "       [ 1.29650000e+02,  0.00000000e+00],\n",
       "       [ 1.29640000e+02, -7.71337113e-05],\n",
       "       [ 1.29640000e+02,  0.00000000e+00],\n",
       "       [ 1.29640000e+02,  0.00000000e+00],\n",
       "       [ 1.29600000e+02, -3.08594355e-04],\n",
       "       [ 1.29631200e+02,  2.40711767e-04],\n",
       "       [ 1.29550000e+02, -6.26588677e-04],\n",
       "       [ 1.29655000e+02,  8.10169601e-04],\n",
       "       [ 1.29670000e+02,  1.15684951e-04],\n",
       "       [ 1.29740000e+02,  5.39686224e-04],\n",
       "       [ 1.29740000e+02,  0.00000000e+00],\n",
       "       [ 1.29710000e+02, -2.31258432e-04],\n",
       "       [ 1.29770000e+02,  4.62463397e-04],\n",
       "       [ 1.29890000e+02,  9.24285670e-04],\n",
       "       [ 1.29720500e+02, -1.30580253e-03],\n",
       "       [ 1.29710000e+02, -8.09465349e-05],\n",
       "       [ 1.29620000e+02, -6.94096353e-04],\n",
       "       [ 1.29610000e+02, -7.71515643e-05],\n",
       "       [ 1.29630000e+02,  1.54297177e-04],\n",
       "       [ 1.29600000e+02, -2.31454694e-04],\n",
       "       [ 1.29630000e+02,  2.31454694e-04],\n",
       "       [ 1.29610000e+02, -1.54297177e-04],\n",
       "       [ 1.29541400e+02, -5.29420266e-04],\n",
       "       [ 1.29420000e+02, -9.37591540e-04],\n",
       "       [ 1.29530000e+02,  8.49584913e-04],\n",
       "       [ 1.29380000e+02, -1.15870393e-03],\n",
       "       [ 1.29378200e+02, -1.39126026e-05],\n",
       "       [ 1.29404600e+02,  2.04032108e-04],\n",
       "       [ 1.29415000e+02,  8.03648565e-05],\n",
       "       [ 1.29460000e+02,  3.47658140e-04],\n",
       "       [ 1.29440000e+02, -1.54499807e-04],\n",
       "       [ 1.29360000e+02, -6.18238041e-04],\n",
       "       [ 1.29240000e+02, -9.28074313e-04],\n",
       "       [ 1.29260000e+02,  1.54738878e-04],\n",
       "       [ 1.29330000e+02,  5.41397592e-04],\n",
       "       [ 1.29400000e+02,  5.41104640e-04],\n",
       "       [ 1.29620000e+02,  1.69871093e-03],\n",
       "       [ 1.29670000e+02,  3.85668561e-04],\n",
       "       [ 1.29670000e+02,  0.00000000e+00],\n",
       "       [ 1.29630000e+02, -3.08522949e-04],\n",
       "       [ 1.29532500e+02, -7.52423708e-04],\n",
       "       [ 1.29550000e+02,  1.35092104e-04],\n",
       "       [ 1.29515000e+02, -2.70202460e-04],\n",
       "       [ 1.29580000e+02,  5.01746474e-04],\n",
       "       [ 1.29500000e+02, -6.17569882e-04],\n",
       "       [ 1.29540000e+02,  3.08832615e-04],\n",
       "       [ 1.29490000e+02, -3.86055674e-04],\n",
       "       [ 1.29440000e+02, -3.86204771e-04],\n",
       "       [ 1.29510000e+02,  5.40644925e-04],\n",
       "       [ 1.29590000e+02,  6.17522212e-04],\n",
       "       [ 1.29530000e+02, -4.63105905e-04],\n",
       "       [ 1.29560000e+02,  2.31579761e-04],\n",
       "       [ 1.29420000e+02, -1.08116467e-03],\n",
       "       [ 1.29290000e+02, -1.00498636e-03],\n",
       "       [ 1.29140000e+02, -1.16085607e-03],\n",
       "       [ 1.29170000e+02,  2.32279046e-04],\n",
       "       [ 1.29194200e+02,  1.87332456e-04],\n",
       "       [ 1.29220000e+02,  1.99679430e-04],\n",
       "       [ 1.29150000e+02, -5.41858588e-04],\n",
       "       [ 1.29260000e+02,  8.51360293e-04],\n",
       "       [ 1.29230000e+02, -2.32117298e-04],\n",
       "       [ 1.29250000e+02,  1.54750851e-04],\n",
       "       [ 1.29240000e+02, -7.73724322e-05],\n",
       "       [ 1.29300000e+02,  4.64144822e-04],\n",
       "       [ 1.29280000e+02, -1.54691005e-04],\n",
       "       [ 1.29349100e+02,  5.34355969e-04],\n",
       "       [ 1.29286900e+02, -4.80984868e-04],\n",
       "       [ 1.29200000e+02, -6.72374525e-04],\n",
       "       [ 1.29190000e+02, -7.74023763e-05],\n",
       "       [ 1.29330000e+02,  1.08308845e-03],\n",
       "       [ 1.29230000e+02, -7.73514890e-04],\n",
       "       [ 1.29080000e+02, -1.16139535e-03],\n",
       "       [ 1.29119400e+02,  3.05190487e-04],\n",
       "       [ 1.28798600e+02, -2.48761362e-03],\n",
       "       [ 1.28940000e+02,  1.09723584e-03],\n",
       "       [ 1.29220100e+02,  2.16997212e-03],\n",
       "       [ 1.29310000e+02,  6.95470304e-04],\n",
       "       [ 1.29350000e+02,  3.09286324e-04],\n",
       "       [ 1.29280000e+02, -5.41313859e-04],\n",
       "       [ 1.29220000e+02, -4.64216643e-04],\n",
       "       [ 1.29220000e+02,  0.00000000e+00],\n",
       "       [ 1.29300000e+02,  6.18907648e-04],\n",
       "       [ 1.29300000e+02,  0.00000000e+00],\n",
       "       [ 1.29150000e+02, -1.16076624e-03],\n",
       "       [ 1.29350000e+02,  1.54738909e-03],\n",
       "       [ 1.29280000e+02, -5.41313859e-04],\n",
       "       [ 1.29500000e+02,  1.70028637e-03],\n",
       "       [ 1.28940000e+02, -4.33370126e-03],\n",
       "       [ 1.28828000e+02, -8.68998534e-04],\n",
       "       [ 1.28930000e+02,  7.91440074e-04],\n",
       "       [ 1.28940000e+02,  7.75584597e-05],\n",
       "       [ 1.28810000e+02, -1.00872947e-03],\n",
       "       [ 1.28985000e+02,  1.35766812e-03],\n",
       "       [ 1.29010000e+02,  1.93802206e-04],\n",
       "       [ 1.29160000e+02,  1.16202515e-03],\n",
       "       [ 1.28945000e+02, -1.66598903e-03]])"
      ]
     },
     "execution_count": 33,
     "metadata": {},
     "output_type": "execute_result"
    }
   ],
   "source": [
    "#matrix con 2 valores\n",
    "X"
   ]
  },
  {
   "cell_type": "code",
   "execution_count": 34,
   "metadata": {},
   "outputs": [],
   "source": [
    "#para normalizar proximam\n",
    "from sklearn.preprocessing import MinMaxScaler"
   ]
  },
  {
   "cell_type": "code",
   "execution_count": 35,
   "metadata": {},
   "outputs": [],
   "source": [
    "scaler = MinMaxScaler(feature_range=(0,1)).fit(X)"
   ]
  },
  {
   "cell_type": "code",
   "execution_count": 36,
   "metadata": {},
   "outputs": [],
   "source": [
    "X_scaled = scaler.transform(X)"
   ]
  },
  {
   "cell_type": "code",
   "execution_count": 37,
   "metadata": {},
   "outputs": [
    {
     "data": {
      "text/plain": [
       "array([[0.88088693, 0.61895595],\n",
       "       [0.78009896, 0.53594679],\n",
       "       [0.78009896, 0.66634669],\n",
       "       [0.78009896, 0.66634669],\n",
       "       [0.77093641, 0.65448667]])"
      ]
     },
     "execution_count": 37,
     "metadata": {},
     "output_type": "execute_result"
    }
   ],
   "source": [
    "X_scaled[:5]"
   ]
  },
  {
   "cell_type": "code",
   "execution_count": 38,
   "metadata": {},
   "outputs": [],
   "source": [
    "y = [x[0] for x in X_scaled]"
   ]
  },
  {
   "cell_type": "code",
   "execution_count": 39,
   "metadata": {},
   "outputs": [
    {
     "data": {
      "text/plain": [
       "[0.8808869342129526,\n",
       " 0.7800989554700664,\n",
       " 0.7800989554700664,\n",
       " 0.7800989554700664,\n",
       " 0.7709364119479574]"
      ]
     },
     "execution_count": 39,
     "metadata": {},
     "output_type": "execute_result"
    }
   ],
   "source": [
    "#serie de precios - precio del dia siguiente \n",
    "y[:5]"
   ]
  },
  {
   "cell_type": "code",
   "execution_count": 40,
   "metadata": {},
   "outputs": [],
   "source": [
    "#dividir nuestros datos en Train y en Test"
   ]
  },
  {
   "cell_type": "code",
   "execution_count": 41,
   "metadata": {},
   "outputs": [],
   "source": [
    "split = int(len(X_scaled)*0.8)"
   ]
  },
  {
   "cell_type": "code",
   "execution_count": 42,
   "metadata": {},
   "outputs": [
    {
     "name": "stdout",
     "output_type": "stream",
     "text": [
      "79\n"
     ]
    }
   ],
   "source": [
    "print(split)  # es el .80 qty para Train"
   ]
  },
  {
   "cell_type": "code",
   "execution_count": 43,
   "metadata": {},
   "outputs": [],
   "source": [
    "X_train = X_scaled[:split]"
   ]
  },
  {
   "cell_type": "code",
   "execution_count": 44,
   "metadata": {},
   "outputs": [],
   "source": [
    "X_test = X_scaled[split:len(X_scaled)]\n"
   ]
  },
  {
   "cell_type": "code",
   "execution_count": 45,
   "metadata": {},
   "outputs": [
    {
     "data": {
      "text/plain": [
       "20"
      ]
     },
     "execution_count": 45,
     "metadata": {},
     "output_type": "execute_result"
    }
   ],
   "source": [
    "len(X_test)  #qty for test"
   ]
  },
  {
   "cell_type": "code",
   "execution_count": 46,
   "metadata": {},
   "outputs": [],
   "source": [
    "y_train = y[:split]"
   ]
  },
  {
   "cell_type": "code",
   "execution_count": 47,
   "metadata": {},
   "outputs": [],
   "source": [
    "y_test = y[split:len(y)]"
   ]
  },
  {
   "cell_type": "code",
   "execution_count": 48,
   "metadata": {},
   "outputs": [],
   "source": [
    "#solo para asegurarnos q son iguales, si son difs es un error\n",
    "assert len(X_train) == len(y_train)\n",
    "assert len(X_test) == len(y_test)"
   ]
  },
  {
   "cell_type": "code",
   "execution_count": 49,
   "metadata": {},
   "outputs": [
    {
     "data": {
      "text/plain": [
       "array([[0.88088693, 0.61895595],\n",
       "       [0.78009896, 0.53594679],\n",
       "       [0.78009896, 0.66634669],\n",
       "       [0.78009896, 0.66634669],\n",
       "       [0.77093641, 0.65448667],\n",
       "       [0.77093641, 0.66634669],\n",
       "       [0.77093641, 0.66634669],\n",
       "       [0.73428624, 0.61889745],\n",
       "       [0.76287337, 0.70335836],\n",
       "       [0.68847352, 0.57000288],\n",
       "       [0.78468023, 0.79091777],\n",
       "       [0.79842404, 0.68413433],\n",
       "       [0.86256185, 0.74932845],\n",
       "       [0.86256185, 0.66634669],\n",
       "       [0.83507422, 0.63078857],\n",
       "       [0.89004948, 0.73745472],\n",
       "       [1.        , 0.80846417],\n",
       "       [0.84469489, 0.46556746],\n",
       "       [0.83507422, 0.65390042],\n",
       "       [0.75261132, 0.55962295],\n",
       "       [0.74344878, 0.65448393],\n",
       "       [0.76177387, 0.69007131],\n",
       "       [0.73428624, 0.63075839],\n",
       "       [0.76177387, 0.701935  ],\n",
       "       [0.74344878, 0.64262207],\n",
       "       [0.68059373, 0.58494343],\n",
       "       [0.56936045, 0.52218331],\n",
       "       [0.67014843, 0.79697824],\n",
       "       [0.53271028, 0.48818524],\n",
       "       [0.53106102, 0.6642075 ],\n",
       "       [0.55525014, 0.69771852],\n",
       "       [0.56477918, 0.67870354],\n",
       "       [0.60601063, 0.71980235],\n",
       "       [0.58768554, 0.64259092],\n",
       "       [0.51438519, 0.57128687],\n",
       "       [0.40443467, 0.52364668],\n",
       "       [0.42275976, 0.69013923],\n",
       "       [0.48689756, 0.74959159],\n",
       "       [0.55103537, 0.74954654],\n",
       "       [0.75261132, 0.92753923],\n",
       "       [0.79842404, 0.72564681],\n",
       "       [0.79842404, 0.66634669],\n",
       "       [0.76177387, 0.61890843],\n",
       "       [0.67243907, 0.55065458],\n",
       "       [0.68847352, 0.68711836],\n",
       "       [0.65640462, 0.62480056],\n",
       "       [0.71596115, 0.74349486],\n",
       "       [0.6426608 , 0.57138961],\n",
       "       [0.67931098, 0.71383257],\n",
       "       [0.63349826, 0.60698706],\n",
       "       [0.58768554, 0.60696414],\n",
       "       [0.65182335, 0.74947586],\n",
       "       [0.72512369, 0.76129645],\n",
       "       [0.67014843, 0.59513987],\n",
       "       [0.69763606, 0.70195423],\n",
       "       [0.56936045, 0.50010762],\n",
       "       [0.45024739, 0.51182074],\n",
       "       [0.31280924, 0.48785433],\n",
       "       [0.34029687, 0.70206175],\n",
       "       [0.36247022, 0.69515079],\n",
       "       [0.38610958, 0.69704926],\n",
       "       [0.32197178, 0.58303092],\n",
       "       [0.42275976, 0.79725122],\n",
       "       [0.39527213, 0.63065651],\n",
       "       [0.41359721, 0.69014107],\n",
       "       [0.40443467, 0.65444997],\n",
       "       [0.45940993, 0.73771326],\n",
       "       [0.44108485, 0.64256152],\n",
       "       [0.50439802, 0.74850887],\n",
       "       [0.447407  , 0.59239082],\n",
       "       [0.3677845 , 0.56296289],\n",
       "       [0.35862195, 0.65444536],\n",
       "       [0.48689756, 0.83288157],\n",
       "       [0.39527213, 0.54741162],\n",
       "       [0.25783397, 0.48777141],\n",
       "       [0.2939344 , 0.71327256],\n",
       "       [0.        , 0.28385307],\n",
       "       [0.12955837, 0.83505686],\n",
       "       [0.38620121, 1.        ]])"
      ]
     },
     "execution_count": 49,
     "metadata": {},
     "output_type": "execute_result"
    }
   ],
   "source": [
    "X_train"
   ]
  },
  {
   "cell_type": "code",
   "execution_count": 50,
   "metadata": {},
   "outputs": [
    {
     "data": {
      "text/plain": [
       "[0.8808869342129526,\n",
       " 0.7800989554700664,\n",
       " 0.7800989554700664,\n",
       " 0.7800989554700664,\n",
       " 0.7709364119479574,\n",
       " 0.7709364119479574,\n",
       " 0.7709364119479574,\n",
       " 0.7342862378596351,\n",
       " 0.7628733736485458,\n",
       " 0.6884735202492465,\n",
       " 0.7846802272310924,\n",
       " 0.7984240425142133,\n",
       " 0.8625618471688057,\n",
       " 0.8625618471688057,\n",
       " 0.8350742166025498,\n",
       " 0.8900494777350474,\n",
       " 1.0,\n",
       " 0.8446948873007187,\n",
       " 0.8350742166025498,\n",
       " 0.7526113249038104,\n",
       " 0.7434487813817441,\n",
       " 0.761773868425891,\n",
       " 0.7342862378596351,\n",
       " 0.761773868425891,\n",
       " 0.7434487813817441,\n",
       " 0.680593732820256,\n",
       " 0.5693604544621564,\n",
       " 0.6701484332050711,\n",
       " 0.5327102803738484,\n",
       " 0.5310610225398591,\n",
       " 0.5552501374381507,\n",
       " 0.5647791827011304,\n",
       " 0.6060106285505071,\n",
       " 0.5876855415063318,\n",
       " 0.5143851933297015,\n",
       " 0.4044346710647062,\n",
       " 0.42275975810885313,\n",
       " 0.48689756276344553,\n",
       " 0.5510353674180095,\n",
       " 0.7526113249038104,\n",
       " 0.7984240425142133,\n",
       " 0.7984240425142133,\n",
       " 0.761773868425891,\n",
       " 0.6724390690855984,\n",
       " 0.6884735202492465,\n",
       " 0.656404617921936,\n",
       " 0.7159611508154882,\n",
       " 0.6426608026388294,\n",
       " 0.6793109767271517,\n",
       " 0.6334982591167488,\n",
       " 0.5876855415063318,\n",
       " 0.6518233461608958,\n",
       " 0.7251236943375687,\n",
       " 0.6701484332050711,\n",
       " 0.697636063771327,\n",
       " 0.5693604544621564,\n",
       " 0.45024738867510905,\n",
       " 0.3128092358438721,\n",
       " 0.3402968664101138,\n",
       " 0.3624702217335596,\n",
       " 0.38610958402053086,\n",
       " 0.3219717793659669,\n",
       " 0.42275975810885313,\n",
       " 0.39527212754261143,\n",
       " 0.4135972145867868,\n",
       " 0.4044346710647062,\n",
       " 0.45940993219720383,\n",
       " 0.4410848451530285,\n",
       " 0.5043980208906049,\n",
       " 0.4474070001832615,\n",
       " 0.3677844969763697,\n",
       " 0.35862195345428916,\n",
       " 0.48689756276344553,\n",
       " 0.39527212754261143,\n",
       " 0.2578339747114029,\n",
       " 0.2939343961884049,\n",
       " 0.0,\n",
       " 0.12955836540224652,\n",
       " 0.38620120945576275]"
      ]
     },
     "execution_count": 50,
     "metadata": {},
     "output_type": "execute_result"
    }
   ],
   "source": [
    "y_train"
   ]
  },
  {
   "cell_type": "markdown",
   "metadata": {},
   "source": [
    "Labeling using LSTM\n",
    "\n",
    "memoria corto plazo,  el RNN (no memoriza)\n",
    "output  t+1"
   ]
  },
  {
   "cell_type": "code",
   "execution_count": 51,
   "metadata": {},
   "outputs": [],
   "source": [
    "n = 3\n",
    "Xtrain = []\n",
    "ytrain = []\n",
    "Xtest = []\n",
    "ytest = []\n",
    "\n",
    "for i in range(n, len(X_train)):\n",
    "    Xtrain.append(X_train[i - n : i, : X_train.shape[1]])\n",
    "    ytrain.append(y_train[i])  #predict next record\n",
    "for i in range(n, len(X_test)):\n",
    "    Xtest.append(X_test[i-n:i, : X_test.shape[1]])\n",
    "    ytest.append(y_test[i])  #predict next record"
   ]
  },
  {
   "cell_type": "code",
   "execution_count": 52,
   "metadata": {},
   "outputs": [
    {
     "data": {
      "text/html": [
       "<div>\n",
       "<style scoped>\n",
       "    .dataframe tbody tr th:only-of-type {\n",
       "        vertical-align: middle;\n",
       "    }\n",
       "\n",
       "    .dataframe tbody tr th {\n",
       "        vertical-align: top;\n",
       "    }\n",
       "\n",
       "    .dataframe thead th {\n",
       "        text-align: right;\n",
       "    }\n",
       "</style>\n",
       "<table border=\"1\" class=\"dataframe\">\n",
       "  <thead>\n",
       "    <tr style=\"text-align: right;\">\n",
       "      <th></th>\n",
       "      <th>Open</th>\n",
       "      <th>High</th>\n",
       "      <th>Low</th>\n",
       "      <th>Close</th>\n",
       "      <th>Volume</th>\n",
       "      <th>returns</th>\n",
       "      <th>log_returns</th>\n",
       "    </tr>\n",
       "  </thead>\n",
       "  <tbody>\n",
       "    <tr>\n",
       "      <th>2023-03-03 18:30:00</th>\n",
       "      <td>129.76</td>\n",
       "      <td>129.76</td>\n",
       "      <td>129.76</td>\n",
       "      <td>129.76</td>\n",
       "      <td>179</td>\n",
       "      <td>-0.000308</td>\n",
       "      <td>-0.000308</td>\n",
       "    </tr>\n",
       "    <tr>\n",
       "      <th>2023-03-03 18:20:00</th>\n",
       "      <td>129.65</td>\n",
       "      <td>129.65</td>\n",
       "      <td>129.65</td>\n",
       "      <td>129.65</td>\n",
       "      <td>237</td>\n",
       "      <td>-0.000848</td>\n",
       "      <td>-0.000848</td>\n",
       "    </tr>\n",
       "    <tr>\n",
       "      <th>2023-03-03 17:15:00</th>\n",
       "      <td>129.65</td>\n",
       "      <td>129.65</td>\n",
       "      <td>129.65</td>\n",
       "      <td>129.65</td>\n",
       "      <td>300</td>\n",
       "      <td>0.000000</td>\n",
       "      <td>0.000000</td>\n",
       "    </tr>\n",
       "    <tr>\n",
       "      <th>2023-03-03 17:05:00</th>\n",
       "      <td>129.65</td>\n",
       "      <td>129.65</td>\n",
       "      <td>129.65</td>\n",
       "      <td>129.65</td>\n",
       "      <td>500</td>\n",
       "      <td>0.000000</td>\n",
       "      <td>0.000000</td>\n",
       "    </tr>\n",
       "    <tr>\n",
       "      <th>2023-03-03 16:15:00</th>\n",
       "      <td>129.64</td>\n",
       "      <td>129.64</td>\n",
       "      <td>129.64</td>\n",
       "      <td>129.64</td>\n",
       "      <td>12653</td>\n",
       "      <td>-0.000077</td>\n",
       "      <td>-0.000077</td>\n",
       "    </tr>\n",
       "  </tbody>\n",
       "</table>\n",
       "</div>"
      ],
      "text/plain": [
       "                       Open    High     Low   Close  Volume   returns  \\\n",
       "2023-03-03 18:30:00  129.76  129.76  129.76  129.76     179 -0.000308   \n",
       "2023-03-03 18:20:00  129.65  129.65  129.65  129.65     237 -0.000848   \n",
       "2023-03-03 17:15:00  129.65  129.65  129.65  129.65     300  0.000000   \n",
       "2023-03-03 17:05:00  129.65  129.65  129.65  129.65     500  0.000000   \n",
       "2023-03-03 16:15:00  129.64  129.64  129.64  129.64   12653 -0.000077   \n",
       "\n",
       "                     log_returns  \n",
       "2023-03-03 18:30:00    -0.000308  \n",
       "2023-03-03 18:20:00    -0.000848  \n",
       "2023-03-03 17:15:00     0.000000  \n",
       "2023-03-03 17:05:00     0.000000  \n",
       "2023-03-03 16:15:00    -0.000077  "
      ]
     },
     "execution_count": 52,
     "metadata": {},
     "output_type": "execute_result"
    }
   ],
   "source": [
    "df.head(5)"
   ]
  },
  {
   "cell_type": "code",
   "execution_count": 53,
   "metadata": {},
   "outputs": [
    {
     "data": {
      "text/plain": [
       "array([[0.88088693, 0.61895595],\n",
       "       [0.78009896, 0.53594679],\n",
       "       [0.78009896, 0.66634669]])"
      ]
     },
     "execution_count": 53,
     "metadata": {},
     "output_type": "execute_result"
    }
   ],
   "source": [
    "Xtrain[0]"
   ]
  },
  {
   "cell_type": "code",
   "execution_count": 54,
   "metadata": {},
   "outputs": [
    {
     "data": {
      "text/plain": [
       "0.7800989554700664"
      ]
     },
     "execution_count": 54,
     "metadata": {},
     "output_type": "execute_result"
    }
   ],
   "source": [
    "ytrain[0]"
   ]
  },
  {
   "cell_type": "code",
   "execution_count": 55,
   "metadata": {},
   "outputs": [],
   "source": [
    "val = np.array(ytrain[0])\n",
    "val = np.c_[val, np.zeros(val.shape)]"
   ]
  },
  {
   "cell_type": "code",
   "execution_count": 56,
   "metadata": {},
   "outputs": [
    {
     "data": {
      "text/plain": [
       "array([[ 1.29650000e+02, -4.33370126e-03]])"
      ]
     },
     "execution_count": 56,
     "metadata": {},
     "output_type": "execute_result"
    }
   ],
   "source": [
    "scaler.inverse_transform(val)"
   ]
  },
  {
   "cell_type": "markdown",
   "metadata": {},
   "source": [
    "In a LSTM network the input for each LSTM layer needs next informaiton:\n",
    "- The number of observations\n",
    "- The time steps\n",
    "- The features\n",
    "\n",
    "Therefore we need to add a temporal dimension compared to a classical network:\n",
    "(number of observatios, number of steps, number of features per step)\n",
    "\n"
   ]
  },
  {
   "cell_type": "code",
   "execution_count": 57,
   "metadata": {},
   "outputs": [],
   "source": [
    "Xtrain, ytrain = (np.array(Xtrain), np.array(ytrain))"
   ]
  },
  {
   "cell_type": "code",
   "execution_count": 58,
   "metadata": {},
   "outputs": [],
   "source": [
    "Xtrain = np.reshape(Xtrain, (Xtrain.shape[0], Xtrain.shape[1], Xtrain.shape[2]))\n"
   ]
  },
  {
   "cell_type": "code",
   "execution_count": 59,
   "metadata": {},
   "outputs": [],
   "source": [
    "Xtest, ytest = (np.array(Xtest), np.array(ytest))"
   ]
  },
  {
   "cell_type": "code",
   "execution_count": 60,
   "metadata": {},
   "outputs": [],
   "source": [
    "Xtest = np.reshape(Xtest, (Xtest.shape[0], Xtest.shape[1], Xtest.shape[2]))"
   ]
  },
  {
   "cell_type": "code",
   "execution_count": 61,
   "metadata": {},
   "outputs": [
    {
     "name": "stdout",
     "output_type": "stream",
     "text": [
      "(76, 3, 2)\n",
      "(76,)\n",
      "---\n",
      "(17, 3, 2)\n",
      "(17,)\n"
     ]
    }
   ],
   "source": [
    "print(Xtrain.shape)\n",
    "print(ytrain.shape)\n",
    "print(\"---\")\n",
    "print(Xtest.shape)\n",
    "print(ytest.shape)"
   ]
  },
  {
   "attachments": {
    "image.png": {
     "image/png": "[encoded data removed]"
    }
   },
   "cell_type": "markdown",
   "metadata": {},
   "source": [
    "### install tensorflow and keras\n",
    "\n",
    "\n",
    "https://margaretmz.medium.com/anaconda-jupyter-notebook-tensorflow-and-keras-b91f381405f8\n",
    "\n",
    "![image.png](attachment:image.png)\n",
    "\n",
    "\n"
   ]
  },
  {
   "cell_type": "code",
   "execution_count": 48,
   "metadata": {},
   "outputs": [],
   "source": [
    "#pip install tensorflow (es para cuando tienes GPU (acelerador grafico en la lap))\n",
    "#pip install tf-nightly (para cuando no tienes acelerador grafico)\n",
    "#pip install keras"
   ]
  },
  {
   "cell_type": "code",
   "execution_count": 49,
   "metadata": {},
   "outputs": [],
   "source": [
    "#verificamos si está instalado el tensorflow\n",
    "#print (\"TensorFlow version: \" + tf.__version__)"
   ]
  },
  {
   "cell_type": "markdown",
   "metadata": {},
   "source": [
    "### LSTM Model"
   ]
  },
  {
   "cell_type": "code",
   "execution_count": 62,
   "metadata": {},
   "outputs": [],
   "source": [
    "from keras.models import Sequential\n",
    "from keras.layers import LSTM, Dense"
   ]
  },
  {
   "cell_type": "code",
   "execution_count": 63,
   "metadata": {},
   "outputs": [
    {
     "name": "stdout",
     "output_type": "stream",
     "text": [
      "Epoch 1/100\n",
      "5/5 [==============================] - 4s 445ms/step - loss: 0.3603 - val_loss: 0.0582\n",
      "Epoch 2/100\n",
      "5/5 [==============================] - 0s 18ms/step - loss: 0.3226 - val_loss: 0.0509\n",
      "Epoch 3/100\n",
      "5/5 [==============================] - 0s 17ms/step - loss: 0.3045 - val_loss: 0.0450\n",
      "Epoch 4/100\n",
      "5/5 [==============================] - 0s 16ms/step - loss: 0.2623 - val_loss: 0.0404\n",
      "Epoch 5/100\n",
      "5/5 [==============================] - 0s 15ms/step - loss: 0.2419 - val_loss: 0.0369\n",
      "Epoch 6/100\n",
      "5/5 [==============================] - 0s 14ms/step - loss: 0.2054 - val_loss: 0.0346\n",
      "Epoch 7/100\n",
      "5/5 [==============================] - 0s 15ms/step - loss: 0.1783 - val_loss: 0.0333\n",
      "Epoch 8/100\n",
      "5/5 [==============================] - 0s 15ms/step - loss: 0.1494 - val_loss: 0.0331\n",
      "Epoch 9/100\n",
      "5/5 [==============================] - 0s 15ms/step - loss: 0.1467 - val_loss: 0.0337\n",
      "Epoch 10/100\n",
      "5/5 [==============================] - 0s 15ms/step - loss: 0.1231 - val_loss: 0.0352\n",
      "Epoch 11/100\n",
      "5/5 [==============================] - 0s 15ms/step - loss: 0.1167 - val_loss: 0.0376\n",
      "Epoch 12/100\n",
      "5/5 [==============================] - 0s 15ms/step - loss: 0.1007 - val_loss: 0.0407\n",
      "Epoch 13/100\n",
      "5/5 [==============================] - 0s 17ms/step - loss: 0.0882 - val_loss: 0.0444\n",
      "Epoch 14/100\n",
      "5/5 [==============================] - 0s 18ms/step - loss: 0.0741 - val_loss: 0.0488\n",
      "Epoch 15/100\n",
      "5/5 [==============================] - 0s 19ms/step - loss: 0.0742 - val_loss: 0.0537\n",
      "Epoch 16/100\n",
      "5/5 [==============================] - 0s 18ms/step - loss: 0.0611 - val_loss: 0.0591\n",
      "Epoch 17/100\n",
      "5/5 [==============================] - 0s 19ms/step - loss: 0.0486 - val_loss: 0.0646\n",
      "Epoch 18/100\n",
      "5/5 [==============================] - 0s 22ms/step - loss: 0.0502 - val_loss: 0.0704\n",
      "Epoch 19/100\n",
      "5/5 [==============================] - 0s 17ms/step - loss: 0.0433 - val_loss: 0.0759\n",
      "Epoch 20/100\n",
      "5/5 [==============================] - 0s 14ms/step - loss: 0.0366 - val_loss: 0.0816\n",
      "Epoch 21/100\n",
      "5/5 [==============================] - 0s 19ms/step - loss: 0.0365 - val_loss: 0.0869\n",
      "Epoch 22/100\n",
      "5/5 [==============================] - 0s 23ms/step - loss: 0.0398 - val_loss: 0.0916\n",
      "Epoch 23/100\n",
      "5/5 [==============================] - 0s 17ms/step - loss: 0.0297 - val_loss: 0.0959\n",
      "Epoch 24/100\n",
      "5/5 [==============================] - 0s 15ms/step - loss: 0.0363 - val_loss: 0.0997\n",
      "Epoch 25/100\n",
      "5/5 [==============================] - 0s 15ms/step - loss: 0.0333 - val_loss: 0.1026\n",
      "Epoch 26/100\n",
      "5/5 [==============================] - 0s 16ms/step - loss: 0.0280 - val_loss: 0.1049\n",
      "Epoch 27/100\n",
      "5/5 [==============================] - 0s 15ms/step - loss: 0.0316 - val_loss: 0.1069\n",
      "Epoch 28/100\n",
      "5/5 [==============================] - 0s 15ms/step - loss: 0.0330 - val_loss: 0.1081\n",
      "Epoch 29/100\n",
      "5/5 [==============================] - 0s 16ms/step - loss: 0.0340 - val_loss: 0.1092\n",
      "Epoch 30/100\n",
      "5/5 [==============================] - 0s 16ms/step - loss: 0.0327 - val_loss: 0.1093\n",
      "Epoch 31/100\n",
      "5/5 [==============================] - 0s 17ms/step - loss: 0.0325 - val_loss: 0.1096\n",
      "Epoch 32/100\n",
      "5/5 [==============================] - 0s 16ms/step - loss: 0.0273 - val_loss: 0.1095\n",
      "Epoch 33/100\n",
      "5/5 [==============================] - 0s 19ms/step - loss: 0.0322 - val_loss: 0.1092\n",
      "Epoch 34/100\n",
      "5/5 [==============================] - 0s 20ms/step - loss: 0.0348 - val_loss: 0.1082\n",
      "Epoch 35/100\n",
      "5/5 [==============================] - 0s 16ms/step - loss: 0.0287 - val_loss: 0.1077\n",
      "Epoch 36/100\n",
      "5/5 [==============================] - 0s 15ms/step - loss: 0.0340 - val_loss: 0.1069\n",
      "Epoch 37/100\n",
      "5/5 [==============================] - 0s 14ms/step - loss: 0.0273 - val_loss: 0.1061\n",
      "Epoch 38/100\n",
      "5/5 [==============================] - 0s 15ms/step - loss: 0.0236 - val_loss: 0.1052\n",
      "Epoch 39/100\n",
      "5/5 [==============================] - 0s 14ms/step - loss: 0.0268 - val_loss: 0.1040\n",
      "Epoch 40/100\n",
      "5/5 [==============================] - 0s 16ms/step - loss: 0.0249 - val_loss: 0.1035\n",
      "Epoch 41/100\n",
      "5/5 [==============================] - 0s 14ms/step - loss: 0.0245 - val_loss: 0.1031\n",
      "Epoch 42/100\n",
      "5/5 [==============================] - 0s 14ms/step - loss: 0.0328 - val_loss: 0.1018\n",
      "Epoch 43/100\n",
      "5/5 [==============================] - 0s 15ms/step - loss: 0.0315 - val_loss: 0.1008\n",
      "Epoch 44/100\n",
      "5/5 [==============================] - 0s 15ms/step - loss: 0.0247 - val_loss: 0.0998\n",
      "Epoch 45/100\n",
      "5/5 [==============================] - 0s 15ms/step - loss: 0.0302 - val_loss: 0.0985\n",
      "Epoch 46/100\n",
      "5/5 [==============================] - 0s 15ms/step - loss: 0.0264 - val_loss: 0.0977\n",
      "Epoch 47/100\n",
      "5/5 [==============================] - 0s 15ms/step - loss: 0.0259 - val_loss: 0.0964\n",
      "Epoch 48/100\n",
      "5/5 [==============================] - 0s 18ms/step - loss: 0.0230 - val_loss: 0.0951\n",
      "Epoch 49/100\n",
      "5/5 [==============================] - 0s 18ms/step - loss: 0.0257 - val_loss: 0.0941\n",
      "Epoch 50/100\n",
      "5/5 [==============================] - 0s 17ms/step - loss: 0.0299 - val_loss: 0.0933\n",
      "Epoch 51/100\n",
      "5/5 [==============================] - 0s 18ms/step - loss: 0.0250 - val_loss: 0.0925\n",
      "Epoch 52/100\n",
      "5/5 [==============================] - 0s 19ms/step - loss: 0.0296 - val_loss: 0.0918\n",
      "Epoch 53/100\n",
      "5/5 [==============================] - 0s 19ms/step - loss: 0.0275 - val_loss: 0.0910\n",
      "Epoch 54/100\n",
      "5/5 [==============================] - 0s 18ms/step - loss: 0.0244 - val_loss: 0.0905\n",
      "Epoch 55/100\n",
      "5/5 [==============================] - 0s 17ms/step - loss: 0.0247 - val_loss: 0.0896\n",
      "Epoch 56/100\n",
      "5/5 [==============================] - 0s 16ms/step - loss: 0.0215 - val_loss: 0.0890\n",
      "Epoch 57/100\n",
      "5/5 [==============================] - 0s 16ms/step - loss: 0.0231 - val_loss: 0.0881\n",
      "Epoch 58/100\n",
      "5/5 [==============================] - 0s 15ms/step - loss: 0.0227 - val_loss: 0.0873\n",
      "Epoch 59/100\n",
      "5/5 [==============================] - 0s 15ms/step - loss: 0.0202 - val_loss: 0.0866\n",
      "Epoch 60/100\n",
      "5/5 [==============================] - 0s 15ms/step - loss: 0.0234 - val_loss: 0.0855\n",
      "Epoch 61/100\n",
      "5/5 [==============================] - 0s 16ms/step - loss: 0.0219 - val_loss: 0.0847\n",
      "Epoch 62/100\n",
      "5/5 [==============================] - 0s 18ms/step - loss: 0.0287 - val_loss: 0.0835\n",
      "Epoch 63/100\n",
      "5/5 [==============================] - 0s 17ms/step - loss: 0.0217 - val_loss: 0.0831\n",
      "Epoch 64/100\n",
      "5/5 [==============================] - 0s 17ms/step - loss: 0.0239 - val_loss: 0.0819\n",
      "Epoch 65/100\n",
      "5/5 [==============================] - 0s 17ms/step - loss: 0.0251 - val_loss: 0.0808\n",
      "Epoch 66/100\n",
      "5/5 [==============================] - 0s 16ms/step - loss: 0.0206 - val_loss: 0.0803\n",
      "Epoch 67/100\n",
      "5/5 [==============================] - 0s 17ms/step - loss: 0.0241 - val_loss: 0.0792\n",
      "Epoch 68/100\n",
      "5/5 [==============================] - 0s 19ms/step - loss: 0.0189 - val_loss: 0.0784\n",
      "Epoch 69/100\n",
      "5/5 [==============================] - 0s 19ms/step - loss: 0.0235 - val_loss: 0.0778\n",
      "Epoch 70/100\n",
      "5/5 [==============================] - 0s 16ms/step - loss: 0.0209 - val_loss: 0.0766\n",
      "Epoch 71/100\n",
      "5/5 [==============================] - 0s 16ms/step - loss: 0.0203 - val_loss: 0.0757\n",
      "Epoch 72/100\n",
      "5/5 [==============================] - 0s 17ms/step - loss: 0.0260 - val_loss: 0.0750\n",
      "Epoch 73/100\n",
      "5/5 [==============================] - 0s 16ms/step - loss: 0.0189 - val_loss: 0.0740\n",
      "Epoch 74/100\n",
      "5/5 [==============================] - 0s 16ms/step - loss: 0.0201 - val_loss: 0.0732\n",
      "Epoch 75/100\n",
      "5/5 [==============================] - 0s 16ms/step - loss: 0.0231 - val_loss: 0.0724\n",
      "Epoch 76/100\n",
      "5/5 [==============================] - 0s 18ms/step - loss: 0.0170 - val_loss: 0.0723\n",
      "Epoch 77/100\n",
      "5/5 [==============================] - 0s 17ms/step - loss: 0.0181 - val_loss: 0.0714\n",
      "Epoch 78/100\n",
      "5/5 [==============================] - 0s 17ms/step - loss: 0.0217 - val_loss: 0.0706\n",
      "Epoch 79/100\n",
      "5/5 [==============================] - 0s 15ms/step - loss: 0.0223 - val_loss: 0.0702\n",
      "Epoch 80/100\n",
      "5/5 [==============================] - 0s 17ms/step - loss: 0.0162 - val_loss: 0.0696\n",
      "Epoch 81/100\n",
      "5/5 [==============================] - 0s 16ms/step - loss: 0.0145 - val_loss: 0.0687\n",
      "Epoch 82/100\n",
      "5/5 [==============================] - 0s 19ms/step - loss: 0.0168 - val_loss: 0.0677\n",
      "Epoch 83/100\n",
      "5/5 [==============================] - 0s 17ms/step - loss: 0.0208 - val_loss: 0.0666\n"
     ]
    },
    {
     "name": "stdout",
     "output_type": "stream",
     "text": [
      "Epoch 84/100\n",
      "5/5 [==============================] - 0s 18ms/step - loss: 0.0182 - val_loss: 0.0658\n",
      "Epoch 85/100\n",
      "5/5 [==============================] - 0s 18ms/step - loss: 0.0192 - val_loss: 0.0648\n",
      "Epoch 86/100\n",
      "5/5 [==============================] - 0s 19ms/step - loss: 0.0190 - val_loss: 0.0642\n",
      "Epoch 87/100\n",
      "5/5 [==============================] - 0s 17ms/step - loss: 0.0198 - val_loss: 0.0639\n",
      "Epoch 88/100\n",
      "5/5 [==============================] - 0s 15ms/step - loss: 0.0204 - val_loss: 0.0632\n",
      "Epoch 89/100\n",
      "5/5 [==============================] - 0s 15ms/step - loss: 0.0163 - val_loss: 0.0626\n",
      "Epoch 90/100\n",
      "5/5 [==============================] - 0s 15ms/step - loss: 0.0141 - val_loss: 0.0620\n",
      "Epoch 91/100\n",
      "5/5 [==============================] - 0s 16ms/step - loss: 0.0147 - val_loss: 0.0611\n",
      "Epoch 92/100\n",
      "5/5 [==============================] - 0s 13ms/step - loss: 0.0173 - val_loss: 0.0602\n",
      "Epoch 93/100\n",
      "5/5 [==============================] - 0s 14ms/step - loss: 0.0171 - val_loss: 0.0594\n",
      "Epoch 94/100\n",
      "5/5 [==============================] - 0s 14ms/step - loss: 0.0123 - val_loss: 0.0592\n",
      "Epoch 95/100\n",
      "5/5 [==============================] - 0s 14ms/step - loss: 0.0194 - val_loss: 0.0580\n",
      "Epoch 96/100\n",
      "5/5 [==============================] - 0s 15ms/step - loss: 0.0176 - val_loss: 0.0572\n",
      "Epoch 97/100\n",
      "5/5 [==============================] - 0s 16ms/step - loss: 0.0162 - val_loss: 0.0563\n",
      "Epoch 98/100\n",
      "5/5 [==============================] - 0s 15ms/step - loss: 0.0152 - val_loss: 0.0558\n",
      "Epoch 99/100\n",
      "5/5 [==============================] - 0s 19ms/step - loss: 0.0149 - val_loss: 0.0553\n",
      "Epoch 100/100\n",
      "5/5 [==============================] - 0s 15ms/step - loss: 0.0127 - val_loss: 0.0551\n"
     ]
    },
    {
     "data": {
      "text/plain": [
       "<tensorflow.python.keras.callbacks.History at 0x28677002880>"
      ]
     },
     "execution_count": 63,
     "metadata": {},
     "output_type": "execute_result"
    }
   ],
   "source": [
    "model = Sequential()\n",
    "model.add(LSTM(4, input_shape=(Xtrain.shape[1], Xtrain.shape[2])))\n",
    "model.add(Dense(1))\n",
    "model.compile(loss=\"mean_squared_error\", optimizer=\"adam\")\n",
    "model.fit(\n",
    "    Xtrain, ytrain, epochs=100, validation_data=(Xtest, ytest), batch_size=16, verbose=1\n",
    ")"
   ]
  },
  {
   "cell_type": "code",
   "execution_count": 64,
   "metadata": {},
   "outputs": [
    {
     "name": "stdout",
     "output_type": "stream",
     "text": [
      "Model: \"sequential\"\n",
      "_________________________________________________________________\n",
      "Layer (type)                 Output Shape              Param #   \n",
      "=================================================================\n",
      "lstm (LSTM)                  (None, 4)                 112       \n",
      "_________________________________________________________________\n",
      "dense (Dense)                (None, 1)                 5         \n",
      "=================================================================\n",
      "Total params: 117\n",
      "Trainable params: 117\n",
      "Non-trainable params: 0\n",
      "_________________________________________________________________\n"
     ]
    }
   ],
   "source": [
    "model.summary()"
   ]
  },
  {
   "cell_type": "code",
   "execution_count": 65,
   "metadata": {},
   "outputs": [],
   "source": [
    "trainPredict = model.predict(Xtrain)\n",
    "testPredict = model.predict(Xtest)"
   ]
  },
  {
   "cell_type": "code",
   "execution_count": 66,
   "metadata": {},
   "outputs": [],
   "source": [
    "trainPredict = np.c_[trainPredict, np.zeros(trainPredict.shape)]\n",
    "testPredict = np.c_[testPredict, np.zeros(testPredict.shape)]"
   ]
  },
  {
   "cell_type": "code",
   "execution_count": 67,
   "metadata": {},
   "outputs": [],
   "source": [
    "#invert predictions\n",
    "trainPredict = scaler.inverse_transform(trainPredict)\n",
    "trainPredict = [x[0] for x in trainPredict]\n",
    "\n",
    "testPredict = scaler.inverse_transform(testPredict)\n",
    "testPredict = [x[0] for x in testPredict]"
   ]
  },
  {
   "cell_type": "code",
   "execution_count": 68,
   "metadata": {},
   "outputs": [
    {
     "name": "stdout",
     "output_type": "stream",
     "text": [
      "[129.53452941002845, 129.53283817489145, 129.54298883833883, 129.5423065676212, 129.54164901685712, 129.5271200593233, 129.53665155298708, 129.5038040690422, 129.5466878541231, 129.5507014638424, 129.59587080378532, 129.5882737115383, 129.57923297400473, 129.59093279790878, 129.6373593426466, 129.5884903363943, 129.573412986207, 129.5124417412281, 129.52411164097785, 129.52674197413918]\n",
      "[129.39482472271916, 129.3577987859964, 129.3431986610174, 129.3799410989046, 129.39210338109731, 129.3339368100047, 129.40058388642072, 129.37361968636512, 129.49364312729833, 129.24985536835788, 129.186004899317, 129.15140142046212, 129.19783700749872, 129.159823996526, 129.2199282541871, 129.23124826901554, 129.3246453926265]\n"
     ]
    }
   ],
   "source": [
    "print(trainPredict[:20])\n",
    "print(testPredict[:20])"
   ]
  },
  {
   "cell_type": "code",
   "execution_count": 69,
   "metadata": {},
   "outputs": [
    {
     "name": "stdout",
     "output_type": "stream",
     "text": [
      "[129.53452941002845, 129.53283817489145, 129.54298883833883, 129.5423065676212, 129.54164901685712, 129.5271200593233, 129.53665155298708, 129.5038040690422, 129.5466878541231, 129.5507014638424, 129.59587080378532, 129.5882737115383, 129.57923297400473, 129.59093279790878, 129.6373593426466, 129.5884903363943, 129.573412986207, 129.5124417412281, 129.52411164097785, 129.52674197413918, 129.5268837886095, 129.53924545674323, 129.52893320286273, 129.50590162215232, 129.44672322432993, 129.47996206417082, 129.42525810804366, 129.43556060404777, 129.42267513310907, 129.4455538404226, 129.46749488086698, 129.46038945548534, 129.4276403309345, 129.36431216849087, 129.35915343945024, 129.38944982419014, 129.4388840066433, 129.53978890540597, 129.57357223474978, 129.5843208608627, 129.5454627852678, 129.49784265708922, 129.49521987001893, 129.48048157351016, 129.51717079844474, 129.4847660618782, 129.5040878280878, 129.473204929924, 129.46132764277456, 129.47804522693156, 129.51806917359826, 129.51022527213095, 129.51567016716, 129.44685918407438, 129.39180056166649, 129.3042499998033, 129.3093430258095, 129.3225700549483, 129.35243826407194, 129.323090117234, 129.365623431921, 129.35269125328063, 129.3750747158408, 129.35901422708034, 129.38892875359056, 129.3820917348623, 129.41634799594877, 129.3871396794796, 129.3527066056728, 129.3293935752809, 129.38833807680606, 129.3634136632323, 129.30382302765844, 129.28697328932878, 129.1521222347915, 129.20430042966603]\n"
     ]
    }
   ],
   "source": [
    "print(trainPredict)\n"
   ]
  },
  {
   "cell_type": "code",
   "execution_count": 70,
   "metadata": {},
   "outputs": [],
   "source": [
    "from sklearn.metrics import mean_squared_error"
   ]
  },
  {
   "cell_type": "code",
   "execution_count": 71,
   "metadata": {},
   "outputs": [
    {
     "name": "stdout",
     "output_type": "stream",
     "text": [
      "Train Score: 128.84 RMSE\n"
     ]
    }
   ],
   "source": [
    "#calculate root mean squared error\n",
    "trainScore = mean_squared_error([x[0][0] for x in Xtrain], trainPredict, squared=False)\n",
    "print(\"Train Score: %.2f RMSE\" % (trainScore))"
   ]
  },
  {
   "cell_type": "code",
   "execution_count": 72,
   "metadata": {},
   "outputs": [
    {
     "name": "stdout",
     "output_type": "stream",
     "text": [
      "Test Score: 128.98 RMSE\n"
     ]
    }
   ],
   "source": [
    "testScore = mean_squared_error([x[0][0] for x in Xtest], testPredict, squared=False)\n",
    "print(\"Test Score: %.2f RMSE\" % (testScore))"
   ]
  },
  {
   "cell_type": "code",
   "execution_count": 73,
   "metadata": {},
   "outputs": [
    {
     "data": {
      "image/png": "[encoded data removed]",
      "text/plain": [
       "<Figure size 1152x432 with 1 Axes>"
      ]
     },
     "metadata": {
      "needs_background": "light"
     },
     "output_type": "display_data"
    }
   ],
   "source": [
    "plt.figure(1, figsize=(16,6)) \n",
    "_ = plt.plot(trainPredict[:20])"
   ]
  },
  {
   "cell_type": "code",
   "execution_count": 74,
   "metadata": {},
   "outputs": [
    {
     "data": {
      "text/plain": [
       "pandas.core.series.Series"
      ]
     },
     "execution_count": 74,
     "metadata": {},
     "output_type": "execute_result"
    }
   ],
   "source": [
    "# Apilar los __DataFrames__ uno encima del otro\n",
    "type(df.Close)"
   ]
  },
  {
   "cell_type": "code",
   "execution_count": 75,
   "metadata": {},
   "outputs": [
    {
     "data": {
      "text/plain": [
       "list"
      ]
     },
     "execution_count": 75,
     "metadata": {},
     "output_type": "execute_result"
    }
   ],
   "source": [
    "type(trainPredict[:20])"
   ]
  },
  {
   "cell_type": "code",
   "execution_count": 76,
   "metadata": {},
   "outputs": [],
   "source": [
    "df_close_list = df.Close.tolist()"
   ]
  },
  {
   "cell_type": "code",
   "execution_count": 77,
   "metadata": {},
   "outputs": [],
   "source": [
    "tendencia = df_close_list + trainPredict[:20]"
   ]
  },
  {
   "cell_type": "code",
   "execution_count": 78,
   "metadata": {},
   "outputs": [
    {
     "data": {
      "image/png": "[encoded data removed]",
      "text/plain": [
       "<Figure size 1152x432 with 1 Axes>"
      ]
     },
     "metadata": {
      "needs_background": "light"
     },
     "output_type": "display_data"
    }
   ],
   "source": [
    "plt.figure(1, figsize=(16,6)) \n",
    "_ = plt.plot(df_close_list)"
   ]
  },
  {
   "cell_type": "code",
   "execution_count": 79,
   "metadata": {},
   "outputs": [
    {
     "data": {
      "image/png": "[encoded data removed]",
      "text/plain": [
       "<Figure size 1152x432 with 1 Axes>"
      ]
     },
     "metadata": {
      "needs_background": "light"
     },
     "output_type": "display_data"
    }
   ],
   "source": [
    "plt.figure(1, figsize=(16,6)) \n",
    "_ = plt.plot(tendencia)"
   ]
  },
  {
   "cell_type": "code",
   "execution_count": null,
   "metadata": {},
   "outputs": [],
   "source": []
  }
 ],
 "metadata": {
  "kernelspec": {
   "display_name": "Python 3",
   "language": "python",
   "name": "python3"
  },
  "language_info": {
   "codemirror_mode": {
    "name": "ipython",
    "version": 3
   },
   "file_extension": ".py",
   "mimetype": "text/x-python",
   "name": "python",
   "nbconvert_exporter": "python",
   "pygments_lexer": "ipython3",
   "version": "3.8.5"
  }
 },
 "nbformat": 4,
 "nbformat_minor": 4
}
