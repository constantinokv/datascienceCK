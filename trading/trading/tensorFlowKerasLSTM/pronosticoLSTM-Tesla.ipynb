{
 "cells": [
  {
   "cell_type": "code",
   "execution_count": 1,
   "metadata": {},
   "outputs": [],
   "source": [
    "import pandas as pd\n",
    "import numpy as np\n",
    "import os\n",
    "import matplotlib.pyplot as plt\n",
    "import time\n",
    "\n",
    "import seaborn as sns\n",
    "import matplotlib.pyplot as plt\n",
    "\n",
    "#plt.style.use(style=\"seaborn\")\n",
    "sns.set_style(style=\"whitegrid\")\n",
    "%matplotlib inline\n"
   ]
  },
  {
   "cell_type": "code",
   "execution_count": 2,
   "metadata": {},
   "outputs": [],
   "source": [
    "#print(data[4])"
   ]
  },
  {
   "cell_type": "code",
   "execution_count": 3,
   "metadata": {},
   "outputs": [
    {
     "name": "stdout",
     "output_type": "stream",
     "text": [
      "{'Meta Data': {'1. Information': 'Intraday (5min) open, high, low, close prices and volume', '2. Symbol': 'IBM', '3. Last Refreshed': '2024-02-23 19:55:00', '4. Interval': '5min', '5. Output Size': 'Compact', '6. Time Zone': 'US/Eastern'}, 'Time Series (5min)': {'2024-02-23 19:55:00': {'1. open': '185.6000', '2. high': '185.6000', '3. low': '185.6000', '4. close': '185.6000', '5. volume': '90'}, '2024-02-23 19:45:00': {'1. open': '185.6000', '2. high': '185.6000', '3. low': '185.4600', '4. close': '185.4600', '5. volume': '2'}, '2024-02-23 19:30:00': {'1. open': '185.6800', '2. high': '185.6900', '3. low': '185.6800', '4. close': '185.6900', '5. volume': '214'}, '2024-02-23 19:20:00': {'1. open': '185.6900', '2. high': '185.6900', '3. low': '185.3200', '4. close': '185.4600', '5. volume': '3'}, '2024-02-23 19:10:00': {'1. open': '185.6900', '2. high': '185.6900', '3. low': '185.6900', '4. close': '185.6900', '5. volume': '10'}, '2024-02-23 19:00:00': {'1. open': '185.7200', '2. high': '185.7200', '3. low': '185.6900', '4. close': '185.6900', '5. volume': '495739'}, '2024-02-23 18:55:00': {'1. open': '185.6900', '2. high': '185.6900', '3. low': '185.6800', '4. close': '185.6900', '5. volume': '65'}, '2024-02-23 18:45:00': {'1. open': '185.4500', '2. high': '185.4500', '3. low': '185.4500', '4. close': '185.4500', '5. volume': '4'}, '2024-02-23 18:40:00': {'1. open': '185.6800', '2. high': '185.6800', '3. low': '185.3100', '4. close': '185.3100', '5. volume': '107'}, '2024-02-23 18:35:00': {'1. open': '185.6700', '2. high': '185.6700', '3. low': '185.3510', '4. close': '185.4600', '5. volume': '219'}, '2024-02-23 18:30:00': {'1. open': '185.7200', '2. high': '185.7200', '3. low': '185.6800', '4. close': '185.6900', '5. volume': '495800'}, '2024-02-23 18:25:00': {'1. open': '185.6900', '2. high': '185.6900', '3. low': '185.6700', '4. close': '185.6700', '5. volume': '140'}, '2024-02-23 18:20:00': {'1. open': '185.6900', '2. high': '185.6900', '3. low': '185.3500', '4. close': '185.3500', '5. volume': '2'}, '2024-02-23 18:15:00': {'1. open': '185.6900', '2. high': '185.6900', '3. low': '185.6900', '4. close': '185.6900', '5. volume': '10'}, '2024-02-23 18:10:00': {'1. open': '185.6900', '2. high': '185.6900', '3. low': '185.6900', '4. close': '185.6900', '5. volume': '5'}, '2024-02-23 18:05:00': {'1. open': '185.4500', '2. high': '185.4500', '3. low': '185.4500', '4. close': '185.4500', '5. volume': '6'}, '2024-02-23 18:00:00': {'1. open': '185.6800', '2. high': '185.6800', '3. low': '185.4500', '4. close': '185.4500', '5. volume': '21'}, '2024-02-23 17:55:00': {'1. open': '185.6800', '2. high': '185.6800', '3. low': '185.5600', '4. close': '185.5600', '5. volume': '211'}, '2024-02-23 17:50:00': {'1. open': '185.6900', '2. high': '185.7000', '3. low': '185.6100', '4. close': '185.6100', '5. volume': '33'}, '2024-02-23 17:20:00': {'1. open': '185.7000', '2. high': '185.7000', '3. low': '185.6000', '4. close': '185.6000', '5. volume': '15'}, '2024-02-23 17:15:00': {'1. open': '185.7000', '2. high': '185.7000', '3. low': '185.7000', '4. close': '185.7000', '5. volume': '4'}, '2024-02-23 17:10:00': {'1. open': '185.7000', '2. high': '185.7000', '3. low': '185.6100', '4. close': '185.6900', '5. volume': '72'}, '2024-02-23 17:05:00': {'1. open': '185.6900', '2. high': '185.7000', '3. low': '185.6900', '4. close': '185.7000', '5. volume': '50'}, '2024-02-23 16:55:00': {'1. open': '185.7000', '2. high': '185.7000', '3. low': '185.7000', '4. close': '185.7000', '5. volume': '5'}, '2024-02-23 16:50:00': {'1. open': '185.5500', '2. high': '185.5700', '3. low': '185.5500', '4. close': '185.5700', '5. volume': '25'}, '2024-02-23 16:45:00': {'1. open': '185.5100', '2. high': '185.5100', '3. low': '185.5100', '4. close': '185.5100', '5. volume': '54'}, '2024-02-23 16:40:00': {'1. open': '185.7200', '2. high': '185.7200', '3. low': '185.3100', '4. close': '185.3100', '5. volume': '125'}, '2024-02-23 16:35:00': {'1. open': '185.4800', '2. high': '185.7200', '3. low': '185.4800', '4. close': '185.6000', '5. volume': '466'}, '2024-02-23 16:30:00': {'1. open': '185.3100', '2. high': '185.6000', '3. low': '185.3100', '4. close': '185.3300', '5. volume': '195'}, '2024-02-23 16:25:00': {'1. open': '185.4500', '2. high': '185.4500', '3. low': '185.4000', '4. close': '185.4400', '5. volume': '40'}, '2024-02-23 16:20:00': {'1. open': '185.7200', '2. high': '185.7200', '3. low': '185.2600', '4. close': '185.5000', '5. volume': '5680'}, '2024-02-23 16:15:00': {'1. open': '185.7200', '2. high': '185.7200', '3. low': '185.2600', '4. close': '185.2600', '5. volume': '192'}, '2024-02-23 16:10:00': {'1. open': '185.7200', '2. high': '185.7200', '3. low': '185.2700', '4. close': '185.6100', '5. volume': '495742'}, '2024-02-23 16:05:00': {'1. open': '185.7200', '2. high': '185.7200', '3. low': '185.2300', '4. close': '185.2600', '5. volume': '1826'}, '2024-02-23 16:00:00': {'1. open': '185.7000', '2. high': '185.7200', '3. low': '185.0100', '4. close': '185.5400', '5. volume': '1109251'}, '2024-02-23 15:55:00': {'1. open': '186.0800', '2. high': '186.0800', '3. low': '185.6850', '4. close': '185.7000', '5. volume': '274717'}, '2024-02-23 15:50:00': {'1. open': '186.2600', '2. high': '186.3400', '3. low': '186.0000', '4. close': '186.0700', '5. volume': '105088'}, '2024-02-23 15:45:00': {'1. open': '186.1900', '2. high': '186.3700', '3. low': '186.1790', '4. close': '186.2500', '5. volume': '71089'}, '2024-02-23 15:40:00': {'1. open': '186.2100', '2. high': '186.2800', '3. low': '186.1500', '4. close': '186.1800', '5. volume': '45416'}, '2024-02-23 15:35:00': {'1. open': '186.1800', '2. high': '186.3600', '3. low': '186.1450', '4. close': '186.2100', '5. volume': '43675'}, '2024-02-23 15:30:00': {'1. open': '186.2400', '2. high': '186.2700', '3. low': '186.1000', '4. close': '186.1700', '5. volume': '34262'}, '2024-02-23 15:25:00': {'1. open': '186.3000', '2. high': '186.3300', '3. low': '186.2300', '4. close': '186.2500', '5. volume': '35300'}, '2024-02-23 15:20:00': {'1. open': '186.3100', '2. high': '186.3300', '3. low': '186.2500', '4. close': '186.2900', '5. volume': '25783'}, '2024-02-23 15:15:00': {'1. open': '186.1550', '2. high': '186.3050', '3. low': '186.1550', '4. close': '186.3050', '5. volume': '33805'}, '2024-02-23 15:10:00': {'1. open': '186.1100', '2. high': '186.1900', '3. low': '186.0660', '4. close': '186.1360', '5. volume': '33645'}, '2024-02-23 15:05:00': {'1. open': '186.1300', '2. high': '186.1900', '3. low': '186.1000', '4. close': '186.1100', '5. volume': '19461'}, '2024-02-23 15:00:00': {'1. open': '186.1330', '2. high': '186.2000', '3. low': '186.0400', '4. close': '186.1300', '5. volume': '34148'}, '2024-02-23 14:55:00': {'1. open': '186.0000', '2. high': '186.1600', '3. low': '186.0000', '4. close': '186.1350', '5. volume': '24445'}, '2024-02-23 14:50:00': {'1. open': '185.9400', '2. high': '186.0810', '3. low': '185.9200', '4. close': '186.0000', '5. volume': '29244'}, '2024-02-23 14:45:00': {'1. open': '185.9400', '2. high': '186.0500', '3. low': '185.9400', '4. close': '185.9680', '5. volume': '24332'}, '2024-02-23 14:40:00': {'1. open': '185.9800', '2. high': '186.0200', '3. low': '185.9000', '4. close': '185.9300', '5. volume': '22272'}, '2024-02-23 14:35:00': {'1. open': '186.0090', '2. high': '186.0500', '3. low': '185.8800', '4. close': '185.9500', '5. volume': '41195'}, '2024-02-23 14:30:00': {'1. open': '185.9300', '2. high': '186.0700', '3. low': '185.9000', '4. close': '186.0100', '5. volume': '24969'}, '2024-02-23 14:25:00': {'1. open': '185.9500', '2. high': '186.0200', '3. low': '185.8910', '4. close': '185.9200', '5. volume': '16521'}, '2024-02-23 14:20:00': {'1. open': '186.0600', '2. high': '186.1300', '3. low': '185.9300', '4. close': '185.9550', '5. volume': '32932'}, '2024-02-23 14:15:00': {'1. open': '186.0600', '2. high': '186.1100', '3. low': '186.0100', '4. close': '186.0350', '5. volume': '20262'}, '2024-02-23 14:10:00': {'1. open': '186.0200', '2. high': '186.1190', '3. low': '185.9400', '4. close': '186.0600', '5. volume': '20575'}, '2024-02-23 14:05:00': {'1. open': '186.0000', '2. high': '186.1900', '3. low': '185.9900', '4. close': '186.0290', '5. volume': '23327'}, '2024-02-23 14:00:00': {'1. open': '185.8680', '2. high': '185.9750', '3. low': '185.8400', '4. close': '185.9650', '5. volume': '36897'}, '2024-02-23 13:55:00': {'1. open': '185.8700', '2. high': '185.8900', '3. low': '185.8000', '4. close': '185.8700', '5. volume': '39907'}, '2024-02-23 13:50:00': {'1. open': '185.8200', '2. high': '185.8800', '3. low': '185.7310', '4. close': '185.8700', '5. volume': '13274'}, '2024-02-23 13:45:00': {'1. open': '185.7300', '2. high': '185.8700', '3. low': '185.7180', '4. close': '185.8220', '5. volume': '12250'}, '2024-02-23 13:40:00': {'1. open': '185.9500', '2. high': '185.9700', '3. low': '185.7300', '4. close': '185.7350', '5. volume': '15682'}, '2024-02-23 13:35:00': {'1. open': '185.9700', '2. high': '185.9800', '3. low': '185.8900', '4. close': '185.9700', '5. volume': '12834'}, '2024-02-23 13:30:00': {'1. open': '185.8950', '2. high': '186.0000', '3. low': '185.8750', '4. close': '185.9700', '5. volume': '15995'}, '2024-02-23 13:25:00': {'1. open': '186.0450', '2. high': '186.0800', '3. low': '185.9100', '4. close': '185.9400', '5. volume': '19582'}, '2024-02-23 13:20:00': {'1. open': '186.0700', '2. high': '186.1200', '3. low': '186.0100', '4. close': '186.0450', '5. volume': '15910'}, '2024-02-23 13:15:00': {'1. open': '186.0500', '2. high': '186.0870', '3. low': '185.9400', '4. close': '186.0600', '5. volume': '19697'}, '2024-02-23 13:10:00': {'1. open': '186.0070', '2. high': '186.1000', '3. low': '185.9500', '4. close': '186.0200', '5. volume': '15542'}, '2024-02-23 13:05:00': {'1. open': '185.9800', '2. high': '186.0850', '3. low': '185.9800', '4. close': '186.0050', '5. volume': '17120'}, '2024-02-23 13:00:00': {'1. open': '186.1150', '2. high': '186.1450', '3. low': '185.9500', '4. close': '185.9650', '5. volume': '13359'}, '2024-02-23 12:55:00': {'1. open': '186.0500', '2. high': '186.1120', '3. low': '186.0300', '4. close': '186.0900', '5. volume': '13551'}, '2024-02-23 12:50:00': {'1. open': '186.0400', '2. high': '186.1820', '3. low': '186.0300', '4. close': '186.0400', '5. volume': '29316'}, '2024-02-23 12:45:00': {'1. open': '185.9900', '2. high': '186.0500', '3. low': '185.9300', '4. close': '186.0300', '5. volume': '16283'}, '2024-02-23 12:40:00': {'1. open': '185.9400', '2. high': '186.0300', '3. low': '185.8300', '4. close': '185.9900', '5. volume': '17351'}, '2024-02-23 12:35:00': {'1. open': '185.8940', '2. high': '185.9400', '3. low': '185.8140', '4. close': '185.9400', '5. volume': '13327'}, '2024-02-23 12:30:00': {'1. open': '185.8300', '2. high': '185.9100', '3. low': '185.7000', '4. close': '185.9000', '5. volume': '21191'}, '2024-02-23 12:25:00': {'1. open': '186.0600', '2. high': '186.0600', '3. low': '185.8200', '4. close': '185.8700', '5. volume': '17484'}, '2024-02-23 12:20:00': {'1. open': '186.0930', '2. high': '186.1600', '3. low': '186.0500', '4. close': '186.0550', '5. volume': '16292'}, '2024-02-23 12:15:00': {'1. open': '186.1800', '2. high': '186.1800', '3. low': '185.9000', '4. close': '186.0800', '5. volume': '21636'}, '2024-02-23 12:10:00': {'1. open': '186.0400', '2. high': '186.2600', '3. low': '186.0400', '4. close': '186.1800', '5. volume': '25413'}, '2024-02-23 12:05:00': {'1. open': '185.8600', '2. high': '186.0700', '3. low': '185.8600', '4. close': '186.0000', '5. volume': '29761'}, '2024-02-23 12:00:00': {'1. open': '185.7900', '2. high': '185.9500', '3. low': '185.7610', '4. close': '185.8800', '5. volume': '17016'}, '2024-02-23 11:55:00': {'1. open': '185.8100', '2. high': '185.9200', '3. low': '185.7100', '4. close': '185.8000', '5. volume': '25439'}, '2024-02-23 11:50:00': {'1. open': '185.6200', '2. high': '185.8230', '3. low': '185.5800', '4. close': '185.8100', '5. volume': '18541'}, '2024-02-23 11:45:00': {'1. open': '185.6200', '2. high': '185.6600', '3. low': '185.5400', '4. close': '185.6100', '5. volume': '19589'}, '2024-02-23 11:40:00': {'1. open': '185.6500', '2. high': '185.7100', '3. low': '185.5900', '4. close': '185.6200', '5. volume': '16155'}, '2024-02-23 11:35:00': {'1. open': '185.5100', '2. high': '185.6800', '3. low': '185.4950', '4. close': '185.6300', '5. volume': '23880'}, '2024-02-23 11:30:00': {'1. open': '185.7100', '2. high': '185.7180', '3. low': '185.4400', '4. close': '185.5150', '5. volume': '19873'}, '2024-02-23 11:25:00': {'1. open': '185.4700', '2. high': '185.7300', '3. low': '185.4700', '4. close': '185.6830', '5. volume': '28023'}, '2024-02-23 11:20:00': {'1. open': '185.4600', '2. high': '185.5700', '3. low': '185.3300', '4. close': '185.4580', '5. volume': '29489'}, '2024-02-23 11:15:00': {'1. open': '185.5200', '2. high': '185.5400', '3. low': '185.3210', '4. close': '185.4400', '5. volume': '26411'}, '2024-02-23 11:10:00': {'1. open': '185.9450', '2. high': '185.9450', '3. low': '185.5540', '4. close': '185.6000', '5. volume': '30031'}, '2024-02-23 11:05:00': {'1. open': '185.7900', '2. high': '185.9800', '3. low': '185.7500', '4. close': '185.9450', '5. volume': '23069'}, '2024-02-23 11:00:00': {'1. open': '185.8850', '2. high': '185.9300', '3. low': '185.6500', '4. close': '185.7100', '5. volume': '28290'}, '2024-02-23 10:55:00': {'1. open': '185.7150', '2. high': '185.9200', '3. low': '185.5500', '4. close': '185.8800', '5. volume': '30774'}, '2024-02-23 10:50:00': {'1. open': '185.6000', '2. high': '185.8190', '3. low': '185.5900', '4. close': '185.7300', '5. volume': '43463'}, '2024-02-23 10:45:00': {'1. open': '185.6800', '2. high': '185.7700', '3. low': '185.3800', '4. close': '185.6100', '5. volume': '41449'}, '2024-02-23 10:40:00': {'1. open': '185.9600', '2. high': '186.0000', '3. low': '185.5900', '4. close': '185.6850', '5. volume': '51837'}, '2024-02-23 10:35:00': {'1. open': '186.2300', '2. high': '186.2450', '3. low': '185.8700', '4. close': '185.9600', '5. volume': '126199'}}}\n"
     ]
    }
   ],
   "source": [
    "import requests\n",
    "from pandas.io.json import json_normalize\n",
    "import pandas as pd\n",
    "\n",
    "# replace the \"demo\" apikey below with your own key from https://www.alphavantage.co/support/#api-key\n",
    "url = 'https://www.alphavantage.co/query?function=TIME_SERIES_INTRADAY&symbol=IBM&interval=5min&apikey=XBWE6AW71G5WSGCC'\n",
    "r = requests.get(url)\n",
    "data = r.json()\n",
    "\n",
    "print(data)"
   ]
  },
  {
   "cell_type": "code",
   "execution_count": 4,
   "metadata": {},
   "outputs": [
    {
     "name": "stdout",
     "output_type": "stream",
     "text": [
      "                        Open     High     Low    Close  Volume\n",
      "2024-02-23 19:55:00  185.600  185.600  185.60  185.600      90\n",
      "2024-02-23 19:45:00  185.600  185.600  185.46  185.460       2\n",
      "2024-02-23 19:30:00  185.680  185.690  185.68  185.690     214\n",
      "2024-02-23 19:20:00  185.690  185.690  185.32  185.460       3\n",
      "2024-02-23 19:10:00  185.690  185.690  185.69  185.690      10\n",
      "...                      ...      ...     ...      ...     ...\n",
      "2024-02-23 10:55:00  185.715  185.920  185.55  185.880   30774\n",
      "2024-02-23 10:50:00  185.600  185.819  185.59  185.730   43463\n",
      "2024-02-23 10:45:00  185.680  185.770  185.38  185.610   41449\n",
      "2024-02-23 10:40:00  185.960  186.000  185.59  185.685   51837\n",
      "2024-02-23 10:35:00  186.230  186.245  185.87  185.960  126199\n",
      "\n",
      "[100 rows x 5 columns]\n"
     ]
    }
   ],
   "source": [
    "import requests\n",
    "import pandas as pd\n",
    "\n",
    "# Realizar solicitud HTTP a la API\n",
    "response = requests.get('https://www.alphavantage.co/query?function=TIME_SERIES_INTRADAY&symbol=IBM&interval=5min&apikey=XBWE6AW71G5WSGCC')\n",
    "\n",
    "# Convertir la respuesta JSON en un DataFrame de pandas\n",
    "data = pd.DataFrame(response.json()['Time Series (5min)']).transpose()\n",
    "\n",
    "# Convertir las columnas a números\n",
    "data = data.apply(pd.to_numeric)\n",
    "\n",
    "# Mostrar los datos sin los encabezados\n",
    "#print(data.to_string(header=False))\n",
    "#data.describe()\n",
    "\n",
    "data.columns = [\"Open\",\"High\",\"Low\",\"Close\",\"Volume\"]\n",
    "\n",
    "print(data)\n"
   ]
  },
  {
   "cell_type": "code",
   "execution_count": 5,
   "metadata": {},
   "outputs": [],
   "source": [
    "#https://query1.finance.yahoo.com/v7/finance/chart/TSLA?range=1mo&interval=1d"
   ]
  },
  {
   "cell_type": "code",
   "execution_count": 6,
   "metadata": {},
   "outputs": [],
   "source": [
    "#https://api.polygon.io/v2/aggs/ticker/TSLA/range/1/day/20220203/20220304?apiKey=YOUR_API_KEY"
   ]
  },
  {
   "cell_type": "code",
   "execution_count": 7,
   "metadata": {},
   "outputs": [],
   "source": [
    "#https://polygon.io/stocks?auth=signup"
   ]
  },
  {
   "cell_type": "code",
   "execution_count": null,
   "metadata": {},
   "outputs": [],
   "source": []
  },
  {
   "cell_type": "code",
   "execution_count": null,
   "metadata": {},
   "outputs": [],
   "source": []
  },
  {
   "cell_type": "code",
   "execution_count": 8,
   "metadata": {},
   "outputs": [],
   "source": [
    "#df = pd.read_csv(\"convertcsvBT5min.csv\") #5minutes"
   ]
  },
  {
   "cell_type": "code",
   "execution_count": 9,
   "metadata": {},
   "outputs": [],
   "source": [
    "#df.describe()"
   ]
  },
  {
   "cell_type": "code",
   "execution_count": 10,
   "metadata": {},
   "outputs": [],
   "source": [
    "df = data"
   ]
  },
  {
   "cell_type": "code",
   "execution_count": 11,
   "metadata": {},
   "outputs": [
    {
     "data": {
      "text/plain": [
       "2024-02-23 19:55:00    185.600\n",
       "2024-02-23 19:45:00    185.460\n",
       "2024-02-23 19:30:00    185.690\n",
       "2024-02-23 19:20:00    185.460\n",
       "2024-02-23 19:10:00    185.690\n",
       "                        ...   \n",
       "2024-02-23 10:55:00    185.880\n",
       "2024-02-23 10:50:00    185.730\n",
       "2024-02-23 10:45:00    185.610\n",
       "2024-02-23 10:40:00    185.685\n",
       "2024-02-23 10:35:00    185.960\n",
       "Name: Close, Length: 100, dtype: float64"
      ]
     },
     "execution_count": 11,
     "metadata": {},
     "output_type": "execute_result"
    }
   ],
   "source": [
    "df.Close"
   ]
  },
  {
   "cell_type": "code",
   "execution_count": 12,
   "metadata": {},
   "outputs": [
    {
     "data": {
      "text/html": [
       "<div>\n",
       "<style scoped>\n",
       "    .dataframe tbody tr th:only-of-type {\n",
       "        vertical-align: middle;\n",
       "    }\n",
       "\n",
       "    .dataframe tbody tr th {\n",
       "        vertical-align: top;\n",
       "    }\n",
       "\n",
       "    .dataframe thead th {\n",
       "        text-align: right;\n",
       "    }\n",
       "</style>\n",
       "<table border=\"1\" class=\"dataframe\">\n",
       "  <thead>\n",
       "    <tr style=\"text-align: right;\">\n",
       "      <th></th>\n",
       "      <th>Open</th>\n",
       "      <th>High</th>\n",
       "      <th>Low</th>\n",
       "      <th>Close</th>\n",
       "      <th>Volume</th>\n",
       "    </tr>\n",
       "  </thead>\n",
       "  <tbody>\n",
       "    <tr>\n",
       "      <th>count</th>\n",
       "      <td>100.000000</td>\n",
       "      <td>100.000000</td>\n",
       "      <td>100.000000</td>\n",
       "      <td>100.000000</td>\n",
       "      <td>1.000000e+02</td>\n",
       "    </tr>\n",
       "    <tr>\n",
       "      <th>mean</th>\n",
       "      <td>185.840390</td>\n",
       "      <td>185.904310</td>\n",
       "      <td>185.721710</td>\n",
       "      <td>185.797510</td>\n",
       "      <td>4.712068e+04</td>\n",
       "    </tr>\n",
       "    <tr>\n",
       "      <th>std</th>\n",
       "      <td>0.227924</td>\n",
       "      <td>0.241434</td>\n",
       "      <td>0.267894</td>\n",
       "      <td>0.262165</td>\n",
       "      <td>1.384235e+05</td>\n",
       "    </tr>\n",
       "    <tr>\n",
       "      <th>min</th>\n",
       "      <td>185.310000</td>\n",
       "      <td>185.450000</td>\n",
       "      <td>185.010000</td>\n",
       "      <td>185.260000</td>\n",
       "      <td>2.000000e+00</td>\n",
       "    </tr>\n",
       "    <tr>\n",
       "      <th>25%</th>\n",
       "      <td>185.690000</td>\n",
       "      <td>185.700000</td>\n",
       "      <td>185.547500</td>\n",
       "      <td>185.607500</td>\n",
       "      <td>2.070000e+02</td>\n",
       "    </tr>\n",
       "    <tr>\n",
       "      <th>50%</th>\n",
       "      <td>185.815000</td>\n",
       "      <td>185.920000</td>\n",
       "      <td>185.700000</td>\n",
       "      <td>185.805000</td>\n",
       "      <td>1.900100e+04</td>\n",
       "    </tr>\n",
       "    <tr>\n",
       "      <th>75%</th>\n",
       "      <td>186.025000</td>\n",
       "      <td>186.090250</td>\n",
       "      <td>185.932500</td>\n",
       "      <td>186.006250</td>\n",
       "      <td>2.955700e+04</td>\n",
       "    </tr>\n",
       "    <tr>\n",
       "      <th>max</th>\n",
       "      <td>186.310000</td>\n",
       "      <td>186.370000</td>\n",
       "      <td>186.250000</td>\n",
       "      <td>186.305000</td>\n",
       "      <td>1.109251e+06</td>\n",
       "    </tr>\n",
       "  </tbody>\n",
       "</table>\n",
       "</div>"
      ],
      "text/plain": [
       "             Open        High         Low       Close        Volume\n",
       "count  100.000000  100.000000  100.000000  100.000000  1.000000e+02\n",
       "mean   185.840390  185.904310  185.721710  185.797510  4.712068e+04\n",
       "std      0.227924    0.241434    0.267894    0.262165  1.384235e+05\n",
       "min    185.310000  185.450000  185.010000  185.260000  2.000000e+00\n",
       "25%    185.690000  185.700000  185.547500  185.607500  2.070000e+02\n",
       "50%    185.815000  185.920000  185.700000  185.805000  1.900100e+04\n",
       "75%    186.025000  186.090250  185.932500  186.006250  2.955700e+04\n",
       "max    186.310000  186.370000  186.250000  186.305000  1.109251e+06"
      ]
     },
     "execution_count": 12,
     "metadata": {},
     "output_type": "execute_result"
    }
   ],
   "source": [
    "df.describe()"
   ]
  },
  {
   "cell_type": "code",
   "execution_count": 13,
   "metadata": {},
   "outputs": [
    {
     "data": {
      "image/png": "[encoded data removed]",
      "text/plain": [
       "<Figure size 2000x500 with 1 Axes>"
      ]
     },
     "metadata": {},
     "output_type": "display_data"
    }
   ],
   "source": [
    "plt.figure(1, figsize=(20,5)) \n",
    "_ = plt.plot(df.Close)"
   ]
  },
  {
   "cell_type": "markdown",
   "metadata": {},
   "source": [
    "Calculate the percetange change\n",
    "\n",
    "https://en.wikipedia.org/wiki/Stationary_process\n",
    "\n",
    "\n"
   ]
  },
  {
   "cell_type": "code",
   "execution_count": 14,
   "metadata": {},
   "outputs": [],
   "source": [
    "df[\"returns\"] = df['Close'].pct_change()"
   ]
  },
  {
   "cell_type": "code",
   "execution_count": 15,
   "metadata": {},
   "outputs": [
    {
     "data": {
      "text/html": [
       "<div>\n",
       "<style scoped>\n",
       "    .dataframe tbody tr th:only-of-type {\n",
       "        vertical-align: middle;\n",
       "    }\n",
       "\n",
       "    .dataframe tbody tr th {\n",
       "        vertical-align: top;\n",
       "    }\n",
       "\n",
       "    .dataframe thead th {\n",
       "        text-align: right;\n",
       "    }\n",
       "</style>\n",
       "<table border=\"1\" class=\"dataframe\">\n",
       "  <thead>\n",
       "    <tr style=\"text-align: right;\">\n",
       "      <th></th>\n",
       "      <th>Open</th>\n",
       "      <th>High</th>\n",
       "      <th>Low</th>\n",
       "      <th>Close</th>\n",
       "      <th>Volume</th>\n",
       "      <th>returns</th>\n",
       "    </tr>\n",
       "  </thead>\n",
       "  <tbody>\n",
       "    <tr>\n",
       "      <th>2024-02-23 19:55:00</th>\n",
       "      <td>185.600</td>\n",
       "      <td>185.600</td>\n",
       "      <td>185.60</td>\n",
       "      <td>185.600</td>\n",
       "      <td>90</td>\n",
       "      <td>NaN</td>\n",
       "    </tr>\n",
       "    <tr>\n",
       "      <th>2024-02-23 19:45:00</th>\n",
       "      <td>185.600</td>\n",
       "      <td>185.600</td>\n",
       "      <td>185.46</td>\n",
       "      <td>185.460</td>\n",
       "      <td>2</td>\n",
       "      <td>-0.000754</td>\n",
       "    </tr>\n",
       "    <tr>\n",
       "      <th>2024-02-23 19:30:00</th>\n",
       "      <td>185.680</td>\n",
       "      <td>185.690</td>\n",
       "      <td>185.68</td>\n",
       "      <td>185.690</td>\n",
       "      <td>214</td>\n",
       "      <td>0.001240</td>\n",
       "    </tr>\n",
       "    <tr>\n",
       "      <th>2024-02-23 19:20:00</th>\n",
       "      <td>185.690</td>\n",
       "      <td>185.690</td>\n",
       "      <td>185.32</td>\n",
       "      <td>185.460</td>\n",
       "      <td>3</td>\n",
       "      <td>-0.001239</td>\n",
       "    </tr>\n",
       "    <tr>\n",
       "      <th>2024-02-23 19:10:00</th>\n",
       "      <td>185.690</td>\n",
       "      <td>185.690</td>\n",
       "      <td>185.69</td>\n",
       "      <td>185.690</td>\n",
       "      <td>10</td>\n",
       "      <td>0.001240</td>\n",
       "    </tr>\n",
       "    <tr>\n",
       "      <th>...</th>\n",
       "      <td>...</td>\n",
       "      <td>...</td>\n",
       "      <td>...</td>\n",
       "      <td>...</td>\n",
       "      <td>...</td>\n",
       "      <td>...</td>\n",
       "    </tr>\n",
       "    <tr>\n",
       "      <th>2024-02-23 10:55:00</th>\n",
       "      <td>185.715</td>\n",
       "      <td>185.920</td>\n",
       "      <td>185.55</td>\n",
       "      <td>185.880</td>\n",
       "      <td>30774</td>\n",
       "      <td>0.000915</td>\n",
       "    </tr>\n",
       "    <tr>\n",
       "      <th>2024-02-23 10:50:00</th>\n",
       "      <td>185.600</td>\n",
       "      <td>185.819</td>\n",
       "      <td>185.59</td>\n",
       "      <td>185.730</td>\n",
       "      <td>43463</td>\n",
       "      <td>-0.000807</td>\n",
       "    </tr>\n",
       "    <tr>\n",
       "      <th>2024-02-23 10:45:00</th>\n",
       "      <td>185.680</td>\n",
       "      <td>185.770</td>\n",
       "      <td>185.38</td>\n",
       "      <td>185.610</td>\n",
       "      <td>41449</td>\n",
       "      <td>-0.000646</td>\n",
       "    </tr>\n",
       "    <tr>\n",
       "      <th>2024-02-23 10:40:00</th>\n",
       "      <td>185.960</td>\n",
       "      <td>186.000</td>\n",
       "      <td>185.59</td>\n",
       "      <td>185.685</td>\n",
       "      <td>51837</td>\n",
       "      <td>0.000404</td>\n",
       "    </tr>\n",
       "    <tr>\n",
       "      <th>2024-02-23 10:35:00</th>\n",
       "      <td>186.230</td>\n",
       "      <td>186.245</td>\n",
       "      <td>185.87</td>\n",
       "      <td>185.960</td>\n",
       "      <td>126199</td>\n",
       "      <td>0.001481</td>\n",
       "    </tr>\n",
       "  </tbody>\n",
       "</table>\n",
       "<p>100 rows × 6 columns</p>\n",
       "</div>"
      ],
      "text/plain": [
       "                        Open     High     Low    Close  Volume   returns\n",
       "2024-02-23 19:55:00  185.600  185.600  185.60  185.600      90       NaN\n",
       "2024-02-23 19:45:00  185.600  185.600  185.46  185.460       2 -0.000754\n",
       "2024-02-23 19:30:00  185.680  185.690  185.68  185.690     214  0.001240\n",
       "2024-02-23 19:20:00  185.690  185.690  185.32  185.460       3 -0.001239\n",
       "2024-02-23 19:10:00  185.690  185.690  185.69  185.690      10  0.001240\n",
       "...                      ...      ...     ...      ...     ...       ...\n",
       "2024-02-23 10:55:00  185.715  185.920  185.55  185.880   30774  0.000915\n",
       "2024-02-23 10:50:00  185.600  185.819  185.59  185.730   43463 -0.000807\n",
       "2024-02-23 10:45:00  185.680  185.770  185.38  185.610   41449 -0.000646\n",
       "2024-02-23 10:40:00  185.960  186.000  185.59  185.685   51837  0.000404\n",
       "2024-02-23 10:35:00  186.230  186.245  185.87  185.960  126199  0.001481\n",
       "\n",
       "[100 rows x 6 columns]"
      ]
     },
     "execution_count": 15,
     "metadata": {},
     "output_type": "execute_result"
    }
   ],
   "source": [
    "df"
   ]
  },
  {
   "cell_type": "code",
   "execution_count": 16,
   "metadata": {},
   "outputs": [
    {
     "data": {
      "text/plain": [
       "0.0027200732140442163"
      ]
     },
     "execution_count": 16,
     "metadata": {},
     "output_type": "execute_result"
    }
   ],
   "source": [
    "52394.40/52252.27 - 1"
   ]
  },
  {
   "cell_type": "markdown",
   "metadata": {},
   "source": [
    "Calculate the log returns\n",
    "\n",
    "Why use log returns:\n",
    "https://quantivity.wordpress.com/2011/02/21/why-log-returns\n"
   ]
  },
  {
   "cell_type": "code",
   "execution_count": 17,
   "metadata": {},
   "outputs": [],
   "source": [
    "df[\"log_returns\"] = np.log(1+df[\"returns\"])"
   ]
  },
  {
   "cell_type": "code",
   "execution_count": 18,
   "metadata": {},
   "outputs": [
    {
     "data": {
      "text/html": [
       "<div>\n",
       "<style scoped>\n",
       "    .dataframe tbody tr th:only-of-type {\n",
       "        vertical-align: middle;\n",
       "    }\n",
       "\n",
       "    .dataframe tbody tr th {\n",
       "        vertical-align: top;\n",
       "    }\n",
       "\n",
       "    .dataframe thead th {\n",
       "        text-align: right;\n",
       "    }\n",
       "</style>\n",
       "<table border=\"1\" class=\"dataframe\">\n",
       "  <thead>\n",
       "    <tr style=\"text-align: right;\">\n",
       "      <th></th>\n",
       "      <th>Open</th>\n",
       "      <th>High</th>\n",
       "      <th>Low</th>\n",
       "      <th>Close</th>\n",
       "      <th>Volume</th>\n",
       "      <th>returns</th>\n",
       "      <th>log_returns</th>\n",
       "    </tr>\n",
       "  </thead>\n",
       "  <tbody>\n",
       "    <tr>\n",
       "      <th>2024-02-23 19:55:00</th>\n",
       "      <td>185.60</td>\n",
       "      <td>185.60</td>\n",
       "      <td>185.60</td>\n",
       "      <td>185.60</td>\n",
       "      <td>90</td>\n",
       "      <td>NaN</td>\n",
       "      <td>NaN</td>\n",
       "    </tr>\n",
       "    <tr>\n",
       "      <th>2024-02-23 19:45:00</th>\n",
       "      <td>185.60</td>\n",
       "      <td>185.60</td>\n",
       "      <td>185.46</td>\n",
       "      <td>185.46</td>\n",
       "      <td>2</td>\n",
       "      <td>-0.000754</td>\n",
       "      <td>-0.000755</td>\n",
       "    </tr>\n",
       "    <tr>\n",
       "      <th>2024-02-23 19:30:00</th>\n",
       "      <td>185.68</td>\n",
       "      <td>185.69</td>\n",
       "      <td>185.68</td>\n",
       "      <td>185.69</td>\n",
       "      <td>214</td>\n",
       "      <td>0.001240</td>\n",
       "      <td>0.001239</td>\n",
       "    </tr>\n",
       "    <tr>\n",
       "      <th>2024-02-23 19:20:00</th>\n",
       "      <td>185.69</td>\n",
       "      <td>185.69</td>\n",
       "      <td>185.32</td>\n",
       "      <td>185.46</td>\n",
       "      <td>3</td>\n",
       "      <td>-0.001239</td>\n",
       "      <td>-0.001239</td>\n",
       "    </tr>\n",
       "    <tr>\n",
       "      <th>2024-02-23 19:10:00</th>\n",
       "      <td>185.69</td>\n",
       "      <td>185.69</td>\n",
       "      <td>185.69</td>\n",
       "      <td>185.69</td>\n",
       "      <td>10</td>\n",
       "      <td>0.001240</td>\n",
       "      <td>0.001239</td>\n",
       "    </tr>\n",
       "  </tbody>\n",
       "</table>\n",
       "</div>"
      ],
      "text/plain": [
       "                       Open    High     Low   Close  Volume   returns  \\\n",
       "2024-02-23 19:55:00  185.60  185.60  185.60  185.60      90       NaN   \n",
       "2024-02-23 19:45:00  185.60  185.60  185.46  185.46       2 -0.000754   \n",
       "2024-02-23 19:30:00  185.68  185.69  185.68  185.69     214  0.001240   \n",
       "2024-02-23 19:20:00  185.69  185.69  185.32  185.46       3 -0.001239   \n",
       "2024-02-23 19:10:00  185.69  185.69  185.69  185.69      10  0.001240   \n",
       "\n",
       "                     log_returns  \n",
       "2024-02-23 19:55:00          NaN  \n",
       "2024-02-23 19:45:00    -0.000755  \n",
       "2024-02-23 19:30:00     0.001239  \n",
       "2024-02-23 19:20:00    -0.001239  \n",
       "2024-02-23 19:10:00     0.001239  "
      ]
     },
     "execution_count": 18,
     "metadata": {},
     "output_type": "execute_result"
    }
   ],
   "source": [
    "df.head(5)"
   ]
  },
  {
   "cell_type": "code",
   "execution_count": 19,
   "metadata": {},
   "outputs": [
    {
     "data": {
      "text/plain": [
       "[<matplotlib.lines.Line2D at 0x1e9d9d302e0>]"
      ]
     },
     "execution_count": 19,
     "metadata": {},
     "output_type": "execute_result"
    },
    {
     "data": {
      "image/png": "[encoded data removed]",
      "text/plain": [
       "<Figure size 1600x400 with 1 Axes>"
      ]
     },
     "metadata": {},
     "output_type": "display_data"
    }
   ],
   "source": [
    "plt.figure(1, figsize=(16,4))\n",
    "plt.plot(df.log_returns)"
   ]
  },
  {
   "cell_type": "code",
   "execution_count": 20,
   "metadata": {},
   "outputs": [],
   "source": [
    "#quitamos los num's ceros y na p simplif\n",
    "df.dropna(inplace=True)\n",
    "X = df[[\"Close\",\"log_returns\"]].values"
   ]
  },
  {
   "cell_type": "code",
   "execution_count": 21,
   "metadata": {},
   "outputs": [
    {
     "data": {
      "text/plain": [
       "array([[ 1.85460000e+02, -7.54594980e-04],\n",
       "       [ 1.85690000e+02,  1.23939124e-03],\n",
       "       [ 1.85460000e+02, -1.23939124e-03],\n",
       "       [ 1.85690000e+02,  1.23939124e-03],\n",
       "       [ 1.85690000e+02,  0.00000000e+00],\n",
       "       [ 1.85690000e+02,  0.00000000e+00],\n",
       "       [ 1.85450000e+02, -1.29331268e-03],\n",
       "       [ 1.85310000e+02, -7.55205560e-04],\n",
       "       [ 1.85460000e+02,  8.09126996e-04],\n",
       "       [ 1.85690000e+02,  1.23939124e-03],\n",
       "       [ 1.85670000e+02, -1.07712193e-04],\n",
       "       [ 1.85350000e+02, -1.72497482e-03],\n",
       "       [ 1.85690000e+02,  1.83268702e-03],\n",
       "       [ 1.85690000e+02,  0.00000000e+00],\n",
       "       [ 1.85450000e+02, -1.29331268e-03],\n",
       "       [ 1.85450000e+02,  0.00000000e+00],\n",
       "       [ 1.85560000e+02,  5.92975948e-04],\n",
       "       [ 1.85610000e+02,  2.69418327e-04],\n",
       "       [ 1.85600000e+02, -5.38778589e-05],\n",
       "       [ 1.85700000e+02,  5.38648007e-04],\n",
       "       [ 1.85690000e+02, -5.38517462e-05],\n",
       "       [ 1.85700000e+02,  5.38517462e-05],\n",
       "       [ 1.85700000e+02,  0.00000000e+00],\n",
       "       [ 1.85570000e+02, -7.00299002e-04],\n",
       "       [ 1.85510000e+02, -3.23380406e-04],\n",
       "       [ 1.85310000e+02, -1.07869057e-03],\n",
       "       [ 1.85600000e+02,  1.56372198e-03],\n",
       "       [ 1.85330000e+02, -1.45580054e-03],\n",
       "       [ 1.85440000e+02,  5.93359782e-04],\n",
       "       [ 1.85500000e+02,  3.23502456e-04],\n",
       "       [ 1.85260000e+02, -1.29463822e-03],\n",
       "       [ 1.85610000e+02,  1.88745439e-03],\n",
       "       [ 1.85260000e+02, -1.88745439e-03],\n",
       "       [ 1.85540000e+02,  1.51024840e-03],\n",
       "       [ 1.85700000e+02,  8.61976134e-04],\n",
       "       [ 1.86070000e+02,  1.99047864e-03],\n",
       "       [ 1.86250000e+02,  9.66910260e-04],\n",
       "       [ 1.86180000e+02, -3.75909571e-04],\n",
       "       [ 1.86210000e+02,  1.61121405e-04],\n",
       "       [ 1.86170000e+02, -2.14834310e-04],\n",
       "       [ 1.86250000e+02,  4.29622476e-04],\n",
       "       [ 1.86290000e+02,  2.14742042e-04],\n",
       "       [ 1.86305000e+02,  8.05163784e-05],\n",
       "       [ 1.86136000e+02, -9.07526355e-04],\n",
       "       [ 1.86110000e+02, -1.39692569e-04],\n",
       "       [ 1.86130000e+02,  1.07457554e-04],\n",
       "       [ 1.86135000e+02,  2.68625845e-05],\n",
       "       [ 1.86000000e+02, -7.25543181e-04],\n",
       "       [ 1.85968000e+02, -1.72057812e-04],\n",
       "       [ 1.85930000e+02, -2.04357109e-04],\n",
       "       [ 1.85950000e+02,  1.07561579e-04],\n",
       "       [ 1.86010000e+02,  3.22615338e-04],\n",
       "       [ 1.85920000e+02, -4.83962045e-04],\n",
       "       [ 1.85955000e+02,  1.88235295e-04],\n",
       "       [ 1.86035000e+02,  4.30119096e-04],\n",
       "       [ 1.86060000e+02,  1.34374286e-04],\n",
       "       [ 1.86029000e+02, -1.66626802e-04],\n",
       "       [ 1.85965000e+02, -3.44091575e-04],\n",
       "       [ 1.85870000e+02, -5.10979343e-04],\n",
       "       [ 1.85870000e+02,  0.00000000e+00],\n",
       "       [ 1.85822000e+02, -2.58278361e-04],\n",
       "       [ 1.85735000e+02, -4.68299623e-04],\n",
       "       [ 1.85970000e+02,  1.26444375e-03],\n",
       "       [ 1.85970000e+02,  0.00000000e+00],\n",
       "       [ 1.85940000e+02, -1.61329354e-04],\n",
       "       [ 1.86045000e+02,  5.64538908e-04],\n",
       "       [ 1.86060000e+02,  8.06224050e-05],\n",
       "       [ 1.86020000e+02, -2.15007526e-04],\n",
       "       [ 1.86005000e+02, -8.06397420e-05],\n",
       "       [ 1.85965000e+02, -2.15071109e-04],\n",
       "       [ 1.86090000e+02,  6.71943690e-04],\n",
       "       [ 1.86040000e+02, -2.68723297e-04],\n",
       "       [ 1.86030000e+02, -5.37533260e-05],\n",
       "       [ 1.85990000e+02, -2.15042203e-04],\n",
       "       [ 1.85940000e+02, -2.68867799e-04],\n",
       "       [ 1.85900000e+02, -2.15146300e-04],\n",
       "       [ 1.85870000e+02, -1.61390107e-04],\n",
       "       [ 1.86055000e+02,  9.94824307e-04],\n",
       "       [ 1.86080000e+02,  1.34359843e-04],\n",
       "       [ 1.86180000e+02,  5.37258918e-04],\n",
       "       [ 1.86000000e+02, -9.67273975e-04],\n",
       "       [ 1.85880000e+02, -6.45369496e-04],\n",
       "       [ 1.85800000e+02, -4.30477837e-04],\n",
       "       [ 1.85810000e+02,  5.38198649e-05],\n",
       "       [ 1.85610000e+02, -1.07694803e-03],\n",
       "       [ 1.85620000e+02,  5.38749562e-05],\n",
       "       [ 1.85630000e+02,  5.38720539e-05],\n",
       "       [ 1.85515000e+02, -6.19703909e-04],\n",
       "       [ 1.85683000e+02,  9.05177353e-04],\n",
       "       [ 1.85458000e+02, -1.21247735e-03],\n",
       "       [ 1.85440000e+02, -9.70617259e-05],\n",
       "       [ 1.85600000e+02,  8.62440761e-04],\n",
       "       [ 1.85945000e+02,  1.85711071e-03],\n",
       "       [ 1.85710000e+02, -1.26461386e-03],\n",
       "       [ 1.85880000e+02,  9.14987012e-04],\n",
       "       [ 1.85730000e+02, -8.07298018e-04],\n",
       "       [ 1.85610000e+02, -6.46307988e-04],\n",
       "       [ 1.85685000e+02,  4.03991441e-04],\n",
       "       [ 1.85960000e+02,  1.47990717e-03]])"
      ]
     },
     "execution_count": 21,
     "metadata": {},
     "output_type": "execute_result"
    }
   ],
   "source": [
    "#matrix con 2 valores\n",
    "X"
   ]
  },
  {
   "cell_type": "code",
   "execution_count": 22,
   "metadata": {},
   "outputs": [],
   "source": [
    "#para normalizar proximam\n",
    "from sklearn.preprocessing import MinMaxScaler"
   ]
  },
  {
   "cell_type": "code",
   "execution_count": 23,
   "metadata": {},
   "outputs": [],
   "source": [
    "scaler = MinMaxScaler(feature_range=(0,1)).fit(X)"
   ]
  },
  {
   "cell_type": "code",
   "execution_count": 24,
   "metadata": {},
   "outputs": [],
   "source": [
    "X_scaled = scaler.transform(X)"
   ]
  },
  {
   "cell_type": "code",
   "execution_count": 25,
   "metadata": {},
   "outputs": [
    {
     "data": {
      "text/plain": [
       "array([[0.19138756, 0.2921297 ],\n",
       "       [0.41148325, 0.80631759],\n",
       "       [0.19138756, 0.16711561],\n",
       "       [0.41148325, 0.80631759],\n",
       "       [0.41148325, 0.4867166 ]])"
      ]
     },
     "execution_count": 25,
     "metadata": {},
     "output_type": "execute_result"
    }
   ],
   "source": [
    "X_scaled[:5]"
   ]
  },
  {
   "cell_type": "code",
   "execution_count": 26,
   "metadata": {},
   "outputs": [],
   "source": [
    "y = [x[0] for x in X_scaled]"
   ]
  },
  {
   "cell_type": "code",
   "execution_count": 27,
   "metadata": {},
   "outputs": [
    {
     "data": {
      "text/plain": [
       "[0.19138755980861788,\n",
       " 0.4114832535885,\n",
       " 0.19138755980861788,\n",
       " 0.4114832535885,\n",
       " 0.4114832535885]"
      ]
     },
     "execution_count": 27,
     "metadata": {},
     "output_type": "execute_result"
    }
   ],
   "source": [
    "#serie de precios - precio del dia siguiente \n",
    "y[:5]"
   ]
  },
  {
   "cell_type": "code",
   "execution_count": 28,
   "metadata": {},
   "outputs": [],
   "source": [
    "#dividir nuestros datos en Train y en Test"
   ]
  },
  {
   "cell_type": "code",
   "execution_count": 29,
   "metadata": {},
   "outputs": [],
   "source": [
    "split = int(len(X_scaled)*0.8)"
   ]
  },
  {
   "cell_type": "code",
   "execution_count": 30,
   "metadata": {},
   "outputs": [
    {
     "name": "stdout",
     "output_type": "stream",
     "text": [
      "79\n"
     ]
    }
   ],
   "source": [
    "print(split)  # es el .80 qty para Train"
   ]
  },
  {
   "cell_type": "code",
   "execution_count": 31,
   "metadata": {},
   "outputs": [],
   "source": [
    "X_train = X_scaled[:split]"
   ]
  },
  {
   "cell_type": "code",
   "execution_count": 32,
   "metadata": {},
   "outputs": [],
   "source": [
    "X_test = X_scaled[split:len(X_scaled)]\n"
   ]
  },
  {
   "cell_type": "code",
   "execution_count": 33,
   "metadata": {},
   "outputs": [
    {
     "data": {
      "text/plain": [
       "20"
      ]
     },
     "execution_count": 33,
     "metadata": {},
     "output_type": "execute_result"
    }
   ],
   "source": [
    "len(X_test)  #qty for test"
   ]
  },
  {
   "cell_type": "code",
   "execution_count": 34,
   "metadata": {},
   "outputs": [],
   "source": [
    "y_train = y[:split]"
   ]
  },
  {
   "cell_type": "code",
   "execution_count": 35,
   "metadata": {},
   "outputs": [],
   "source": [
    "y_test = y[split:len(y)]"
   ]
  },
  {
   "cell_type": "code",
   "execution_count": 36,
   "metadata": {},
   "outputs": [],
   "source": [
    "#solo para asegurarnos q son iguales, si son difs es un error\n",
    "assert len(X_train) == len(y_train)\n",
    "assert len(X_test) == len(y_test)"
   ]
  },
  {
   "cell_type": "code",
   "execution_count": 37,
   "metadata": {},
   "outputs": [
    {
     "data": {
      "text/plain": [
       "array([[0.19138756, 0.2921297 ],\n",
       "       [0.41148325, 0.80631759],\n",
       "       [0.19138756, 0.16711561],\n",
       "       [0.41148325, 0.80631759],\n",
       "       [0.41148325, 0.4867166 ],\n",
       "       [0.41148325, 0.4867166 ],\n",
       "       [0.18181818, 0.15321093],\n",
       "       [0.04784689, 0.29197225],\n",
       "       [0.19138756, 0.69536564],\n",
       "       [0.41148325, 0.80631759],\n",
       "       [0.3923445 , 0.45894093],\n",
       "       [0.0861244 , 0.0418985 ],\n",
       "       [0.41148325, 0.95931038],\n",
       "       [0.41148325, 0.4867166 ],\n",
       "       [0.18181818, 0.15321093],\n",
       "       [0.18181818, 0.4867166 ],\n",
       "       [0.28708134, 0.63962691],\n",
       "       [0.33492823, 0.55619133],\n",
       "       [0.32535885, 0.47282315],\n",
       "       [0.42105263, 0.6256174 ],\n",
       "       [0.41148325, 0.47282989],\n",
       "       [0.42105263, 0.50060332],\n",
       "       [0.42105263, 0.4867166 ],\n",
       "       [0.29665072, 0.30613097],\n",
       "       [0.23923445, 0.40332671],\n",
       "       [0.04784689, 0.20855538],\n",
       "       [0.32535885, 0.88995254],\n",
       "       [0.06698565, 0.11131029],\n",
       "       [0.1722488 , 0.63972589],\n",
       "       [0.22966507, 0.57013796],\n",
       "       [0.        , 0.15286911],\n",
       "       [0.33492823, 0.9734332 ],\n",
       "       [0.        , 0.        ],\n",
       "       [0.26794258, 0.87616335],\n",
       "       [0.42105263, 0.70899381],\n",
       "       [0.77511962, 1.        ],\n",
       "       [0.94736842, 0.73605311],\n",
       "       [0.88038278, 0.38978105],\n",
       "       [0.90909091, 0.52826487],\n",
       "       [0.8708134 , 0.43131742],\n",
       "       [0.94736842, 0.59750306],\n",
       "       [0.98564593, 0.54209199],\n",
       "       [1.        , 0.50747931],\n",
       "       [0.83827751, 0.25269339],\n",
       "       [0.81339713, 0.45069417],\n",
       "       [0.83253589, 0.51442661],\n",
       "       [0.83732057, 0.49364364],\n",
       "       [0.70813397, 0.29962127],\n",
       "       [0.67751196, 0.44234817],\n",
       "       [0.64114833, 0.43401917],\n",
       "       [0.66028708, 0.51445343],\n",
       "       [0.71770335, 0.5699092 ],\n",
       "       [0.63157895, 0.36191763],\n",
       "       [0.66507177, 0.53525671],\n",
       "       [0.74162679, 0.59763113],\n",
       "       [0.76555024, 0.52136761],\n",
       "       [0.73588517, 0.44374866],\n",
       "       [0.67464115, 0.39798594],\n",
       "       [0.58373206, 0.3549507 ],\n",
       "       [0.58373206, 0.4867166 ],\n",
       "       [0.53779904, 0.42011453],\n",
       "       [0.45454545, 0.36595649],\n",
       "       [0.67942584, 0.81277787],\n",
       "       [0.67942584, 0.4867166 ],\n",
       "       [0.6507177 , 0.44511471],\n",
       "       [0.75119617, 0.63229387],\n",
       "       [0.76555024, 0.50750665],\n",
       "       [0.72727273, 0.43127275],\n",
       "       [0.71291866, 0.46592209],\n",
       "       [0.67464115, 0.43125636],\n",
       "       [0.79425837, 0.65999027],\n",
       "       [0.74641148, 0.4174211 ],\n",
       "       [0.73684211, 0.47285527],\n",
       "       [0.69856459, 0.43126381],\n",
       "       [0.6507177 , 0.41738384],\n",
       "       [0.61244019, 0.43123697],\n",
       "       [0.58373206, 0.44509904],\n",
       "       [0.76076555, 0.74325128],\n",
       "       [0.784689  , 0.52136388]])"
      ]
     },
     "execution_count": 37,
     "metadata": {},
     "output_type": "execute_result"
    }
   ],
   "source": [
    "X_train"
   ]
  },
  {
   "cell_type": "code",
   "execution_count": 38,
   "metadata": {},
   "outputs": [
    {
     "data": {
      "text/plain": [
       "[0.19138755980861788,\n",
       " 0.4114832535885,\n",
       " 0.19138755980861788,\n",
       " 0.4114832535885,\n",
       " 0.4114832535885,\n",
       " 0.4114832535885,\n",
       " 0.18181818181815856,\n",
       " 0.04784688995215447,\n",
       " 0.19138755980861788,\n",
       " 0.4114832535885,\n",
       " 0.39234449760763823,\n",
       " 0.08612440191387805,\n",
       " 0.4114832535885,\n",
       " 0.4114832535885,\n",
       " 0.18181818181815856,\n",
       " 0.18181818181815856,\n",
       " 0.2870813397129268,\n",
       " 0.3349282296650813,\n",
       " 0.325358851674622,\n",
       " 0.4210526315789309,\n",
       " 0.4114832535885,\n",
       " 0.4210526315789309,\n",
       " 0.4210526315789309,\n",
       " 0.2966507177033293,\n",
       " 0.23923444976074393,\n",
       " 0.04784688995215447,\n",
       " 0.325358851674622,\n",
       " 0.06698564593301626,\n",
       " 0.1722488038277561,\n",
       " 0.22966507177034146,\n",
       " 0.0,\n",
       " 0.3349282296650813,\n",
       " 0.0,\n",
       " 0.2679425837320366,\n",
       " 0.4210526315789309,\n",
       " 0.7751196172248456,\n",
       " 0.9473684210526017,\n",
       " 0.8803827751196138,\n",
       " 0.9090909090909065,\n",
       " 0.8708133971291545,\n",
       " 0.9473684210526017,\n",
       " 0.9856459330143252,\n",
       " 1.0,\n",
       " 0.8382775119617065,\n",
       " 0.8133971291865976,\n",
       " 0.8325358851674309,\n",
       " 0.8373205741626464,\n",
       " 0.7081339712918577,\n",
       " 0.6775119617224732,\n",
       " 0.6411483253588415,\n",
       " 0.6602870813397033,\n",
       " 0.7177033492822602,\n",
       " 0.6315789473684106,\n",
       " 0.6650717703349187,\n",
       " 0.7416267942583659,\n",
       " 0.7655502392344431,\n",
       " 0.7358851674640903,\n",
       " 0.6746411483253496,\n",
       " 0.5837320574162561,\n",
       " 0.5837320574162561,\n",
       " 0.5377990430621935,\n",
       " 0.45454545454546746,\n",
       " 0.679425837320565,\n",
       " 0.679425837320565,\n",
       " 0.6507177033492724,\n",
       " 0.7511961722487683,\n",
       " 0.7655502392344431,\n",
       " 0.7272727272727195,\n",
       " 0.7129186602870732,\n",
       " 0.6746411483253496,\n",
       " 0.7942583732057358,\n",
       " 0.7464114832535529,\n",
       " 0.7368421052631504,\n",
       " 0.6985645933014268,\n",
       " 0.6507177033492724,\n",
       " 0.6124401913875488,\n",
       " 0.5837320574162561,\n",
       " 0.7607655502392277,\n",
       " 0.7846889952153049]"
      ]
     },
     "execution_count": 38,
     "metadata": {},
     "output_type": "execute_result"
    }
   ],
   "source": [
    "y_train"
   ]
  },
  {
   "cell_type": "markdown",
   "metadata": {},
   "source": [
    "Labeling using LSTM\n",
    "\n",
    "memoria corto plazo,  el RNN (no memoriza)\n",
    "output  t+1"
   ]
  },
  {
   "cell_type": "code",
   "execution_count": 39,
   "metadata": {},
   "outputs": [],
   "source": [
    "n = 3\n",
    "Xtrain = []\n",
    "ytrain = []\n",
    "Xtest = []\n",
    "ytest = []\n",
    "\n",
    "for i in range(n, len(X_train)):\n",
    "    Xtrain.append(X_train[i - n : i, : X_train.shape[1]])\n",
    "    ytrain.append(y_train[i])  #predict next record\n",
    "for i in range(n, len(X_test)):\n",
    "    Xtest.append(X_test[i-n:i, : X_test.shape[1]])\n",
    "    ytest.append(y_test[i])  #predict next record"
   ]
  },
  {
   "cell_type": "code",
   "execution_count": 40,
   "metadata": {},
   "outputs": [
    {
     "data": {
      "text/html": [
       "<div>\n",
       "<style scoped>\n",
       "    .dataframe tbody tr th:only-of-type {\n",
       "        vertical-align: middle;\n",
       "    }\n",
       "\n",
       "    .dataframe tbody tr th {\n",
       "        vertical-align: top;\n",
       "    }\n",
       "\n",
       "    .dataframe thead th {\n",
       "        text-align: right;\n",
       "    }\n",
       "</style>\n",
       "<table border=\"1\" class=\"dataframe\">\n",
       "  <thead>\n",
       "    <tr style=\"text-align: right;\">\n",
       "      <th></th>\n",
       "      <th>Open</th>\n",
       "      <th>High</th>\n",
       "      <th>Low</th>\n",
       "      <th>Close</th>\n",
       "      <th>Volume</th>\n",
       "      <th>returns</th>\n",
       "      <th>log_returns</th>\n",
       "    </tr>\n",
       "  </thead>\n",
       "  <tbody>\n",
       "    <tr>\n",
       "      <th>2024-02-23 19:45:00</th>\n",
       "      <td>185.60</td>\n",
       "      <td>185.60</td>\n",
       "      <td>185.46</td>\n",
       "      <td>185.46</td>\n",
       "      <td>2</td>\n",
       "      <td>-0.000754</td>\n",
       "      <td>-0.000755</td>\n",
       "    </tr>\n",
       "    <tr>\n",
       "      <th>2024-02-23 19:30:00</th>\n",
       "      <td>185.68</td>\n",
       "      <td>185.69</td>\n",
       "      <td>185.68</td>\n",
       "      <td>185.69</td>\n",
       "      <td>214</td>\n",
       "      <td>0.001240</td>\n",
       "      <td>0.001239</td>\n",
       "    </tr>\n",
       "    <tr>\n",
       "      <th>2024-02-23 19:20:00</th>\n",
       "      <td>185.69</td>\n",
       "      <td>185.69</td>\n",
       "      <td>185.32</td>\n",
       "      <td>185.46</td>\n",
       "      <td>3</td>\n",
       "      <td>-0.001239</td>\n",
       "      <td>-0.001239</td>\n",
       "    </tr>\n",
       "    <tr>\n",
       "      <th>2024-02-23 19:10:00</th>\n",
       "      <td>185.69</td>\n",
       "      <td>185.69</td>\n",
       "      <td>185.69</td>\n",
       "      <td>185.69</td>\n",
       "      <td>10</td>\n",
       "      <td>0.001240</td>\n",
       "      <td>0.001239</td>\n",
       "    </tr>\n",
       "    <tr>\n",
       "      <th>2024-02-23 19:00:00</th>\n",
       "      <td>185.72</td>\n",
       "      <td>185.72</td>\n",
       "      <td>185.69</td>\n",
       "      <td>185.69</td>\n",
       "      <td>495739</td>\n",
       "      <td>0.000000</td>\n",
       "      <td>0.000000</td>\n",
       "    </tr>\n",
       "  </tbody>\n",
       "</table>\n",
       "</div>"
      ],
      "text/plain": [
       "                       Open    High     Low   Close  Volume   returns  \\\n",
       "2024-02-23 19:45:00  185.60  185.60  185.46  185.46       2 -0.000754   \n",
       "2024-02-23 19:30:00  185.68  185.69  185.68  185.69     214  0.001240   \n",
       "2024-02-23 19:20:00  185.69  185.69  185.32  185.46       3 -0.001239   \n",
       "2024-02-23 19:10:00  185.69  185.69  185.69  185.69      10  0.001240   \n",
       "2024-02-23 19:00:00  185.72  185.72  185.69  185.69  495739  0.000000   \n",
       "\n",
       "                     log_returns  \n",
       "2024-02-23 19:45:00    -0.000755  \n",
       "2024-02-23 19:30:00     0.001239  \n",
       "2024-02-23 19:20:00    -0.001239  \n",
       "2024-02-23 19:10:00     0.001239  \n",
       "2024-02-23 19:00:00     0.000000  "
      ]
     },
     "execution_count": 40,
     "metadata": {},
     "output_type": "execute_result"
    }
   ],
   "source": [
    "df.head(5)"
   ]
  },
  {
   "cell_type": "code",
   "execution_count": 41,
   "metadata": {},
   "outputs": [
    {
     "data": {
      "text/plain": [
       "array([[0.19138756, 0.2921297 ],\n",
       "       [0.41148325, 0.80631759],\n",
       "       [0.19138756, 0.16711561]])"
      ]
     },
     "execution_count": 41,
     "metadata": {},
     "output_type": "execute_result"
    }
   ],
   "source": [
    "Xtrain[0]"
   ]
  },
  {
   "cell_type": "code",
   "execution_count": 42,
   "metadata": {},
   "outputs": [
    {
     "data": {
      "text/plain": [
       "0.4114832535885"
      ]
     },
     "execution_count": 42,
     "metadata": {},
     "output_type": "execute_result"
    }
   ],
   "source": [
    "ytrain[0]"
   ]
  },
  {
   "cell_type": "code",
   "execution_count": 43,
   "metadata": {},
   "outputs": [],
   "source": [
    "val = np.array(ytrain[0])\n",
    "val = np.c_[val, np.zeros(val.shape)]"
   ]
  },
  {
   "cell_type": "code",
   "execution_count": 44,
   "metadata": {},
   "outputs": [
    {
     "data": {
      "text/plain": [
       "array([[ 1.85690000e+02, -1.88745439e-03]])"
      ]
     },
     "execution_count": 44,
     "metadata": {},
     "output_type": "execute_result"
    }
   ],
   "source": [
    "scaler.inverse_transform(val)"
   ]
  },
  {
   "cell_type": "markdown",
   "metadata": {},
   "source": [
    "In a LSTM network the input for each LSTM layer needs next informaiton:\n",
    "- The number of observations\n",
    "- The time steps\n",
    "- The features\n",
    "\n",
    "Therefore we need to add a temporal dimension compared to a classical network:\n",
    "(number of observatios, number of steps, number of features per step)\n",
    "\n"
   ]
  },
  {
   "cell_type": "code",
   "execution_count": 45,
   "metadata": {},
   "outputs": [],
   "source": [
    "Xtrain, ytrain = (np.array(Xtrain), np.array(ytrain))"
   ]
  },
  {
   "cell_type": "code",
   "execution_count": 46,
   "metadata": {},
   "outputs": [],
   "source": [
    "Xtrain = np.reshape(Xtrain, (Xtrain.shape[0], Xtrain.shape[1], Xtrain.shape[2]))\n"
   ]
  },
  {
   "cell_type": "code",
   "execution_count": 47,
   "metadata": {},
   "outputs": [],
   "source": [
    "Xtest, ytest = (np.array(Xtest), np.array(ytest))"
   ]
  },
  {
   "cell_type": "code",
   "execution_count": 48,
   "metadata": {},
   "outputs": [],
   "source": [
    "Xtest = np.reshape(Xtest, (Xtest.shape[0], Xtest.shape[1], Xtest.shape[2]))"
   ]
  },
  {
   "cell_type": "code",
   "execution_count": 49,
   "metadata": {},
   "outputs": [
    {
     "name": "stdout",
     "output_type": "stream",
     "text": [
      "(76, 3, 2)\n",
      "(76,)\n",
      "---\n",
      "(17, 3, 2)\n",
      "(17,)\n"
     ]
    }
   ],
   "source": [
    "print(Xtrain.shape)\n",
    "print(ytrain.shape)\n",
    "print(\"---\")\n",
    "print(Xtest.shape)\n",
    "print(ytest.shape)"
   ]
  },
  {
   "attachments": {
    "image.png": {
     "image/png": "[encoded data removed]"
    }
   },
   "cell_type": "markdown",
   "metadata": {},
   "source": [
    "### install tensorflow and keras\n",
    "\n",
    "\n",
    "https://margaretmz.medium.com/anaconda-jupyter-notebook-tensorflow-and-keras-b91f381405f8\n",
    "\n",
    "![image.png](attachment:image.png)\n",
    "\n",
    "\n"
   ]
  },
  {
   "cell_type": "code",
   "execution_count": 50,
   "metadata": {},
   "outputs": [],
   "source": [
    "#pip install tensorflow (es para cuando tienes GPU (acelerador grafico en la lap))\n",
    "#pip install tf-nightly (para cuando no tienes acelerador grafico)\n",
    "#pip install keras"
   ]
  },
  {
   "cell_type": "code",
   "execution_count": 51,
   "metadata": {},
   "outputs": [],
   "source": [
    "#verificamos si está instalado el tensorflow\n",
    "#print (\"TensorFlow version: \" + tf.__version__)"
   ]
  },
  {
   "cell_type": "markdown",
   "metadata": {},
   "source": [
    "### LSTM Model"
   ]
  },
  {
   "cell_type": "code",
   "execution_count": 52,
   "metadata": {},
   "outputs": [
    {
     "name": "stdout",
     "output_type": "stream",
     "text": [
      "Retrieving notices: ...working... done\n",
      "Collecting package metadata (current_repodata.json): ...working... done\n",
      "Solving environment: ...working... done\n",
      "\n",
      "## Package Plan ##\n",
      "\n",
      "  environment location: C:\\Users\\Constantino\\anaconda3\n",
      "\n",
      "  added / updated specs:\n",
      "    - keras\n",
      "\n",
      "\n",
      "The following packages will be downloaded:\n",
      "\n",
      "    package                    |            build\n",
      "    ---------------------------|-----------------\n",
      "    ca-certificates-2023.12.12 |       haa95532_0         127 KB\n",
      "    certifi-2024.2.2           |  py310haa95532_0         160 KB\n",
      "    ------------------------------------------------------------\n",
      "                                           Total:         287 KB\n",
      "\n",
      "The following packages will be SUPERSEDED by a higher-priority channel:\n",
      "\n",
      "  ca-certificates    conda-forge::ca-certificates-2024.2.2~ --> pkgs/main::ca-certificates-2023.12.12-haa95532_0 \n",
      "  certifi            conda-forge/noarch::certifi-2024.2.2-~ --> pkgs/main/win-64::certifi-2024.2.2-py310haa95532_0 \n",
      "\n",
      "\n",
      "\n",
      "Downloading and Extracting Packages\n",
      "\n",
      "ca-certificates-2023 | 127 KB    |            |   0% \n",
      "\n",
      "certifi-2024.2.2     | 160 KB    |            |   0% \u001b[A\n",
      "ca-certificates-2023 | 127 KB    | #2         |  13% \n",
      "\n",
      "certifi-2024.2.2     | 160 KB    | 9          |  10% \u001b[A\n",
      "\n",
      "certifi-2024.2.2     | 160 KB    | ######9    |  70% \u001b[A\n",
      "ca-certificates-2023 | 127 KB    | ########## | 100% \n",
      "ca-certificates-2023 | 127 KB    | ########## | 100% \n",
      "\n",
      "certifi-2024.2.2     | 160 KB    | ########## | 100% \u001b[A\n",
      "                                                     \n",
      "\n",
      "\n",
      "                                                     \u001b[A\n",
      "\n",
      "Preparing transaction: ...working... done\n",
      "Verifying transaction: ...working... done\n",
      "Executing transaction: ...working... done\n",
      "\n",
      "Note: you may need to restart the kernel to use updated packages.\n"
     ]
    },
    {
     "name": "stderr",
     "output_type": "stream",
     "text": [
      "\n",
      "\n",
      "==> WARNING: A newer version of conda exists. <==\n",
      "  current version: 23.3.1\n",
      "  latest version: 24.1.2\n",
      "\n",
      "Please update conda by running\n",
      "\n",
      "    $ conda update -n base -c defaults conda\n",
      "\n",
      "Or to minimize the number of packages updated during conda update use\n",
      "\n",
      "     conda install conda=24.1.2\n",
      "\n",
      "\n"
     ]
    }
   ],
   "source": [
    "conda install keras"
   ]
  },
  {
   "cell_type": "code",
   "execution_count": 53,
   "metadata": {},
   "outputs": [
    {
     "ename": "ModuleNotFoundError",
     "evalue": "No module named 'tensorflow'",
     "output_type": "error",
     "traceback": [
      "\u001b[1;31m---------------------------------------------------------------------------\u001b[0m",
      "\u001b[1;31mModuleNotFoundError\u001b[0m                       Traceback (most recent call last)",
      "Cell \u001b[1;32mIn[53], line 1\u001b[0m\n\u001b[1;32m----> 1\u001b[0m \u001b[38;5;28;01mfrom\u001b[39;00m \u001b[38;5;21;01mkeras\u001b[39;00m\u001b[38;5;21;01m.\u001b[39;00m\u001b[38;5;21;01mmodels\u001b[39;00m \u001b[38;5;28;01mimport\u001b[39;00m Sequential\n\u001b[0;32m      2\u001b[0m \u001b[38;5;28;01mfrom\u001b[39;00m \u001b[38;5;21;01mkeras\u001b[39;00m\u001b[38;5;21;01m.\u001b[39;00m\u001b[38;5;21;01mlayers\u001b[39;00m \u001b[38;5;28;01mimport\u001b[39;00m LSTM, Dense\n",
      "File \u001b[1;32m~\\anaconda3\\lib\\site-packages\\keras\\__init__.py:20\u001b[0m\n\u001b[0;32m      1\u001b[0m \u001b[38;5;66;03m# Copyright 2015 The TensorFlow Authors. All Rights Reserved.\u001b[39;00m\n\u001b[0;32m      2\u001b[0m \u001b[38;5;66;03m#\u001b[39;00m\n\u001b[0;32m      3\u001b[0m \u001b[38;5;66;03m# Licensed under the Apache License, Version 2.0 (the \"License\");\u001b[39;00m\n\u001b[1;32m   (...)\u001b[0m\n\u001b[0;32m     13\u001b[0m \u001b[38;5;66;03m# limitations under the License.\u001b[39;00m\n\u001b[0;32m     14\u001b[0m \u001b[38;5;66;03m# ==============================================================================\u001b[39;00m\n\u001b[0;32m     15\u001b[0m \u001b[38;5;124;03m\"\"\"Implementation of the Keras API, the high-level API of TensorFlow.\u001b[39;00m\n\u001b[0;32m     16\u001b[0m \n\u001b[0;32m     17\u001b[0m \u001b[38;5;124;03mDetailed documentation and user guides are available at\u001b[39;00m\n\u001b[0;32m     18\u001b[0m \u001b[38;5;124;03m[keras.io](https://keras.io).\u001b[39;00m\n\u001b[0;32m     19\u001b[0m \u001b[38;5;124;03m\"\"\"\u001b[39;00m\n\u001b[1;32m---> 20\u001b[0m \u001b[38;5;28;01mfrom\u001b[39;00m \u001b[38;5;21;01mkeras\u001b[39;00m \u001b[38;5;28;01mimport\u001b[39;00m distribute\n\u001b[0;32m     21\u001b[0m \u001b[38;5;28;01mfrom\u001b[39;00m \u001b[38;5;21;01mkeras\u001b[39;00m \u001b[38;5;28;01mimport\u001b[39;00m models\n\u001b[0;32m     22\u001b[0m \u001b[38;5;28;01mfrom\u001b[39;00m \u001b[38;5;21;01mkeras\u001b[39;00m\u001b[38;5;21;01m.\u001b[39;00m\u001b[38;5;21;01mengine\u001b[39;00m\u001b[38;5;21;01m.\u001b[39;00m\u001b[38;5;21;01minput_layer\u001b[39;00m \u001b[38;5;28;01mimport\u001b[39;00m Input\n",
      "File \u001b[1;32m~\\anaconda3\\lib\\site-packages\\keras\\distribute\\__init__.py:18\u001b[0m\n\u001b[0;32m      1\u001b[0m \u001b[38;5;66;03m# Copyright 2019 The TensorFlow Authors. All Rights Reserved.\u001b[39;00m\n\u001b[0;32m      2\u001b[0m \u001b[38;5;66;03m#\u001b[39;00m\n\u001b[0;32m      3\u001b[0m \u001b[38;5;66;03m# Licensed under the Apache License, Version 2.0 (the \"License\");\u001b[39;00m\n\u001b[1;32m   (...)\u001b[0m\n\u001b[0;32m     13\u001b[0m \u001b[38;5;66;03m# limitations under the License.\u001b[39;00m\n\u001b[0;32m     14\u001b[0m \u001b[38;5;66;03m# ==============================================================================\u001b[39;00m\n\u001b[0;32m     15\u001b[0m \u001b[38;5;124;03m\"\"\"Keras' Distribution Strategy library.\"\"\"\u001b[39;00m\n\u001b[1;32m---> 18\u001b[0m \u001b[38;5;28;01mfrom\u001b[39;00m \u001b[38;5;21;01mkeras\u001b[39;00m\u001b[38;5;21;01m.\u001b[39;00m\u001b[38;5;21;01mdistribute\u001b[39;00m \u001b[38;5;28;01mimport\u001b[39;00m sidecar_evaluator\n",
      "File \u001b[1;32m~\\anaconda3\\lib\\site-packages\\keras\\distribute\\sidecar_evaluator.py:17\u001b[0m\n\u001b[0;32m      1\u001b[0m \u001b[38;5;66;03m# Copyright 2020 The TensorFlow Authors. All Rights Reserved.\u001b[39;00m\n\u001b[0;32m      2\u001b[0m \u001b[38;5;66;03m#\u001b[39;00m\n\u001b[0;32m      3\u001b[0m \u001b[38;5;66;03m# Licensed under the Apache License, Version 2.0 (the \"License\");\u001b[39;00m\n\u001b[1;32m   (...)\u001b[0m\n\u001b[0;32m     13\u001b[0m \u001b[38;5;66;03m# limitations under the License.\u001b[39;00m\n\u001b[0;32m     14\u001b[0m \u001b[38;5;66;03m# ==============================================================================\u001b[39;00m\n\u001b[0;32m     15\u001b[0m \u001b[38;5;124;03m\"\"\"Python module for evaluation loop.\"\"\"\u001b[39;00m\n\u001b[1;32m---> 17\u001b[0m \u001b[38;5;28;01mimport\u001b[39;00m \u001b[38;5;21;01mtensorflow\u001b[39;00m\u001b[38;5;21;01m.\u001b[39;00m\u001b[38;5;21;01mcompat\u001b[39;00m\u001b[38;5;21;01m.\u001b[39;00m\u001b[38;5;21;01mv2\u001b[39;00m \u001b[38;5;28;01mas\u001b[39;00m \u001b[38;5;21;01mtf\u001b[39;00m\n\u001b[0;32m     19\u001b[0m \u001b[38;5;66;03m# isort: off\u001b[39;00m\n\u001b[0;32m     20\u001b[0m \u001b[38;5;28;01mfrom\u001b[39;00m \u001b[38;5;21;01mtensorflow\u001b[39;00m\u001b[38;5;21;01m.\u001b[39;00m\u001b[38;5;21;01mpython\u001b[39;00m\u001b[38;5;21;01m.\u001b[39;00m\u001b[38;5;21;01mplatform\u001b[39;00m \u001b[38;5;28;01mimport\u001b[39;00m tf_logging \u001b[38;5;28;01mas\u001b[39;00m logging\n",
      "\u001b[1;31mModuleNotFoundError\u001b[0m: No module named 'tensorflow'"
     ]
    }
   ],
   "source": [
    "from keras.models import Sequential\n",
    "from keras.layers import LSTM, Dense"
   ]
  },
  {
   "cell_type": "code",
   "execution_count": null,
   "metadata": {},
   "outputs": [],
   "source": [
    "model = Sequential()\n",
    "model.add(LSTM(4, input_shape=(Xtrain.shape[1], Xtrain.shape[2])))\n",
    "model.add(Dense(1))\n",
    "model.compile(loss=\"mean_squared_error\", optimizer=\"adam\")\n",
    "model.fit(\n",
    "    Xtrain, ytrain, epochs=100, validation_data=(Xtest, ytest), batch_size=16, verbose=1\n",
    ")"
   ]
  },
  {
   "cell_type": "code",
   "execution_count": null,
   "metadata": {},
   "outputs": [],
   "source": [
    "model.summary()"
   ]
  },
  {
   "cell_type": "code",
   "execution_count": null,
   "metadata": {},
   "outputs": [],
   "source": [
    "trainPredict = model.predict(Xtrain)\n",
    "testPredict = model.predict(Xtest)"
   ]
  },
  {
   "cell_type": "code",
   "execution_count": null,
   "metadata": {},
   "outputs": [],
   "source": [
    "trainPredict = np.c_[trainPredict, np.zeros(trainPredict.shape)]\n",
    "testPredict = np.c_[testPredict, np.zeros(testPredict.shape)]"
   ]
  },
  {
   "cell_type": "code",
   "execution_count": null,
   "metadata": {},
   "outputs": [],
   "source": [
    "#invert predictions\n",
    "trainPredict = scaler.inverse_transform(trainPredict)\n",
    "trainPredict = [x[0] for x in trainPredict]\n",
    "\n",
    "testPredict = scaler.inverse_transform(testPredict)\n",
    "testPredict = [x[0] for x in testPredict]"
   ]
  },
  {
   "cell_type": "code",
   "execution_count": null,
   "metadata": {},
   "outputs": [],
   "source": [
    "print(trainPredict[:20])\n",
    "print(testPredict[:20])"
   ]
  },
  {
   "cell_type": "code",
   "execution_count": null,
   "metadata": {},
   "outputs": [],
   "source": [
    "print(trainPredict)\n"
   ]
  },
  {
   "cell_type": "code",
   "execution_count": null,
   "metadata": {},
   "outputs": [],
   "source": [
    "from sklearn.metrics import mean_squared_error"
   ]
  },
  {
   "cell_type": "code",
   "execution_count": null,
   "metadata": {},
   "outputs": [],
   "source": [
    "#calculate root mean squared error\n",
    "trainScore = mean_squared_error([x[0][0] for x in Xtrain], trainPredict, squared=False)\n",
    "print(\"Train Score: %.2f RMSE\" % (trainScore))"
   ]
  },
  {
   "cell_type": "code",
   "execution_count": null,
   "metadata": {},
   "outputs": [],
   "source": [
    "testScore = mean_squared_error([x[0][0] for x in Xtest], testPredict, squared=False)\n",
    "print(\"Test Score: %.2f RMSE\" % (testScore))"
   ]
  },
  {
   "cell_type": "code",
   "execution_count": null,
   "metadata": {},
   "outputs": [],
   "source": [
    "plt.figure(1, figsize=(16,6)) \n",
    "_ = plt.plot(trainPredict[:20])"
   ]
  },
  {
   "cell_type": "code",
   "execution_count": null,
   "metadata": {},
   "outputs": [],
   "source": [
    "# Apilar los __DataFrames__ uno encima del otro\n",
    "type(df.Close)"
   ]
  },
  {
   "cell_type": "code",
   "execution_count": null,
   "metadata": {},
   "outputs": [],
   "source": [
    "type(trainPredict[:20])"
   ]
  },
  {
   "cell_type": "code",
   "execution_count": null,
   "metadata": {},
   "outputs": [],
   "source": [
    "df_close_list = df.Close.tolist()"
   ]
  },
  {
   "cell_type": "code",
   "execution_count": null,
   "metadata": {},
   "outputs": [],
   "source": [
    "tendencia = df_close_list + trainPredict[:20]"
   ]
  },
  {
   "cell_type": "code",
   "execution_count": null,
   "metadata": {},
   "outputs": [],
   "source": [
    "plt.figure(1, figsize=(16,6)) \n",
    "_ = plt.plot(df_close_list)"
   ]
  },
  {
   "cell_type": "code",
   "execution_count": null,
   "metadata": {},
   "outputs": [],
   "source": [
    "plt.figure(1, figsize=(16,6)) \n",
    "_ = plt.plot(tendencia)"
   ]
  },
  {
   "cell_type": "code",
   "execution_count": null,
   "metadata": {},
   "outputs": [],
   "source": []
  }
 ],
 "metadata": {
  "kernelspec": {
   "display_name": "Python 3 (ipykernel)",
   "language": "python",
   "name": "python3"
  },
  "language_info": {
   "codemirror_mode": {
    "name": "ipython",
    "version": 3
   },
   "file_extension": ".py",
   "mimetype": "text/x-python",
   "name": "python",
   "nbconvert_exporter": "python",
   "pygments_lexer": "ipython3",
   "version": "3.10.9"
  }
 },
 "nbformat": 4,
 "nbformat_minor": 4
}
