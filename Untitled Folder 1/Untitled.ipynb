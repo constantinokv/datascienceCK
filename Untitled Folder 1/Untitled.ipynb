{
 "cells": [
  {
   "cell_type": "code",
   "execution_count": 1,
   "id": "1ab0a480",
   "metadata": {},
   "outputs": [
    {
     "name": "stdout",
     "output_type": "stream",
     "text": [
      "Antes de llamar a la función\n",
      "¡Hola, mundo!\n",
      "Después de llamar a la función\n"
     ]
    }
   ],
   "source": [
    "# Definir un decorador\n",
    "def mi_decorador(func):\n",
    "    def wrapper():\n",
    "        print(\"Antes de llamar a la función\")\n",
    "        func()\n",
    "        print(\"Después de llamar a la función\")\n",
    "    return wrapper\n",
    "\n",
    "# Usar el decorador\n",
    "@mi_decorador\n",
    "def saludar():\n",
    "    print(\"¡Hola, mundo!\")\n",
    "\n",
    "# Llamar a la función decorada\n",
    "saludar()\n"
   ]
  },
  {
   "cell_type": "code",
   "execution_count": 2,
   "id": "be340fb8",
   "metadata": {},
   "outputs": [
    {
     "name": "stdout",
     "output_type": "stream",
     "text": [
      "Antes de llamar a la función\n",
      "Después de llamar a la función\n",
      "¡Hola, mundo!\n"
     ]
    }
   ],
   "source": [
    "# Definir un decorador\n",
    "def mi_decorador(func):\n",
    "    def wrapper():\n",
    "        print(\"Antes de llamar a la función\")\n",
    "        \n",
    "        print(\"Después de llamar a la función\")\n",
    "        func()\n",
    "    return wrapper\n",
    "\n",
    "# Usar el decorador\n",
    "@mi_decorador\n",
    "def saludar():\n",
    "    print(\"¡Hola, mundo!\")\n",
    "\n",
    "# Llamar a la función decorada\n",
    "saludar()\n"
   ]
  },
  {
   "cell_type": "code",
   "execution_count": 3,
   "id": "de214c43",
   "metadata": {},
   "outputs": [
    {
     "name": "stdout",
     "output_type": "stream",
     "text": [
      "Bienvenido, John!\n"
     ]
    }
   ],
   "source": [
    "# Definir un decorador con argumentos\n",
    "def saludo_personalizado(saludo):\n",
    "    def decorador(func):\n",
    "        def wrapper(nombre):\n",
    "            mensaje = f\"{saludo}, {nombre}!\"\n",
    "            func(mensaje)\n",
    "        return wrapper\n",
    "    return decorador\n",
    "\n",
    "# Usar el decorador con argumentos\n",
    "@saludo_personalizado(\"Bienvenido\")\n",
    "def imprimir_mensaje(mensaje):\n",
    "    print(mensaje)\n",
    "\n",
    "# Llamar a la función decorada\n",
    "imprimir_mensaje(\"John\")\n"
   ]
  },
  {
   "cell_type": "code",
   "execution_count": 4,
   "id": "09801f93",
   "metadata": {},
   "outputs": [
    {
     "name": "stdout",
     "output_type": "stream",
     "text": [
      "({'Bienvenido'}, 'John!')\n"
     ]
    }
   ],
   "source": [
    "# Definir un decorador con argumentos\n",
    "def saludo_personalizado(saludo):\n",
    "    def decorador(func):\n",
    "        def wrapper(nombre):\n",
    "            mensaje = {saludo}, f\"{nombre}!\"\n",
    "            func(mensaje)\n",
    "        return wrapper\n",
    "    return decorador\n",
    "\n",
    "# Usar el decorador con argumentos\n",
    "@saludo_personalizado(\"Bienvenido\")\n",
    "def imprimir_mensaje(mensaje):\n",
    "    print(mensaje)\n",
    "\n",
    "# Llamar a la función decorada\n",
    "imprimir_mensaje(\"John\")\n"
   ]
  },
  {
   "cell_type": "code",
   "execution_count": 5,
   "id": "7d388ef2",
   "metadata": {},
   "outputs": [
    {
     "name": "stdout",
     "output_type": "stream",
     "text": [
      "[2, 4, 6, 8, 10]\n"
     ]
    }
   ],
   "source": [
    "# Definir una función lambda para duplicar un número\n",
    "duplicar = lambda x: x * 2\n",
    "\n",
    "# Lista de números\n",
    "numeros = [1, 2, 3, 4, 5]\n",
    "\n",
    "# Aplicar la función lambda a cada elemento de la lista usando map\n",
    "resultados_map = map(duplicar, numeros)\n",
    "\n",
    "# Convertir el objeto map a una lista para ver los resultados\n",
    "lista_resultados = list(resultados_map)\n",
    "\n",
    "print(lista_resultados)  # Salida: [2, 4, 6, 8, 10]\n"
   ]
  },
  {
   "cell_type": "code",
   "execution_count": 6,
   "id": "4b744708",
   "metadata": {},
   "outputs": [
    {
     "name": "stdout",
     "output_type": "stream",
     "text": [
      "<map object at 0x00000166BA2CDBD0>\n"
     ]
    }
   ],
   "source": [
    "# Definir una función lambda para duplicar un número\n",
    "duplicar = lambda x: x * 2\n",
    "\n",
    "# Lista de números\n",
    "numeros = [1, 2, 3, 4, 5]\n",
    "\n",
    "# Aplicar la función lambda a cada elemento de la lista usando map\n",
    "resultados_map = map(duplicar, numeros)\n",
    "\n",
    "# Convertir el objeto map a una lista para ver los resultados\n",
    "lista_resultados = list(resultados_map)\n",
    "\n",
    "print(resultados_map)  # Salida: [2, 4, 6, 8, 10]\n"
   ]
  },
  {
   "cell_type": "code",
   "execution_count": 7,
   "id": "ce077188",
   "metadata": {},
   "outputs": [
    {
     "ename": "SyntaxError",
     "evalue": "invalid syntax (2619439424.py, line 1)",
     "output_type": "error",
     "traceback": [
      "\u001b[1;36m  Cell \u001b[1;32mIn[7], line 1\u001b[1;36m\u001b[0m\n\u001b[1;33m    .join(['John','Ray'])\u001b[0m\n\u001b[1;37m    ^\u001b[0m\n\u001b[1;31mSyntaxError\u001b[0m\u001b[1;31m:\u001b[0m invalid syntax\n"
     ]
    }
   ],
   "source": [
    ".join(['John','Ray'])"
   ]
  },
  {
   "cell_type": "code",
   "execution_count": 8,
   "id": "36d37bdb",
   "metadata": {},
   "outputs": [
    {
     "ename": "NameError",
     "evalue": "name 'join' is not defined",
     "output_type": "error",
     "traceback": [
      "\u001b[1;31m---------------------------------------------------------------------------\u001b[0m",
      "\u001b[1;31mNameError\u001b[0m                                 Traceback (most recent call last)",
      "Cell \u001b[1;32mIn[8], line 1\u001b[0m\n\u001b[1;32m----> 1\u001b[0m \u001b[43mjoin\u001b[49m([\u001b[38;5;124m'\u001b[39m\u001b[38;5;124mJohn\u001b[39m\u001b[38;5;124m'\u001b[39m,\u001b[38;5;124m'\u001b[39m\u001b[38;5;124mRay\u001b[39m\u001b[38;5;124m'\u001b[39m])\n",
      "\u001b[1;31mNameError\u001b[0m: name 'join' is not defined"
     ]
    }
   ],
   "source": [
    "join(['John','Ray'])"
   ]
  },
  {
   "cell_type": "code",
   "execution_count": 10,
   "id": "39434923",
   "metadata": {},
   "outputs": [
    {
     "data": {
      "text/plain": [
       "\".join(['John','Ray'])\""
      ]
     },
     "execution_count": 10,
     "metadata": {},
     "output_type": "execute_result"
    }
   ],
   "source": [
    "\".join(['John','Ray'])\""
   ]
  },
  {
   "cell_type": "code",
   "execution_count": 13,
   "id": "98508b37",
   "metadata": {},
   "outputs": [
    {
     "name": "stdout",
     "output_type": "stream",
     "text": [
      "John_Ray\n"
     ]
    }
   ],
   "source": [
    "# Usar el método join para concatenar los nombres con un espacio en blanco\n",
    "resultado = '_'.join(['John', 'Ray'])\n",
    "\n",
    "# Imprimir el resultado\n",
    "print(resultado)\n"
   ]
  },
  {
   "cell_type": "code",
   "execution_count": 14,
   "id": "74bd5434",
   "metadata": {},
   "outputs": [
    {
     "name": "stdout",
     "output_type": "stream",
     "text": [
      "0\n",
      "1\n",
      "1\n",
      "2\n",
      "3\n"
     ]
    }
   ],
   "source": [
    "def fibonacci_generador(n):\n",
    "    a, b = 0, 1\n",
    "    contador = 0\n",
    "    while contador < n:\n",
    "        yield a\n",
    "        a, b = b, a + b\n",
    "        contador += 1\n",
    "\n",
    "# Usar el generador\n",
    "fibonacci = fibonacci_generador(5)\n",
    "for numero in fibonacci:\n",
    "    print(numero)\n"
   ]
  },
  {
   "cell_type": "code",
   "execution_count": 15,
   "id": "74ce0c31",
   "metadata": {},
   "outputs": [
    {
     "name": "stdout",
     "output_type": "stream",
     "text": [
      "0\n",
      "1\n",
      "1\n",
      "2\n",
      "3\n",
      "5\n",
      "8\n",
      "13\n",
      "21\n",
      "34\n",
      "55\n",
      "89\n",
      "144\n",
      "233\n",
      "377\n",
      "610\n",
      "987\n",
      "1597\n",
      "2584\n",
      "4181\n",
      "6765\n",
      "10946\n",
      "17711\n",
      "28657\n",
      "46368\n",
      "75025\n",
      "121393\n",
      "196418\n",
      "317811\n",
      "514229\n",
      "832040\n",
      "1346269\n",
      "2178309\n",
      "3524578\n",
      "5702887\n",
      "9227465\n",
      "14930352\n",
      "24157817\n",
      "39088169\n",
      "63245986\n",
      "102334155\n",
      "165580141\n",
      "267914296\n",
      "433494437\n",
      "701408733\n",
      "1134903170\n",
      "1836311903\n",
      "2971215073\n",
      "4807526976\n",
      "7778742049\n",
      "12586269025\n",
      "20365011074\n",
      "32951280099\n",
      "53316291173\n",
      "86267571272\n",
      "139583862445\n",
      "225851433717\n",
      "365435296162\n",
      "591286729879\n",
      "956722026041\n",
      "1548008755920\n",
      "2504730781961\n",
      "4052739537881\n",
      "6557470319842\n",
      "10610209857723\n",
      "17167680177565\n",
      "27777890035288\n",
      "44945570212853\n",
      "72723460248141\n",
      "117669030460994\n",
      "190392490709135\n",
      "308061521170129\n",
      "498454011879264\n",
      "806515533049393\n",
      "1304969544928657\n",
      "2111485077978050\n",
      "3416454622906707\n",
      "5527939700884757\n",
      "8944394323791464\n",
      "14472334024676221\n",
      "23416728348467685\n",
      "37889062373143906\n",
      "61305790721611591\n",
      "99194853094755497\n",
      "160500643816367088\n",
      "259695496911122585\n",
      "420196140727489673\n",
      "679891637638612258\n",
      "1100087778366101931\n",
      "1779979416004714189\n",
      "2880067194370816120\n",
      "4660046610375530309\n",
      "7540113804746346429\n",
      "12200160415121876738\n",
      "19740274219868223167\n",
      "31940434634990099905\n",
      "51680708854858323072\n",
      "83621143489848422977\n",
      "135301852344706746049\n",
      "218922995834555169026\n",
      "354224848179261915075\n",
      "573147844013817084101\n",
      "927372692193078999176\n",
      "1500520536206896083277\n",
      "2427893228399975082453\n"
     ]
    }
   ],
   "source": [
    "# Usar el generador\n",
    "fibonacci = fibonacci_generador(105)\n",
    "for numero in fibonacci:\n",
    "    print(numero)"
   ]
  }
 ],
 "metadata": {
  "kernelspec": {
   "display_name": "Python 3 (ipykernel)",
   "language": "python",
   "name": "python3"
  },
  "language_info": {
   "codemirror_mode": {
    "name": "ipython",
    "version": 3
   },
   "file_extension": ".py",
   "mimetype": "text/x-python",
   "name": "python",
   "nbconvert_exporter": "python",
   "pygments_lexer": "ipython3",
   "version": "3.10.9"
  }
 },
 "nbformat": 4,
 "nbformat_minor": 5
}
