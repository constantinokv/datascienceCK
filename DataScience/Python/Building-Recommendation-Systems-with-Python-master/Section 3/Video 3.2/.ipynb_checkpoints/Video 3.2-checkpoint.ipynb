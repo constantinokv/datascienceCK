{
 "cells": [
  {
   "cell_type": "code",
   "execution_count": null,
   "metadata": {},
   "outputs": [],
   "source": [
    "import numpy as np\n",
    "import pandas as pd\n",
    "df_movies = pd.read_csv('movies.csv')\n",
    "df_links = pd.read_csv('links.csv')\n",
    "df_ratings = pd.read_csv('ratings.csv')\n",
    "df_tags = pd.read_csv('tags.csv')"
   ]
  },
  {
   "cell_type": "code",
   "execution_count": null,
   "metadata": {},
   "outputs": [],
   "source": [
    "df_movies.head()"
   ]
  },
  {
   "cell_type": "code",
   "execution_count": null,
   "metadata": {},
   "outputs": [],
   "source": [
    "df_ratings.head()"
   ]
  },
  {
   "cell_type": "code",
   "execution_count": null,
   "metadata": {},
   "outputs": [],
   "source": [
    "df_tags.head()"
   ]
  },
  {
   "cell_type": "code",
   "execution_count": null,
   "metadata": {},
   "outputs": [],
   "source": [
    "import math \n",
    "tf = df_tags.groupby(['movieId','tag'], as_index=False, sort=False)\\\n",
    "         .count()\\\n",
    "         .rename(columns = {'userId':'tag_count_tf'})[['movieId','tag','tag_count_tf']]\n",
    "tag_distinct = df_tags[['tag','movieId']].drop_duplicates()\n"
   ]
  },
  {
   "cell_type": "code",
   "execution_count": null,
   "metadata": {},
   "outputs": [],
   "source": [
    "df = tag_distinct.groupby(['tag'], as_index=False, sort=False)\\\n",
    "                 .count()\\\n",
    "                 .rename(columns = {'movieId':'tag_count_df'})[['tag','tag_count_df']]\n"
   ]
  },
  {
   "cell_type": "code",
   "execution_count": null,
   "metadata": {},
   "outputs": [],
   "source": [
    "idf = math.log10(len(np.unique(df_tags['movieId'])))\n",
    "df['idf'] = idf-np.log10(df['tag_count_df'])\n"
   ]
  },
  {
   "cell_type": "code",
   "execution_count": null,
   "metadata": {},
   "outputs": [],
   "source": [
    "tf = pd.merge(tf, df, on='tag', how='left', sort=False)\n",
    "tf['tf-idf'] = tf['tag_count_tf']*tf['idf']\n"
   ]
  },
  {
   "cell_type": "code",
   "execution_count": null,
   "metadata": {},
   "outputs": [],
   "source": [
    "tf[['movieId','tag','tf-idf']].head()"
   ]
  },
  {
   "cell_type": "code",
   "execution_count": null,
   "metadata": {},
   "outputs": [],
   "source": [
    "vect_length = tf.loc[:,('movieId','tf-idf')]"
   ]
  },
  {
   "cell_type": "code",
   "execution_count": null,
   "metadata": {},
   "outputs": [],
   "source": [
    "vect_length['tf-idf-sq'] = vect_length['tf-idf']**2\n",
    "vect_length = vect_length.groupby(['movieId'], as_index=False, sort=False)\\\n",
    "                   .sum()\\\n",
    "                   .rename(columns = {'tf-idf-sq':'tf-idf-sq-total'})[['movieId','tf-idf-sq-total']]\n",
    "vect_length['vect_length'] = np.sqrt(vect_length[['tf-idf-sq-total']].sum(axis=1))\n",
    "\n",
    "tf = pd.merge(tf, vect_length, on='movieId', how='left', sort=False)\n",
    "tf['tag_vec'] = tf['tf-idf']/tf['vect_length']\n"
   ]
  },
  {
   "cell_type": "code",
   "execution_count": null,
   "metadata": {},
   "outputs": [],
   "source": [
    "tf[['movieId','tag','tf-idf','vect_length','tag_vec']].head()\n"
   ]
  },
  {
   "cell_type": "code",
   "execution_count": null,
   "metadata": {},
   "outputs": [],
   "source": [
    "ratings_filter = df_ratings[df_ratings['rating']>=3]\n",
    "user_distinct = np.unique(df_ratings['userId'])\n",
    "user_tag_pref = pd.DataFrame()\n",
    "i = 1"
   ]
  },
  {
   "cell_type": "code",
   "execution_count": null,
   "metadata": {},
   "outputs": [],
   "source": [
    "userId = 89"
   ]
  },
  {
   "cell_type": "code",
   "execution_count": null,
   "metadata": {},
   "outputs": [],
   "source": [
    "user_index = user_distinct.tolist().index(userId)\n",
    "\n",
    "for user in user_distinct[user_index:user_index+1]:\n",
    "    \n",
    "    if i%30==0:\n",
    "        print (\"user: \", i , \"out of: \", len(user_distinct))\n",
    "            \n",
    "    user_data= ratings_filter[ratings_filter['userId']==user]\n",
    "    user_data = pd.merge(tf,user_data, on = 'movieId', how = 'inner', sort = False)\n",
    "    user_data_itr = user_data.groupby(['tag'], as_index = False, sort = False)\\\n",
    "                             .sum()\\\n",
    "                             .rename(columns = {'tag_vec': 'tag_pref'})[['tag','tag_pref']]\n",
    "    user_data_itr['user']=user\n",
    "    user_tag_pref = user_tag_pref.append(user_data_itr, ignore_index=True)\n",
    "    i=i+1\n"
   ]
  },
  {
   "cell_type": "code",
   "execution_count": null,
   "metadata": {},
   "outputs": [],
   "source": [
    "user_tag_pref.head()"
   ]
  },
  {
   "cell_type": "code",
   "execution_count": null,
   "metadata": {},
   "outputs": [],
   "source": [
    "import pandas as pd\n",
    "\n",
    "user_distinct = np.unique(ratings_filter['userId'])\n",
    "tag_merge_all = pd.DataFrame()\n",
    "i = 1\n"
   ]
  },
  {
   "cell_type": "code",
   "execution_count": null,
   "metadata": {},
   "outputs": [],
   "source": [
    "userId = 89"
   ]
  },
  {
   "cell_type": "code",
   "execution_count": null,
   "metadata": {},
   "outputs": [],
   "source": [
    "user_index = user_distinct.tolist().index(userId)\n",
    "\n",
    "for user in user_distinct[user_index:user_index+1]:\n",
    "\n",
    "    user_tag_pref_all = user_tag_pref[user_tag_pref['user']==user]\n",
    "    movie_distinct = np.unique(tf['movieId'])\n",
    "    j = 1\n",
    "    \n",
    "    for movie in movie_distinct:\n",
    "        \n",
    "        if j%1000==0:\n",
    "            print (\"movie: \", j, \"out of: \", len(movie_distinct), \"with user: \", i, \"out of: \", len(user_distinct))\n",
    "        \n",
    "        tf_movie = tf[tf['movieId']==movie]\n",
    "        tag_merge = pd.merge(tf_movie, user_tag_pref_all, on = 'tag', how = 'left', sort = False)\n",
    "        tag_merge['tag_pref'] = tag_merge['tag_pref'].fillna(0)\n",
    "        tag_merge['tag_value'] = tag_merge['tag_vec']*tag_merge['tag_pref']\n",
    "        \n",
    "        tag_vec_val = np.sqrt(np.sum(np.square(tag_merge['tag_vec']), axis=0))\n",
    "        tag_pref_val = np.sqrt(np.sum(np.square(user_tag_pref_all['tag_pref']), axis=0))\n",
    "        \n",
    "        tag_merge_final = tag_merge.groupby(['user','movieId'])[['tag_value']]\\\n",
    "                                   .sum()\\\n",
    "                                   .rename(columns = {'tag_value': 'rating'})\\\n",
    "                                   .reset_index()\n",
    "        \n",
    "        tag_merge_final['rating']=tag_merge_final['rating']/(tag_vec_val*tag_pref_val)\n",
    "        \n",
    "        tag_merge_all = tag_merge_all.append(tag_merge_final, ignore_index=True)\n",
    "        j=j+1\n",
    "    \n",
    "    i=i+1\n",
    "    \n",
    "tag_merge_all = tag_merge_all.sort_values(['user','rating'], ascending=False)\n"
   ]
  },
  {
   "cell_type": "code",
   "execution_count": null,
   "metadata": {},
   "outputs": [],
   "source": [
    "movies_rated = df_ratings[df_ratings['userId'] == userId]['movieId']\n",
    "tag_merge_all = tag_merge_all[~tag_merge_all['movieId'].isin(movies_rated)]\n",
    "tag_merge_all['user'] = tag_merge_all['user'].apply(np.int64)\n"
   ]
  },
  {
   "cell_type": "code",
   "execution_count": null,
   "metadata": {},
   "outputs": [],
   "source": [
    "tag_merge_all.head(10)"
   ]
  }
 ],
 "metadata": {
  "kernelspec": {
   "display_name": "Python 3",
   "language": "python",
   "name": "python3"
  },
  "language_info": {
   "codemirror_mode": {
    "name": "ipython",
    "version": 2
   },
   "file_extension": ".py",
   "mimetype": "text/x-python",
   "name": "python",
   "nbconvert_exporter": "python",
   "pygments_lexer": "ipython2",
   "version": "2.7.15rc1"
  }
 },
 "nbformat": 4,
 "nbformat_minor": 2
}
