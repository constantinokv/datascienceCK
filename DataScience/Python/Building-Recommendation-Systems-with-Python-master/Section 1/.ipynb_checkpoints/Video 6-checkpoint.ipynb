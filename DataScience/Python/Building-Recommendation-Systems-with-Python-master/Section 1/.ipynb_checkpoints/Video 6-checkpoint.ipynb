{
 "cells": [
  {
   "cell_type": "code",
   "execution_count": 21,
   "metadata": {},
   "outputs": [
    {
     "name": "stdout",
     "output_type": "stream",
     "text": [
      "          a         b         c         d         e\n",
      "0  1.450169  1.956904  1.279920 -0.806759  0.284524\n",
      "1 -0.359922 -0.445917  1.001644 -0.405297  0.257783\n",
      "2       NaN       NaN       NaN       NaN       NaN\n",
      "3  0.401386  0.197291 -0.672292  0.254545  0.557347\n",
      "4       NaN       NaN       NaN       NaN       NaN\n",
      "5  0.454488 -0.579570 -1.310963  0.496520 -0.730914\n",
      "6 -0.947803 -1.560577  0.350522  0.433788  0.834332\n",
      "7       NaN       NaN       NaN       NaN       NaN\n",
      "8 -0.115986  0.774386  0.755964  1.087795 -0.646172\n",
      "9  0.285680  0.143283 -0.785946 -0.011120 -0.457556\n"
     ]
    }
   ],
   "source": [
    "import pandas as pd\n",
    "import numpy as np\n",
    "\n",
    "df = pd.DataFrame(np.random.randn(7, 5), index=['0','1', '3', '5', '6',\n",
    "'8','9'],columns=['a', 'b', 'c', 'd', 'e'])\n",
    "\n",
    "df = df.reindex(['0','1', '2', '3', '4', '5', '6', '7', '8','9'])\n",
    "\n",
    "print df"
   ]
  }
 ],
 "metadata": {
  "kernelspec": {
   "display_name": "Python 3",
   "language": "python",
   "name": "python3"
  },
  "language_info": {
   "codemirror_mode": {
    "name": "ipython",
    "version": 2
   },
   "file_extension": ".py",
   "mimetype": "text/x-python",
   "name": "python",
   "nbconvert_exporter": "python",
   "pygments_lexer": "ipython2",
   "version": "2.7.15rc1"
  }
 },
 "nbformat": 4,
 "nbformat_minor": 2
}
